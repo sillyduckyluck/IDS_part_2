{
 "cells": [
  {
   "cell_type": "markdown",
   "id": "2d7f8fb5",
   "metadata": {
    "collapsed": false
   },
   "source": [
    "# Introduction into Data Science - Assignment Part II\n",
    "\n",
    "This is the second part of the assignment in IDS 2023/2024.\n",
    "\n",
    "This part of the assignment consists of five questions — each of these questions is contained in a separate Jupyter notebook:\n",
    "- [Question 1: Data Preprocessing](Q1_Preprocessing_Visualization.ipynb)\n",
    "- [Question 2: Association Rules](Q2_Frequent_Itemsets_Association_Rules.ipynb)\n",
    "- [Question 3: Process Mining](Q3_Process_Mining.ipynb)\n",
    "- [Question 4: Text Mining](Q4_Text_Mining.ipynb)\n",
    "- [Question 5: Big Data](Q5_Big_Data.ipynb)\n",
    "\n",
    "Additional required files are in two folders.\n",
    "- [datasets](datasets/)\n",
    "- [scripts](scripts/)\n",
    "\n",
    "Please use the provided notebook to work on the questions. When you are done, upload your version of each of the notebooks to Moodle. Your submission will, therefore, consist of five jupyter notebook and _no_ additional file. Any additionally provided files will not be considered in grading.\n",
    "Enter your commented Python code and answers in the corresponding cells. Make sure to answer all questions in a clear and explicit manner and discuss your outputs. _Please do not change the general structure of this notebook_. You can, however, add additional markdown or code cells if necessary. Please **DO NOT CLEAR THE OUTPUT** of the notebook you are submitting! Additionally, please ensure that the code in the notebook runs if placed in the same folder as all of the provided files, delivering the same outputs as the ones you submit in the notebook. This includes being runnable in the bundled conda environment.\n",
    "\n",
    "*Please make sure to include the names and matriculation numbers of all group members in the provided slots in each of the notebooks.* If a name or a student id is missing, the student will not receive any points.\n",
    "\n",
    "Hint 1: **Plan your time wisely.** A few parts of this assignment may take some time to run. It might be necessary to consider time management when you plan your group work. Also, do not attempt to upload your assignment at the last minute before the deadline. This often does not work, and you will miss the deadline. Late submissions will not be considered.\n",
    "\n",
    "Hint 2: RWTHMoodle allows multiple submissions, with every new submission overwriting the previous one. **Partial submissions are possible and encouraged.** This might be helpful in case of technical issues with RWTHMoodle, which may occur close to the deadline.\n",
    "\n",
    "Hint 3: As a technical note. Some IDEs such as DataSpell may automatically strip jupyter notebook cell metadata. If you are able, please re-add it from the source notebooks before submission. This is necessary for our grading."
   ]
  },
  {
   "cell_type": "markdown",
   "id": "689bbb54",
   "metadata": {},
   "source": [
    "Enter your group number and members with matriculation numbers below."
   ]
  },
  {
   "cell_type": "code",
   "execution_count": null,
   "id": "cdbfc200",
   "metadata": {
    "ExecuteTime": {
     "end_time": "2023-12-12T14:39:43.463127500Z",
     "start_time": "2023-12-12T14:39:43.450885200Z"
    }
   },
   "outputs": [],
   "source": [
    "GROUP_NO = 123 # group number\n",
    "GROUP_MEMBERS = {\n",
    "    123456: \"firstname lastname\", # mat. no. : name,\n",
    "    234567: \"firstname lastname\",\n",
    "    345678: \"firstname lastname\",\n",
    "}"
   ]
  },
  {
   "cell_type": "markdown",
   "id": "1a78a20f",
   "metadata": {},
   "source": [
    "---"
   ]
  },
  {
   "cell_type": "code",
   "execution_count": 1,
   "id": "643d3176-911a-4d06-a089-635a59262446",
   "metadata": {
    "deletable": false,
    "editable": false,
    "nbgrader": {
     "cell_type": "code",
     "checksum": "2e98628357389d97277fd5bb2304b422",
     "grade": false,
     "grade_id": "cell-11eb4e5385499089",
     "locked": true,
     "schema_version": 3,
     "solution": false,
     "task": false
    }
   },
   "outputs": [],
   "source": [
    "# required imports\n",
    "# please do not edit!\n",
    "import csv\n",
    "from mlxtend.preprocessing import TransactionEncoder\n",
    "import pandas as pd\n",
    "from mlxtend.frequent_patterns import apriori\n",
    "import datetime\n",
    "from mlxtend.frequent_patterns import association_rules as arule\n",
    "import pandas as pd\n",
    "from mlxtend.frequent_patterns import fpgrowth"
   ]
  },
  {
   "cell_type": "markdown",
   "id": "30536b42d3a4772d",
   "metadata": {
    "collapsed": false,
    "deletable": false,
    "editable": false,
    "nbgrader": {
     "cell_type": "markdown",
     "checksum": "a1996913dec4663ed32e804c6b11d75f",
     "grade": false,
     "grade_id": "cell-df5086a331965843",
     "locked": true,
     "schema_version": 3,
     "solution": false,
     "task": false
    }
   },
   "source": [
    "# Question 2: Frequent Item Sets and Association Rules (13 points)\n",
    "\n",
    "In this question, you work with transaction data of the customer's visits to the store.\n",
    "\n",
    "### a) \n",
    "Load the transactions from the csv-file called **q2_store_transactions.csv** into a variable called `groceries`. The variable should be a list and each row in the csv-file should be represented as a list within this list."
   ]
  },
  {
   "cell_type": "code",
   "execution_count": 7,
   "id": "271f956f-b6ef-4413-ab4d-9d64d394b1d8",
   "metadata": {
    "deletable": false,
    "nbgrader": {
     "cell_type": "code",
     "checksum": "17f81d2c952b41eb7c00216ad9d1ab07",
     "grade": false,
     "grade_id": "cell-c0de0ba5c6febe0c",
     "locked": false,
     "schema_version": 3,
     "solution": true,
     "task": false
    }
   },
   "outputs": [
    {
     "data": {
      "text/html": [
       "<div>\n",
       "<style scoped>\n",
       "    .dataframe tbody tr th:only-of-type {\n",
       "        vertical-align: middle;\n",
       "    }\n",
       "\n",
       "    .dataframe tbody tr th {\n",
       "        vertical-align: top;\n",
       "    }\n",
       "\n",
       "    .dataframe thead th {\n",
       "        text-align: right;\n",
       "    }\n",
       "</style>\n",
       "<table border=\"1\" class=\"dataframe\">\n",
       "  <thead>\n",
       "    <tr style=\"text-align: right;\">\n",
       "      <th></th>\n",
       "      <th>0</th>\n",
       "      <th>1</th>\n",
       "      <th>2</th>\n",
       "      <th>3</th>\n",
       "      <th>4</th>\n",
       "      <th>5</th>\n",
       "      <th>6</th>\n",
       "      <th>7</th>\n",
       "      <th>8</th>\n",
       "      <th>9</th>\n",
       "      <th>10</th>\n",
       "      <th>11</th>\n",
       "      <th>12</th>\n",
       "      <th>13</th>\n",
       "      <th>14</th>\n",
       "      <th>15</th>\n",
       "      <th>16</th>\n",
       "      <th>17</th>\n",
       "      <th>18</th>\n",
       "      <th>19</th>\n",
       "    </tr>\n",
       "  </thead>\n",
       "  <tbody>\n",
       "    <tr>\n",
       "      <th>0</th>\n",
       "      <td>shrimp</td>\n",
       "      <td>almonds</td>\n",
       "      <td>avocado</td>\n",
       "      <td>vegetables mix</td>\n",
       "      <td>green grapes</td>\n",
       "      <td>whole weat flour</td>\n",
       "      <td>yams</td>\n",
       "      <td>cottage cheese</td>\n",
       "      <td>energy drink</td>\n",
       "      <td>tomato juice</td>\n",
       "      <td>low fat yogurt</td>\n",
       "      <td>green tea</td>\n",
       "      <td>honey</td>\n",
       "      <td>salad</td>\n",
       "      <td>mineral water</td>\n",
       "      <td>salmon</td>\n",
       "      <td>antioxydant juice</td>\n",
       "      <td>frozen smoothie</td>\n",
       "      <td>spinach</td>\n",
       "      <td>olive oil</td>\n",
       "    </tr>\n",
       "    <tr>\n",
       "      <th>1</th>\n",
       "      <td>burgers</td>\n",
       "      <td>meatballs</td>\n",
       "      <td>eggs</td>\n",
       "      <td>NaN</td>\n",
       "      <td>NaN</td>\n",
       "      <td>NaN</td>\n",
       "      <td>NaN</td>\n",
       "      <td>NaN</td>\n",
       "      <td>NaN</td>\n",
       "      <td>NaN</td>\n",
       "      <td>NaN</td>\n",
       "      <td>NaN</td>\n",
       "      <td>NaN</td>\n",
       "      <td>NaN</td>\n",
       "      <td>NaN</td>\n",
       "      <td>NaN</td>\n",
       "      <td>NaN</td>\n",
       "      <td>NaN</td>\n",
       "      <td>NaN</td>\n",
       "      <td>NaN</td>\n",
       "    </tr>\n",
       "    <tr>\n",
       "      <th>2</th>\n",
       "      <td>chutney</td>\n",
       "      <td>NaN</td>\n",
       "      <td>NaN</td>\n",
       "      <td>NaN</td>\n",
       "      <td>NaN</td>\n",
       "      <td>NaN</td>\n",
       "      <td>NaN</td>\n",
       "      <td>NaN</td>\n",
       "      <td>NaN</td>\n",
       "      <td>NaN</td>\n",
       "      <td>NaN</td>\n",
       "      <td>NaN</td>\n",
       "      <td>NaN</td>\n",
       "      <td>NaN</td>\n",
       "      <td>NaN</td>\n",
       "      <td>NaN</td>\n",
       "      <td>NaN</td>\n",
       "      <td>NaN</td>\n",
       "      <td>NaN</td>\n",
       "      <td>NaN</td>\n",
       "    </tr>\n",
       "    <tr>\n",
       "      <th>3</th>\n",
       "      <td>turkey</td>\n",
       "      <td>avocado</td>\n",
       "      <td>NaN</td>\n",
       "      <td>NaN</td>\n",
       "      <td>NaN</td>\n",
       "      <td>NaN</td>\n",
       "      <td>NaN</td>\n",
       "      <td>NaN</td>\n",
       "      <td>NaN</td>\n",
       "      <td>NaN</td>\n",
       "      <td>NaN</td>\n",
       "      <td>NaN</td>\n",
       "      <td>NaN</td>\n",
       "      <td>NaN</td>\n",
       "      <td>NaN</td>\n",
       "      <td>NaN</td>\n",
       "      <td>NaN</td>\n",
       "      <td>NaN</td>\n",
       "      <td>NaN</td>\n",
       "      <td>NaN</td>\n",
       "    </tr>\n",
       "    <tr>\n",
       "      <th>4</th>\n",
       "      <td>mineral water</td>\n",
       "      <td>milk</td>\n",
       "      <td>energy bar</td>\n",
       "      <td>whole wheat rice</td>\n",
       "      <td>green tea</td>\n",
       "      <td>NaN</td>\n",
       "      <td>NaN</td>\n",
       "      <td>NaN</td>\n",
       "      <td>NaN</td>\n",
       "      <td>NaN</td>\n",
       "      <td>NaN</td>\n",
       "      <td>NaN</td>\n",
       "      <td>NaN</td>\n",
       "      <td>NaN</td>\n",
       "      <td>NaN</td>\n",
       "      <td>NaN</td>\n",
       "      <td>NaN</td>\n",
       "      <td>NaN</td>\n",
       "      <td>NaN</td>\n",
       "      <td>NaN</td>\n",
       "    </tr>\n",
       "  </tbody>\n",
       "</table>\n",
       "</div>"
      ],
      "text/plain": [
       "              0          1           2                 3             4   \\\n",
       "0         shrimp    almonds     avocado    vegetables mix  green grapes   \n",
       "1        burgers  meatballs        eggs               NaN           NaN   \n",
       "2        chutney        NaN         NaN               NaN           NaN   \n",
       "3         turkey    avocado         NaN               NaN           NaN   \n",
       "4  mineral water       milk  energy bar  whole wheat rice     green tea   \n",
       "\n",
       "                 5     6               7             8             9   \\\n",
       "0  whole weat flour  yams  cottage cheese  energy drink  tomato juice   \n",
       "1               NaN   NaN             NaN           NaN           NaN   \n",
       "2               NaN   NaN             NaN           NaN           NaN   \n",
       "3               NaN   NaN             NaN           NaN           NaN   \n",
       "4               NaN   NaN             NaN           NaN           NaN   \n",
       "\n",
       "               10         11     12     13             14      15  \\\n",
       "0  low fat yogurt  green tea  honey  salad  mineral water  salmon   \n",
       "1             NaN        NaN    NaN    NaN            NaN     NaN   \n",
       "2             NaN        NaN    NaN    NaN            NaN     NaN   \n",
       "3             NaN        NaN    NaN    NaN            NaN     NaN   \n",
       "4             NaN        NaN    NaN    NaN            NaN     NaN   \n",
       "\n",
       "                  16               17       18         19  \n",
       "0  antioxydant juice  frozen smoothie  spinach  olive oil  \n",
       "1                NaN              NaN      NaN        NaN  \n",
       "2                NaN              NaN      NaN        NaN  \n",
       "3                NaN              NaN      NaN        NaN  \n",
       "4                NaN              NaN      NaN        NaN  "
      ]
     },
     "execution_count": 7,
     "metadata": {},
     "output_type": "execute_result"
    }
   ],
   "source": [
    "import csv\n",
    "\n",
    "# YOUR CODE HERE\n",
    "df = pd.read_csv(\"./datasets/q2_store_transactions.csv\", header= None)\n",
    "df.head()\n",
    "\n"
   ]
  },
  {
   "cell_type": "code",
   "execution_count": null,
   "id": "cd02db86-5600-4558-8d3c-d3856fd04872",
   "metadata": {
    "deletable": false,
    "editable": false,
    "nbgrader": {
     "cell_type": "code",
     "checksum": "af9c22c02888a318b091d1710c3c8f45",
     "grade": true,
     "grade_id": "cell-f9f13c0cff6d5bd1",
     "locked": true,
     "points": 2,
     "schema_version": 3,
     "solution": false,
     "task": false
    }
   },
   "outputs": [],
   "source": [
    "# Please leave this cell empty - used for grading."
   ]
  },
  {
   "cell_type": "markdown",
   "id": "e86f2ae0827ad890",
   "metadata": {
    "collapsed": false,
    "deletable": false,
    "editable": false,
    "nbgrader": {
     "cell_type": "markdown",
     "checksum": "1b9dcd6f10d7774771c8092df49507fd",
     "grade": false,
     "grade_id": "cell-7547f9b84eb06dbe",
     "locked": true,
     "schema_version": 3,
     "solution": false,
     "task": false
    }
   },
   "source": [
    "### b) \n",
    "Transform the entries from the list to a binary matrix using an object of *TransactionEncoder* as introduced in the exercise. Name the resulting dataframe `itemset_matrix` and display the first 20 rows."
   ]
  },
  {
   "cell_type": "code",
   "execution_count": null,
   "id": "5fa64fd9-e2a2-46a6-bb14-beb9b1e9613f",
   "metadata": {
    "ExecuteTime": {
     "end_time": "2023-12-07T09:51:57.954367Z",
     "start_time": "2023-12-07T09:51:57.220526600Z"
    },
    "deletable": false,
    "nbgrader": {
     "cell_type": "code",
     "checksum": "c48b57a7abe04344262395dabf5682e6",
     "grade": false,
     "grade_id": "cell-a50b02f77b029338",
     "locked": false,
     "schema_version": 3,
     "solution": true,
     "task": false
    }
   },
   "outputs": [],
   "source": [
    "from mlxtend.preprocessing import TransactionEncoder\n",
    "import pandas as pd\n",
    "\n",
    "# YOUR CODE HERE\n",
    "# Receipt - Person 1\n",
    "# Beer\n",
    "# Condoms\n",
    "\n",
    "# Receipt - Person 2\n",
    "# wine\n",
    "# cheese \n",
    "\n",
    "#Inventory\n",
    "# Beer\n",
    "# Condoms\n",
    "# Wine\n",
    "# Cheese\n",
    "# Flowers\n",
    "\n",
    "# Beer Condoms Wine Cheese Flowers\n",
    "# 1    1       0    0      0\n",
    "# 0    0       1    1      0"
   ]
  },
  {
   "cell_type": "code",
   "execution_count": null,
   "id": "918aa8c30c8cbc7e",
   "metadata": {
    "ExecuteTime": {
     "end_time": "2023-12-07T09:51:59.756403900Z",
     "start_time": "2023-12-07T09:51:59.740002800Z"
    },
    "deletable": false,
    "editable": false,
    "nbgrader": {
     "cell_type": "code",
     "checksum": "fe67e2e2d8874c242db87fc22615dcde",
     "grade": true,
     "grade_id": "cell-dffa06bc5ec9e2b2",
     "locked": true,
     "points": 1.5,
     "schema_version": 3,
     "solution": false,
     "task": false
    }
   },
   "outputs": [],
   "source": [
    "# Please leave this cell empty - used for grading."
   ]
  },
  {
   "cell_type": "code",
   "execution_count": null,
   "id": "29a1b467-a0d3-435e-bd6d-24fdf3aaf170",
   "metadata": {
    "deletable": false,
    "editable": false,
    "nbgrader": {
     "cell_type": "code",
     "checksum": "0acdae8c78f230da3b6f7d0ba2c882d9",
     "grade": true,
     "grade_id": "cell-892c25c4f4c30cbf",
     "locked": true,
     "points": 0.5,
     "schema_version": 3,
     "solution": false,
     "task": false
    }
   },
   "outputs": [],
   "source": [
    "# Please leave this cell empty - used for grading."
   ]
  },
  {
   "cell_type": "markdown",
   "id": "d7f9f5b3783a1190",
   "metadata": {
    "collapsed": false,
    "deletable": false,
    "editable": false,
    "nbgrader": {
     "cell_type": "markdown",
     "checksum": "f8c6560b76417b6c9e6aa179e99e0e22",
     "grade": false,
     "grade_id": "cell-68106fb2d699d45f",
     "locked": true,
     "schema_version": 3,
     "solution": false,
     "task": false
    }
   },
   "source": [
    "### c) \n",
    "Find all frequent itemsets with a **support of at least 0.03** using the Apriori algorithm and save them in a variable called `frequent_itemsets`. Display the resulting itemsets and the processing time (in milliseconds) required to detect them. "
   ]
  },
  {
   "cell_type": "code",
   "execution_count": null,
   "id": "8fe59790-fb5b-4d72-bb17-a705819d65c3",
   "metadata": {
    "ExecuteTime": {
     "end_time": "2023-12-07T09:57:38.718740900Z",
     "start_time": "2023-12-07T09:57:38.541805100Z"
    },
    "deletable": false,
    "nbgrader": {
     "cell_type": "code",
     "checksum": "88f6f1300fc13f70e25cd06825bbafb6",
     "grade": false,
     "grade_id": "cell-d54ec6047f4ae408",
     "locked": false,
     "schema_version": 3,
     "solution": true,
     "task": false
    }
   },
   "outputs": [],
   "source": [
    "from mlxtend.frequent_patterns import apriori\n",
    "import datetime\n",
    "\n",
    "# YOUR CODE HERE"
   ]
  },
  {
   "cell_type": "code",
   "execution_count": null,
   "id": "5898d775c652b495",
   "metadata": {
    "ExecuteTime": {
     "end_time": "2023-12-07T10:23:59.433919300Z",
     "start_time": "2023-12-07T10:23:59.387252900Z"
    },
    "deletable": false,
    "editable": false,
    "nbgrader": {
     "cell_type": "code",
     "checksum": "f67585b1cff444bed293c9734bb47c30",
     "grade": true,
     "grade_id": "cell-bf20cb1672af14e1",
     "locked": true,
     "points": 1,
     "schema_version": 3,
     "solution": false,
     "task": false
    }
   },
   "outputs": [],
   "source": [
    "# Please leave this cell empty - used for grading."
   ]
  },
  {
   "cell_type": "markdown",
   "id": "9109d8f98a428071",
   "metadata": {
    "collapsed": false,
    "deletable": false,
    "editable": false,
    "nbgrader": {
     "cell_type": "markdown",
     "checksum": "b2e2a9b481a6ada775bbc892537fffcb",
     "grade": false,
     "grade_id": "cell-b540425a63777866",
     "locked": true,
     "schema_version": 3,
     "solution": false,
     "task": false
    }
   },
   "source": [
    "### d)\n",
    "Find the most frequent itemsets containing **more than one product** and a **support of more than 0.04** using the Apriori algorithm. Store them in a variable called `frequent_itemsets_filtered` and show the sets in your output."
   ]
  },
  {
   "cell_type": "code",
   "execution_count": null,
   "id": "b6024fe65f03a787",
   "metadata": {
    "ExecuteTime": {
     "end_time": "2023-12-07T10:00:49.683411Z",
     "start_time": "2023-12-07T10:00:49.651433100Z"
    },
    "deletable": false,
    "nbgrader": {
     "cell_type": "code",
     "checksum": "2577f435740b2c3a8ba24464f8d8ddf9",
     "grade": false,
     "grade_id": "cell-bd1a6f03aacabdb2",
     "locked": false,
     "schema_version": 3,
     "solution": true,
     "task": false
    }
   },
   "outputs": [],
   "source": [
    "# YOUR CODE HERE"
   ]
  },
  {
   "cell_type": "code",
   "execution_count": null,
   "id": "7b4171fdb7084b29",
   "metadata": {
    "ExecuteTime": {
     "end_time": "2023-12-07T10:00:51.761452100Z",
     "start_time": "2023-12-07T10:00:51.745485100Z"
    },
    "deletable": false,
    "editable": false,
    "nbgrader": {
     "cell_type": "code",
     "checksum": "c52c4aaf113229a35c31ecd9c98d34f4",
     "grade": true,
     "grade_id": "cell-32a1725908156be1",
     "locked": true,
     "points": 0.5,
     "schema_version": 3,
     "solution": false,
     "task": false
    }
   },
   "outputs": [],
   "source": [
    "# Please leave this cell empty - used for grading."
   ]
  },
  {
   "cell_type": "code",
   "execution_count": null,
   "id": "ffd497f9-5a29-48cc-af5a-901f68f1625b",
   "metadata": {
    "deletable": false,
    "editable": false,
    "nbgrader": {
     "cell_type": "code",
     "checksum": "1845b6e2dc2182d67f77292c8252aac2",
     "grade": true,
     "grade_id": "cell-e7b2e299b742da32",
     "locked": true,
     "points": 0.5,
     "schema_version": 3,
     "solution": false,
     "task": false
    }
   },
   "outputs": [],
   "source": [
    "# Please leave this cell empty - used for grading."
   ]
  },
  {
   "cell_type": "code",
   "execution_count": null,
   "id": "1d5aee9e-7772-45b8-9501-5ca7512a0d72",
   "metadata": {
    "deletable": false,
    "editable": false,
    "nbgrader": {
     "cell_type": "code",
     "checksum": "247f8d10eac536dd3fdf0b2660477604",
     "grade": true,
     "grade_id": "cell-44a8f2a471498ce1",
     "locked": true,
     "points": 1,
     "schema_version": 3,
     "solution": false,
     "task": false
    }
   },
   "outputs": [],
   "source": [
    "# Please leave this cell empty - used for grading."
   ]
  },
  {
   "cell_type": "markdown",
   "id": "5c5d047747c70b71",
   "metadata": {
    "collapsed": false,
    "deletable": false,
    "editable": false,
    "nbgrader": {
     "cell_type": "markdown",
     "checksum": "17f3f72c680b2ea87c277575fa6b1824",
     "grade": false,
     "grade_id": "cell-99421790cf8ee781",
     "locked": true,
     "schema_version": 3,
     "solution": false,
     "task": false
    }
   },
   "source": [
    "### e)\n",
    "Find all association rules in the data that have a **confidence of at least 0.3** and a **minimum lift of 1.2** based on the frequent itemsets with a support of at least 0.03 (`frequent_itemsets`). Create and show a dataframe `association_rules` listing the antecedents, consequents, support, confidence, and lift of each of these discovered rules. How do you interpret the quality of the discovered rules?"
   ]
  },
  {
   "cell_type": "code",
   "execution_count": null,
   "id": "c02866981fc91b5d",
   "metadata": {
    "ExecuteTime": {
     "end_time": "2023-12-07T10:35:22.558622300Z",
     "start_time": "2023-12-07T10:35:22.529708500Z"
    },
    "deletable": false,
    "nbgrader": {
     "cell_type": "code",
     "checksum": "16b5ec8c2910e55766ee184033f5b4cf",
     "grade": false,
     "grade_id": "cell-e327a7cf364a2219",
     "locked": false,
     "schema_version": 3,
     "solution": true,
     "task": false
    }
   },
   "outputs": [],
   "source": [
    "from mlxtend.frequent_patterns import association_rules as arule\n",
    "import pandas as pd\n",
    "\n",
    "# YOUR CODE HERE"
   ]
  },
  {
   "cell_type": "code",
   "execution_count": null,
   "id": "33743f4f1fcaca55",
   "metadata": {
    "ExecuteTime": {
     "end_time": "2023-12-07T10:37:19.638591400Z",
     "start_time": "2023-12-07T10:37:19.578732100Z"
    },
    "deletable": false,
    "editable": false,
    "nbgrader": {
     "cell_type": "code",
     "checksum": "ee88032836a6f4668ef764473c5de164",
     "grade": true,
     "grade_id": "cell-a679ce7c3726bb46",
     "locked": true,
     "points": 1.5,
     "schema_version": 3,
     "solution": false,
     "task": false
    }
   },
   "outputs": [],
   "source": [
    "# Please leave this cell empty - used for grading."
   ]
  },
  {
   "cell_type": "markdown",
   "id": "919ada7debc04c7",
   "metadata": {
    "collapsed": false,
    "deletable": false,
    "nbgrader": {
     "cell_type": "markdown",
     "checksum": "ed97aa0f7f7c03bc2c9b071717bc2ef2",
     "grade": true,
     "grade_id": "cell-fa87db9317fb677e",
     "locked": false,
     "points": 0.5,
     "schema_version": 3,
     "solution": true,
     "task": false
    }
   },
   "source": [
    "__Student Answer:__ _your answer goes here_"
   ]
  },
  {
   "cell_type": "markdown",
   "id": "89d2a5a2aae35bbb",
   "metadata": {
    "collapsed": false,
    "deletable": false,
    "editable": false,
    "nbgrader": {
     "cell_type": "markdown",
     "checksum": "e36a5cbe3797b89acfcee186c291c63f",
     "grade": false,
     "grade_id": "cell-90d2659fd7ef5a4c",
     "locked": true,
     "schema_version": 3,
     "solution": false,
     "task": false
    }
   },
   "source": [
    "### f) \n",
    "Find all frequent itemsets with a **support of at least 0.03** using **FP-Growth** and save them in a variable called `fp_frequent_itemsets`. Display the resulting itemsets and the processing time (in milliseconds) required to detect them. "
   ]
  },
  {
   "cell_type": "code",
   "execution_count": null,
   "id": "89835e7d32bd6df8",
   "metadata": {
    "ExecuteTime": {
     "end_time": "2023-12-01T10:42:27.444117400Z",
     "start_time": "2023-12-01T10:42:27.428100Z"
    },
    "deletable": false,
    "nbgrader": {
     "cell_type": "code",
     "checksum": "e3b419b2a2b55e666f68e1d762ca7053",
     "grade": false,
     "grade_id": "cell-b10cd06390e16eef",
     "locked": false,
     "schema_version": 3,
     "solution": true,
     "task": false
    }
   },
   "outputs": [],
   "source": [
    "from mlxtend.frequent_patterns import fpgrowth\n",
    "\n",
    "# YOUR CODE HERE"
   ]
  },
  {
   "cell_type": "code",
   "execution_count": null,
   "id": "5a14cee3e68d8f22",
   "metadata": {
    "deletable": false,
    "editable": false,
    "nbgrader": {
     "cell_type": "code",
     "checksum": "9dbed919baa60c2bbca9b2a0f80bfefd",
     "grade": true,
     "grade_id": "cell-f6db4f83882256e4",
     "locked": true,
     "points": 1,
     "schema_version": 3,
     "solution": false,
     "task": false
    }
   },
   "outputs": [],
   "source": [
    "# Please leave this cell empty - used for grading."
   ]
  },
  {
   "cell_type": "markdown",
   "id": "b2614936708f96dd",
   "metadata": {
    "collapsed": false,
    "deletable": false,
    "editable": false,
    "nbgrader": {
     "cell_type": "markdown",
     "checksum": "7584ca3de218801533cc276a4706743f",
     "grade": false,
     "grade_id": "cell-b8aa8bd4714c33f8",
     "locked": true,
     "schema_version": 3,
     "solution": false,
     "task": false
    }
   },
   "source": [
    "### g)\n",
    "Using the itemsets identified by **FP-Growth**: Find all association rules in the data that have a **confidence of at least 0.3** and a **minimum lift of 1.2** based on the frequent itemsets with a support of at least 0.03 (`fp_frequent_itemsets`). Create and show a dataframe `fp_association_rules` listing the antecedents, consequents, support, confidence, and lift of each of these discovered rules."
   ]
  },
  {
   "cell_type": "code",
   "execution_count": null,
   "id": "580f5cb4037661b5",
   "metadata": {
    "ExecuteTime": {
     "end_time": "2023-12-01T10:37:52.489658200Z",
     "start_time": "2023-12-01T10:37:52.364142300Z"
    },
    "deletable": false,
    "nbgrader": {
     "cell_type": "code",
     "checksum": "a55a69847064b32e60aa519f29da41af",
     "grade": false,
     "grade_id": "cell-0c80caf0f9830690",
     "locked": false,
     "schema_version": 3,
     "solution": true,
     "task": false
    }
   },
   "outputs": [],
   "source": [
    "# YOUR CODE HERE"
   ]
  },
  {
   "cell_type": "code",
   "execution_count": null,
   "id": "ea4399572581c7fd",
   "metadata": {
    "deletable": false,
    "editable": false,
    "nbgrader": {
     "cell_type": "code",
     "checksum": "8a5d3b2ab2d594894f4a631bdab61b76",
     "grade": true,
     "grade_id": "cell-ff5497278dbc8846",
     "locked": true,
     "points": 1,
     "schema_version": 3,
     "solution": false,
     "task": false
    }
   },
   "outputs": [],
   "source": [
    "# Please leave this cell empty - used for grading."
   ]
  },
  {
   "cell_type": "markdown",
   "id": "8b072778b8cb12e6",
   "metadata": {
    "collapsed": false,
    "deletable": false,
    "editable": false,
    "nbgrader": {
     "cell_type": "markdown",
     "checksum": "a084475f4e7d6d72cc4ca6e763de26bb",
     "grade": false,
     "grade_id": "cell-5f478e175dfe8122",
     "locked": true,
     "points": 1,
     "schema_version": 3,
     "solution": false,
     "task": true
    }
   },
   "source": [
    "### h) \n",
    "You would like to compare the apriori algorithms and FP-Growth.\n",
    "\n",
    "i) Both algorithms use the same data (transaction data) as an input and provide association rules as an output. How do the algorithms differ in the way they identify association rules?\n"
   ]
  },
  {
   "cell_type": "markdown",
   "id": "1b866925711edb1e",
   "metadata": {
    "collapsed": false
   },
   "source": [
    "__Student Answer:__ _Add your answer here._"
   ]
  },
  {
   "cell_type": "markdown",
   "id": "e0734b27-d7d8-44c4-bfd5-c9aa5350ece1",
   "metadata": {
    "deletable": false,
    "editable": false,
    "nbgrader": {
     "cell_type": "markdown",
     "checksum": "44ca4901f997613a64c17226eb55c9a9",
     "grade": false,
     "grade_id": "cell-adbdd585c8a2c29a",
     "locked": true,
     "points": 1,
     "schema_version": 3,
     "solution": false,
     "task": true
    }
   },
   "source": [
    "ii) Consider your results of the previous tasks. Do the two algorithms provide the same association rules? Is this always the case?"
   ]
  },
  {
   "cell_type": "markdown",
   "id": "97333d42-9d98-45f0-b5f8-8fbb5e6b3ae8",
   "metadata": {},
   "source": [
    "__Student Answer:__ _Add your answer here._"
   ]
  },
  {
   "cell_type": "markdown",
   "id": "8951e430-f51c-4736-af66-f89c470b9a80",
   "metadata": {
    "deletable": false,
    "editable": false,
    "nbgrader": {
     "cell_type": "markdown",
     "checksum": "70792efff77cb9fb3f79cdabc3e1bba4",
     "grade": false,
     "grade_id": "cell-a08ed5920d546de1",
     "locked": true,
     "points": 0,
     "schema_version": 3,
     "solution": false,
     "task": true
    }
   },
   "source": [
    "iii) Compare the processing time for finding the frequent itemsets tasks using the apriori algorithm and FG-Growth. What do you notice? Is this the result you expected? Briefly explain your answers.\n"
   ]
  },
  {
   "cell_type": "markdown",
   "id": "04e5676d-edba-4c36-a9f6-76aa6add5985",
   "metadata": {},
   "source": [
    "__Student Answer:__ _Add your answer here._"
   ]
  }
 ],
 "metadata": {
  "kernelspec": {
   "display_name": "Python 3 (ipykernel)",
   "language": "python",
   "name": "python3"
  },
  "language_info": {
   "codemirror_mode": {
    "name": "ipython",
    "version": 3
   },
   "file_extension": ".py",
   "mimetype": "text/x-python",
   "name": "python",
   "nbconvert_exporter": "python",
   "pygments_lexer": "ipython3",
   "version": "3.10.12"
  }
 },
 "nbformat": 4,
 "nbformat_minor": 5
}
