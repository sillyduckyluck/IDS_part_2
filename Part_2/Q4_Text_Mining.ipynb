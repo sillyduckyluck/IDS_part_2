{
 "cells": [
  {
   "cell_type": "markdown",
   "id": "f573c4b2",
   "metadata": {
    "collapsed": false
   },
   "source": [
    "# Introduction into Data Science - Assignment Part II\n",
    "\n",
    "This is the second part of the assignment in IDS 2023/2024.\n",
    "\n",
    "This part of the assignment consists of five questions — each of these questions is contained in a separate Jupyter notebook:\n",
    "- [Question 1: Data Preprocessing](Q1_Preprocessing_Visualization.ipynb)\n",
    "- [Question 2: Association Rules](Q2_Frequent_Itemsets_Association_Rules.ipynb)\n",
    "- [Question 3: Process Mining](Q3_Process_Mining.ipynb)\n",
    "- [Question 4: Text Mining](Q4_Text_Mining.ipynb)\n",
    "- [Question 5: Big Data](Q5_Big_Data.ipynb)\n",
    "\n",
    "Additional required files are in two folders.\n",
    "- [datasets](datasets/)\n",
    "- [scripts](scripts/)\n",
    "\n",
    "Please use the provided notebook to work on the questions. When you are done, upload your version of each of the notebooks to Moodle. Your submission will, therefore, consist of five jupyter notebook and _no_ additional file. Any additionally provided files will not be considered in grading.\n",
    "Enter your commented Python code and answers in the corresponding cells. Make sure to answer all questions in a clear and explicit manner and discuss your outputs. _Please do not change the general structure of this notebook_. You can, however, add additional markdown or code cells if necessary. Please **DO NOT CLEAR THE OUTPUT** of the notebook you are submitting! Additionally, please ensure that the code in the notebook runs if placed in the same folder as all of the provided files, delivering the same outputs as the ones you submit in the notebook. This includes being runnable in the bundled conda environment.\n",
    "\n",
    "*Please make sure to include the names and matriculation numbers of all group members in the provided slots in each of the notebooks.* If a name or a student id is missing, the student will not receive any points.\n",
    "\n",
    "Hint 1: **Plan your time wisely.** A few parts of this assignment may take some time to run. It might be necessary to consider time management when you plan your group work. Also, do not attempt to upload your assignment at the last minute before the deadline. This often does not work, and you will miss the deadline. Late submissions will not be considered.\n",
    "\n",
    "Hint 2: RWTHMoodle allows multiple submissions, with every new submission overwriting the previous one. **Partial submissions are possible and encouraged.** This might be helpful in case of technical issues with RWTHMoodle, which may occur close to the deadline.\n",
    "\n",
    "Hint 3: As a technical note. Some IDEs such as DataSpell may automatically strip jupyter notebook cell metadata. If you are able, please re-add it from the source notebooks before submission. This is necessary for our grading."
   ]
  },
  {
   "cell_type": "markdown",
   "id": "9ac8507d",
   "metadata": {},
   "source": [
    "Enter your group number and members with matriculation numbers below."
   ]
  },
  {
   "cell_type": "code",
   "execution_count": 1,
   "id": "e6dbb3c2",
   "metadata": {
    "ExecuteTime": {
     "end_time": "2024-01-28T00:59:00.126964700Z",
     "start_time": "2024-01-28T00:58:59.932379100Z"
    }
   },
   "outputs": [],
   "source": [
    "GROUP_NO = 123 # group number\n",
    "GROUP_MEMBERS = {\n",
    "    123456: \"firstname lastname\", # mat. no. : name,\n",
    "    234567: \"firstname lastname\",\n",
    "    345678: \"firstname lastname\",\n",
    "}"
   ]
  },
  {
   "cell_type": "markdown",
   "id": "4fc45f03",
   "metadata": {},
   "source": [
    "---"
   ]
  },
  {
   "cell_type": "code",
   "execution_count": 2,
   "id": "30acff93-801f-434f-ab12-538ebba149c7",
   "metadata": {
    "deletable": false,
    "editable": false,
    "nbgrader": {
     "cell_type": "code",
     "checksum": "f3a98fb84f5a31558222af77538151c0",
     "grade": false,
     "grade_id": "cell-34ae91f58bb3ca62",
     "locked": true,
     "schema_version": 3,
     "solution": false,
     "task": false
    },
    "slideshow": {
     "slide_type": ""
    },
    "tags": [],
    "ExecuteTime": {
     "end_time": "2024-01-29T11:53:57.710203400Z",
     "start_time": "2024-01-29T11:53:57.690696900Z"
    }
   },
   "outputs": [],
   "source": [
    "# required imports\n",
    "# do not edit!\n",
    "\n",
    "import nltk\n",
    "import pandas as pd\n",
    "import seaborn as sns\n",
    "import matplotlib as mpl\n",
    "import unicodedata\n",
    "import multiprocessing\n",
    "from gensim.models.doc2vec import Doc2Vec, TaggedDocument\n",
    "from nltk.corpus import stopwords\n",
    "from nltk.lm import MLE\n",
    "from nltk.lm.preprocessing import padded_everygram_pipeline\n",
    "from nltk.stem import WordNetLemmatizer\n",
    "from nltk.stem.snowball import SnowballStemmer\n",
    "from sklearn.feature_extraction.text import CountVectorizer\n",
    "from sklearn.linear_model import SGDClassifier\n",
    "from sklearn.metrics import accuracy_score\n",
    "from sklearn.model_selection import train_test_split\n",
    "from sklearn.decomposition import PCA\n",
    "from sklearn.cluster import DBSCAN\n",
    "\n",
    "nltk.download('stopwords')\n",
    "nltk.download('punkt')\n",
    "nltk.download('wordnet')\n",
    "nltk.download('omw-1.4')  # omw = open multilingual wordnet\n",
    "stopword_list = set(stopwords.words('english'))\n",
    "reg_tokenizer = nltk.RegexpTokenizer(r\"\\w+\")  # tokenizes and removes punctuation at the same time\n",
    "snow_stemmer = SnowballStemmer('english')\n",
    "wordnet_lemmatizer = WordNetLemmatizer();"
   ]
  },
  {
   "cell_type": "markdown",
   "id": "0d487223-5415-47c9-8034-4ac6668dd837",
   "metadata": {
    "deletable": false,
    "editable": false,
    "nbgrader": {
     "cell_type": "markdown",
     "checksum": "66e76c0ae57023579fb3d9917423054f",
     "grade": false,
     "grade_id": "cell-0118f620e3b16e5e",
     "locked": true,
     "schema_version": 3,
     "solution": false,
     "task": false
    },
    "slideshow": {
     "slide_type": ""
    },
    "tags": []
   },
   "source": [
    "# Question 4: Text Mining (23 pts)\n"
   ]
  },
  {
   "cell_type": "markdown",
   "id": "526aa733-b2cb-43b1-8aa5-3b1d0940b826",
   "metadata": {
    "deletable": false,
    "editable": false,
    "nbgrader": {
     "cell_type": "markdown",
     "checksum": "2c95eddc9166bd9d238e1c7f2dc34146",
     "grade": false,
     "grade_id": "cell-91cc44ba05ec7bca",
     "locked": true,
     "schema_version": 3,
     "solution": false,
     "task": false
    },
    "slideshow": {
     "slide_type": ""
    },
    "tags": []
   },
   "source": [
    "## About the Data: Taylor Swift"
   ]
  },
  {
   "cell_type": "markdown",
   "id": "f747a235-a8a3-4cb4-949e-94f6ab7fd1ce",
   "metadata": {
    "deletable": false,
    "editable": false,
    "nbgrader": {
     "cell_type": "markdown",
     "checksum": "abcd8d5cc7967fea2e023876b62e846a",
     "grade": false,
     "grade_id": "cell-51d9f6ad0d201523",
     "locked": true,
     "schema_version": 3,
     "solution": false,
     "task": false
    },
    "slideshow": {
     "slide_type": ""
    },
    "tags": []
   },
   "source": [
    "In this task, our data consists of song lyrics from nine albums by Taylor Swift. Taylor Swift is one of the best-selling musicians and currently subject of various research. As she is known to venture into different musical genres and make artistic innovations for each album, we want to check whether we can support this claim using Text Mining.\n",
    "\n",
    "Therefore, we:\n",
    "1. Load the data and preprocess it first,\n",
    "2. use the set of words for recognizing a lyric's album,\n",
    "3. use Doc2Vec to check the similarity of albums and to cluster them,\n",
    "4. and finally use language models that are based on n-grams to generate some own lyrics.\n",
    "\n",
    "We aim to support our data analysis by reporting data and discussing results. "
   ]
  },
  {
   "cell_type": "markdown",
   "id": "4a4d140f-e798-48c1-8adf-c4c483ee63a3",
   "metadata": {
    "deletable": false,
    "editable": false,
    "nbgrader": {
     "cell_type": "markdown",
     "checksum": "9f6b216bea53e4a82881ff7b27e55a90",
     "grade": false,
     "grade_id": "cell-a7e968abe2c820c6",
     "locked": true,
     "schema_version": 3,
     "solution": false,
     "task": false
    }
   },
   "source": [
    "## Data Loading and Preprocessing (8 Pts)"
   ]
  },
  {
   "cell_type": "markdown",
   "id": "a9cfeb67-3be6-4177-b107-a3855f665d83",
   "metadata": {
    "deletable": false,
    "editable": false,
    "nbgrader": {
     "cell_type": "markdown",
     "checksum": "6da2454d5d180ea66b0a0d70c28fdc12",
     "grade": false,
     "grade_id": "cell-cadbb00abe70693d",
     "locked": true,
     "points": 0,
     "schema_version": 3,
     "solution": false,
     "task": true
    },
    "slideshow": {
     "slide_type": ""
    },
    "tags": []
   },
   "source": [
    "### a)\n",
    "i. First things first. Import the file **q4_taylor_swift.csv** and save it into a dataframe named `swift_df`. Visualize the dataframe by showing the first five lines. \n",
    "\n",
    "_Note: In this question, every lyric is considered as a single document. The data contains lyrics from several albums. The order of the lyrics is preserved considering their album, song and within their song._\n"
   ]
  },
  {
   "cell_type": "code",
   "execution_count": 3,
   "id": "be5261d6-89cb-432d-8276-60b2629d4bb8",
   "metadata": {
    "deletable": false,
    "editable": true,
    "nbgrader": {
     "cell_type": "code",
     "checksum": "e23e1669f31c56ab8a1bcfbe1e9be5c4",
     "grade": false,
     "grade_id": "cell-74423eee5348219e",
     "locked": false,
     "schema_version": 3,
     "solution": true,
     "task": false
    },
    "slideshow": {
     "slide_type": ""
    },
    "tags": [],
    "ExecuteTime": {
     "end_time": "2024-01-28T00:59:00.513392200Z",
     "start_time": "2024-01-28T00:59:00.497928500Z"
    }
   },
   "outputs": [
    {
     "data": {
      "text/plain": "                          album                                        lyric\n0                  Taylor Swift          He said the way my blue eyes shined\n1                  Taylor Swift  Put those Georgia stars to shame that night\n2                  Taylor Swift                       I said, \"That's a lie\"\n3                  Taylor Swift                  Just a boy in a Chevy truck\n4                  Taylor Swift         That had a tendency of gettin' stuck\n...                         ...                                          ...\n8324  evermore (deluxe version)       You know, you know, you know, you know\n8325  evermore (deluxe version)                         When it's time to go\n8326  evermore (deluxe version)                               So then you go\n8327  evermore (deluxe version)                                  Then you go\n8328  evermore (deluxe version)                                  You just go\n\n[8329 rows x 2 columns]",
      "text/html": "<div>\n<style scoped>\n    .dataframe tbody tr th:only-of-type {\n        vertical-align: middle;\n    }\n\n    .dataframe tbody tr th {\n        vertical-align: top;\n    }\n\n    .dataframe thead th {\n        text-align: right;\n    }\n</style>\n<table border=\"1\" class=\"dataframe\">\n  <thead>\n    <tr style=\"text-align: right;\">\n      <th></th>\n      <th>album</th>\n      <th>lyric</th>\n    </tr>\n  </thead>\n  <tbody>\n    <tr>\n      <th>0</th>\n      <td>Taylor Swift</td>\n      <td>He said the way my blue eyes shined</td>\n    </tr>\n    <tr>\n      <th>1</th>\n      <td>Taylor Swift</td>\n      <td>Put those Georgia stars to shame that night</td>\n    </tr>\n    <tr>\n      <th>2</th>\n      <td>Taylor Swift</td>\n      <td>I said, \"That's a lie\"</td>\n    </tr>\n    <tr>\n      <th>3</th>\n      <td>Taylor Swift</td>\n      <td>Just a boy in a Chevy truck</td>\n    </tr>\n    <tr>\n      <th>4</th>\n      <td>Taylor Swift</td>\n      <td>That had a tendency of gettin' stuck</td>\n    </tr>\n    <tr>\n      <th>...</th>\n      <td>...</td>\n      <td>...</td>\n    </tr>\n    <tr>\n      <th>8324</th>\n      <td>evermore (deluxe version)</td>\n      <td>You know, you know, you know, you know</td>\n    </tr>\n    <tr>\n      <th>8325</th>\n      <td>evermore (deluxe version)</td>\n      <td>When it's time to go</td>\n    </tr>\n    <tr>\n      <th>8326</th>\n      <td>evermore (deluxe version)</td>\n      <td>So then you go</td>\n    </tr>\n    <tr>\n      <th>8327</th>\n      <td>evermore (deluxe version)</td>\n      <td>Then you go</td>\n    </tr>\n    <tr>\n      <th>8328</th>\n      <td>evermore (deluxe version)</td>\n      <td>You just go</td>\n    </tr>\n  </tbody>\n</table>\n<p>8329 rows × 2 columns</p>\n</div>"
     },
     "metadata": {},
     "output_type": "display_data"
    }
   ],
   "source": [
    "swift_df = pd.read_csv(\"datasets/q4_taylor_swift.csv\")\n",
    "display(swift_df)"
   ]
  },
  {
   "cell_type": "markdown",
   "id": "0bbec108-c03f-4ff7-b3b1-2f354f411f26",
   "metadata": {
    "deletable": false,
    "editable": false,
    "nbgrader": {
     "cell_type": "markdown",
     "checksum": "edcbb65e470aa8fc002f5bc95926bb92",
     "grade": false,
     "grade_id": "cell-2c1984ef3edd32c2",
     "locked": true,
     "schema_version": 3,
     "solution": false,
     "task": false
    }
   },
   "source": [
    "ii. As a first step in preprocessing, normalize all unicode encodings using `unicodedata.normalize` with 'NKFD' as the form and remove all closing and opening brackets, i.e., '(' and ')'."
   ]
  },
  {
   "cell_type": "code",
   "execution_count": 4,
   "id": "da2d9e0c-5885-4401-be01-6e96714f6e21",
   "metadata": {
    "deletable": false,
    "nbgrader": {
     "cell_type": "code",
     "checksum": "73ff39a023325dd9553977985f03371e",
     "grade": false,
     "grade_id": "cell-05b0e924b2a3bd14",
     "locked": false,
     "schema_version": 3,
     "solution": true,
     "task": false
    },
    "ExecuteTime": {
     "end_time": "2024-01-28T00:59:00.526121500Z",
     "start_time": "2024-01-28T00:59:00.513392200Z"
    }
   },
   "outputs": [
    {
     "data": {
      "text/plain": "                        album                                        lyric\n0                Taylor Swift          He said the way my blue eyes shined\n1                Taylor Swift  Put those Georgia stars to shame that night\n2                Taylor Swift                       I said, \"That's a lie\"\n3                Taylor Swift                  Just a boy in a Chevy truck\n4                Taylor Swift         That had a tendency of gettin' stuck\n...                       ...                                          ...\n8324  evermore deluxe version       You know, you know, you know, you know\n8325  evermore deluxe version                         When it's time to go\n8326  evermore deluxe version                               So then you go\n8327  evermore deluxe version                                  Then you go\n8328  evermore deluxe version                                  You just go\n\n[8329 rows x 2 columns]",
      "text/html": "<div>\n<style scoped>\n    .dataframe tbody tr th:only-of-type {\n        vertical-align: middle;\n    }\n\n    .dataframe tbody tr th {\n        vertical-align: top;\n    }\n\n    .dataframe thead th {\n        text-align: right;\n    }\n</style>\n<table border=\"1\" class=\"dataframe\">\n  <thead>\n    <tr style=\"text-align: right;\">\n      <th></th>\n      <th>album</th>\n      <th>lyric</th>\n    </tr>\n  </thead>\n  <tbody>\n    <tr>\n      <th>0</th>\n      <td>Taylor Swift</td>\n      <td>He said the way my blue eyes shined</td>\n    </tr>\n    <tr>\n      <th>1</th>\n      <td>Taylor Swift</td>\n      <td>Put those Georgia stars to shame that night</td>\n    </tr>\n    <tr>\n      <th>2</th>\n      <td>Taylor Swift</td>\n      <td>I said, \"That's a lie\"</td>\n    </tr>\n    <tr>\n      <th>3</th>\n      <td>Taylor Swift</td>\n      <td>Just a boy in a Chevy truck</td>\n    </tr>\n    <tr>\n      <th>4</th>\n      <td>Taylor Swift</td>\n      <td>That had a tendency of gettin' stuck</td>\n    </tr>\n    <tr>\n      <th>...</th>\n      <td>...</td>\n      <td>...</td>\n    </tr>\n    <tr>\n      <th>8324</th>\n      <td>evermore deluxe version</td>\n      <td>You know, you know, you know, you know</td>\n    </tr>\n    <tr>\n      <th>8325</th>\n      <td>evermore deluxe version</td>\n      <td>When it's time to go</td>\n    </tr>\n    <tr>\n      <th>8326</th>\n      <td>evermore deluxe version</td>\n      <td>So then you go</td>\n    </tr>\n    <tr>\n      <th>8327</th>\n      <td>evermore deluxe version</td>\n      <td>Then you go</td>\n    </tr>\n    <tr>\n      <th>8328</th>\n      <td>evermore deluxe version</td>\n      <td>You just go</td>\n    </tr>\n  </tbody>\n</table>\n<p>8329 rows × 2 columns</p>\n</div>"
     },
     "metadata": {},
     "output_type": "display_data"
    }
   ],
   "source": [
    "\n",
    "swift_df_columns = swift_df.columns\n",
    "swift_df[swift_df_columns] = (swift_df[swift_df_columns]\n",
    "         .map(lambda x: unicodedata.normalize('NFKD', x)).map(lambda x: x.replace(\"(\",\"\").replace(\")\",\"\")))\n",
    "display(swift_df)"
   ]
  },
  {
   "cell_type": "code",
   "execution_count": 4,
   "id": "f1d31c2d-7f26-40f5-9481-f9bf5c82dd15",
   "metadata": {
    "deletable": false,
    "editable": false,
    "nbgrader": {
     "cell_type": "code",
     "checksum": "721aa7dfcb6bf5b12b04a345b6503de8",
     "grade": true,
     "grade_id": "cell-170ed699bf34315e",
     "locked": true,
     "points": 1,
     "schema_version": 3,
     "solution": false,
     "task": false
    },
    "ExecuteTime": {
     "end_time": "2024-01-28T00:59:00.556020800Z",
     "start_time": "2024-01-28T00:59:00.525615400Z"
    }
   },
   "outputs": [],
   "source": []
  },
  {
   "cell_type": "markdown",
   "id": "cbc2b684-f834-4d03-8912-963eb0626699",
   "metadata": {
    "deletable": false,
    "editable": false,
    "nbgrader": {
     "cell_type": "markdown",
     "checksum": "08c84420e0adb2e9a2cfc1df7bab6703",
     "grade": false,
     "grade_id": "cell-fd2a2f622f0afb7c",
     "locked": true,
     "schema_version": 3,
     "solution": false,
     "task": false
    }
   },
   "source": [
    "### b)\n",
    "We get a first idea of the data distribution over the albums by counting the lyrics in our data per album. Code the method `count_lyrics_per_album`."
   ]
  },
  {
   "cell_type": "code",
   "execution_count": 5,
   "id": "05055434-3e7d-4177-9618-ea923dbabd66",
   "metadata": {
    "deletable": false,
    "nbgrader": {
     "cell_type": "code",
     "checksum": "3fd0a655faef2debc2190a90d61ff646",
     "grade": false,
     "grade_id": "cell-97a41ea0fa2ef0e3",
     "locked": false,
     "schema_version": 3,
     "solution": true,
     "task": false
    },
    "ExecuteTime": {
     "end_time": "2024-01-28T00:59:00.564990800Z",
     "start_time": "2024-01-28T00:59:00.527116400Z"
    }
   },
   "outputs": [],
   "source": [
    "def count_lyrics_per_album(input_df: pd.DataFrame) -> pd.Series:\n",
    "    \"\"\" \n",
    "    Counts the lyrics for each album and stores them in a pandas series.\n",
    "    :param input_df: A pandas dataframe containing album data and their lyrics.\n",
    "    :return: The data containing the albums and the count of lyrics per album.\n",
    "    \"\"\"\n",
    "    return input_df.groupby(by='album').count().squeeze()"
   ]
  },
  {
   "cell_type": "code",
   "execution_count": 6,
   "id": "60440407-85a2-40c8-b2ee-83cc70536731",
   "metadata": {
    "deletable": false,
    "editable": false,
    "nbgrader": {
     "cell_type": "code",
     "checksum": "bdd5762827d237dc139a8889e774973b",
     "grade": false,
     "grade_id": "cell-35f7a0fbcc8c518a",
     "locked": true,
     "schema_version": 3,
     "solution": false,
     "task": false
    },
    "ExecuteTime": {
     "end_time": "2024-01-28T00:59:00.601867400Z",
     "start_time": "2024-01-28T00:59:00.530740500Z"
    }
   },
   "outputs": [
    {
     "data": {
      "text/plain": "                       album  lyric count\n0                1989 Deluxe         1003\n1  Fearless Taylor’s Version         1170\n2                      Lover          932\n3         Red Deluxe Edition         1064\n4           Speak Now Deluxe          935\n5               Taylor Swift          609\n6    evermore deluxe version          909\n7    folklore deluxe version          722\n8                 reputation          985",
      "text/html": "<div>\n<style scoped>\n    .dataframe tbody tr th:only-of-type {\n        vertical-align: middle;\n    }\n\n    .dataframe tbody tr th {\n        vertical-align: top;\n    }\n\n    .dataframe thead th {\n        text-align: right;\n    }\n</style>\n<table border=\"1\" class=\"dataframe\">\n  <thead>\n    <tr style=\"text-align: right;\">\n      <th></th>\n      <th>album</th>\n      <th>lyric count</th>\n    </tr>\n  </thead>\n  <tbody>\n    <tr>\n      <th>0</th>\n      <td>1989 Deluxe</td>\n      <td>1003</td>\n    </tr>\n    <tr>\n      <th>1</th>\n      <td>Fearless Taylor’s Version</td>\n      <td>1170</td>\n    </tr>\n    <tr>\n      <th>2</th>\n      <td>Lover</td>\n      <td>932</td>\n    </tr>\n    <tr>\n      <th>3</th>\n      <td>Red Deluxe Edition</td>\n      <td>1064</td>\n    </tr>\n    <tr>\n      <th>4</th>\n      <td>Speak Now Deluxe</td>\n      <td>935</td>\n    </tr>\n    <tr>\n      <th>5</th>\n      <td>Taylor Swift</td>\n      <td>609</td>\n    </tr>\n    <tr>\n      <th>6</th>\n      <td>evermore deluxe version</td>\n      <td>909</td>\n    </tr>\n    <tr>\n      <th>7</th>\n      <td>folklore deluxe version</td>\n      <td>722</td>\n    </tr>\n    <tr>\n      <th>8</th>\n      <td>reputation</td>\n      <td>985</td>\n    </tr>\n  </tbody>\n</table>\n</div>"
     },
     "execution_count": 6,
     "metadata": {},
     "output_type": "execute_result"
    }
   ],
   "source": [
    "# Using the predefined function to calculate the series of values\n",
    "count_per_album = count_lyrics_per_album(swift_df)\n",
    "\n",
    "# Transforming the series to a dataframe for visualization - feel free to check the series object\n",
    "pd.DataFrame({'album': count_per_album.index, 'lyric count': count_per_album.values})"
   ]
  },
  {
   "cell_type": "code",
   "execution_count": 6,
   "id": "8a75b38b-212b-4ac8-bdee-ff084e54b79e",
   "metadata": {
    "deletable": false,
    "editable": false,
    "nbgrader": {
     "cell_type": "code",
     "checksum": "2b3840d6512a4a7d2d40d86cd0e07355",
     "grade": true,
     "grade_id": "cell-af1402574d78e045",
     "locked": true,
     "points": 1,
     "schema_version": 3,
     "solution": false,
     "task": false
    },
    "ExecuteTime": {
     "end_time": "2024-01-28T00:59:00.630770600Z",
     "start_time": "2024-01-28T00:59:00.541274700Z"
    }
   },
   "outputs": [],
   "source": []
  },
  {
   "cell_type": "markdown",
   "id": "bfefcf23-486e-4973-b288-35db298b6b84",
   "metadata": {
    "deletable": false,
    "editable": false,
    "nbgrader": {
     "cell_type": "markdown",
     "checksum": "ff78c9216fe9550c8b32cbde69b50b3d",
     "grade": false,
     "grade_id": "cell-fc95e893dd9f622f",
     "locked": true,
     "schema_version": 3,
     "solution": false,
     "task": false
    }
   },
   "source": [
    "### c)\n",
    "i. Next, we visualize the counted lyrics per album using a barplot. Write down your code in `plot_lyric_count`."
   ]
  },
  {
   "cell_type": "code",
   "execution_count": 7,
   "id": "3543ceb2-7c6a-4a55-981d-d426134005c4",
   "metadata": {
    "deletable": false,
    "nbgrader": {
     "cell_type": "code",
     "checksum": "aed2c04d548c860df877f4f6ada11040",
     "grade": true,
     "grade_id": "cell-41abba85a692335e",
     "locked": false,
     "points": 0.5,
     "schema_version": 3,
     "solution": true,
     "task": false
    },
    "ExecuteTime": {
     "end_time": "2024-01-28T00:59:00.647502500Z",
     "start_time": "2024-01-28T00:59:00.543771200Z"
    }
   },
   "outputs": [],
   "source": [
    "def plot_lyric_count(input_series: pd.Series):\n",
    "    \"\"\" \n",
    "    Visualizes the number of lyrics for each album in a bar plot.\n",
    "    :param input_series: A pandas series containing album data and their lyric counts.\n",
    "    \"\"\"\n",
    "    input_series.plot.bar(x=input_series.index, y=input_series.values)"
   ]
  },
  {
   "cell_type": "code",
   "execution_count": 8,
   "id": "736b854f-a5b1-4e6b-a6dd-0a97992e5865",
   "metadata": {
    "deletable": false,
    "editable": false,
    "nbgrader": {
     "cell_type": "code",
     "checksum": "8c07c3e20e1dc41b1f7ef07601577e07",
     "grade": false,
     "grade_id": "cell-7111f48ce681203e",
     "locked": true,
     "schema_version": 3,
     "solution": false,
     "task": false
    },
    "ExecuteTime": {
     "end_time": "2024-01-28T00:59:00.765188300Z",
     "start_time": "2024-01-28T00:59:00.547245500Z"
    }
   },
   "outputs": [
    {
     "data": {
      "text/plain": "<Figure size 640x480 with 1 Axes>",
      "image/png": "[encoded data removed]"
     },
     "metadata": {},
     "output_type": "display_data"
    }
   ],
   "source": [
    "# Visualizing the data of 'count_per_album' as a bar plot using your function\n",
    "plot_lyric_count(count_per_album)"
   ]
  },
  {
   "cell_type": "markdown",
   "id": "1007a4c0-40a2-49a1-a1be-a97e9a6544dc",
   "metadata": {
    "deletable": false,
    "editable": false,
    "nbgrader": {
     "cell_type": "markdown",
     "checksum": "3f966e28c8e113018f9b6c45852d40a6",
     "grade": false,
     "grade_id": "cell-8fd5a89b5f967915",
     "locked": true,
     "schema_version": 3,
     "solution": false,
     "task": false
    }
   },
   "source": [
    "ii. Is the data balanced enough for album classification?"
   ]
  },
  {
   "cell_type": "markdown",
   "id": "b1736e34-b919-43bf-86b0-a0ead2aa866c",
   "metadata": {
    "deletable": false,
    "nbgrader": {
     "cell_type": "markdown",
     "checksum": "0838ca91f05b637c0b531f4e2f14703d",
     "grade": true,
     "grade_id": "cell-d5c991ee6c16e792",
     "locked": false,
     "points": 0.5,
     "schema_version": 3,
     "solution": true,
     "task": false
    }
   },
   "source": [
    "__Student Answer: the number of lyrics of the most albums are around 1000, but some albums like Taylor Swift, that only has half size of lines comparing to most frequent albumn, has relative small number of lyrics. The data is not enough balanced for album classification."
   ]
  },
  {
   "cell_type": "markdown",
   "id": "704a50ad-79cd-44a0-adea-4c22f5a145e8",
   "metadata": {
    "deletable": false,
    "editable": false,
    "nbgrader": {
     "cell_type": "markdown",
     "checksum": "58d7fd1d2bf59e7bd8556aa4926d0db4",
     "grade": false,
     "grade_id": "cell-7e70930f57bc2137",
     "locked": true,
     "schema_version": 3,
     "solution": false,
     "task": false
    }
   },
   "source": [
    "### d)\n",
    "In the following, we want to remove duplicate lyrics, as a song may contain a lyric more than once. Removing duplicates improves the interpretability of the further analysis and reduces an overfitting of the classification task on the duplicated lyrics. \n",
    "\n",
    "i. Therefore, as a first step, we remove all duplicate lyrics and keep only a single instance per duplicate lyric on each album. The obtained dataset has to be named `swift_df_proc`."
   ]
  },
  {
   "cell_type": "code",
   "execution_count": 9,
   "id": "9fb347c2-a30a-4260-9fda-4b740760cc7a",
   "metadata": {
    "deletable": false,
    "nbgrader": {
     "cell_type": "code",
     "checksum": "76d4f5d22e3655cbd2f3dc45e691654b",
     "grade": false,
     "grade_id": "cell-081438fb30f61c00",
     "locked": false,
     "schema_version": 3,
     "solution": true,
     "task": false
    },
    "ExecuteTime": {
     "end_time": "2024-01-28T00:59:00.785930700Z",
     "start_time": "2024-01-28T00:59:00.648499Z"
    }
   },
   "outputs": [
    {
     "data": {
      "text/plain": "<Figure size 640x480 with 1 Axes>",
      "image/png": "[encoded data removed]"
     },
     "metadata": {},
     "output_type": "display_data"
    }
   ],
   "source": [
    "# Dropping all duplicates of a lyric on an album\n",
    "swift_df_proc = swift_df.drop_duplicates();\n",
    "count_per_album = count_lyrics_per_album(swift_df_proc)\n",
    "plot_lyric_count(count_per_album)"
   ]
  },
  {
   "cell_type": "code",
   "execution_count": 9,
   "id": "7c8067eb-25c5-49f0-b453-54a32ca7285c",
   "metadata": {
    "deletable": false,
    "editable": false,
    "nbgrader": {
     "cell_type": "code",
     "checksum": "1bad96bb85bd06dd028e286345128b78",
     "grade": true,
     "grade_id": "cell-2a1f3798c1a99aae",
     "locked": true,
     "points": 0.5,
     "schema_version": 3,
     "solution": false,
     "task": false
    },
    "ExecuteTime": {
     "end_time": "2024-01-28T00:59:00.785930700Z",
     "start_time": "2024-01-28T00:59:00.762195200Z"
    }
   },
   "outputs": [],
   "source": []
  },
  {
   "cell_type": "markdown",
   "id": "4d802f45-48cb-42e5-98fc-90403d64b85d",
   "metadata": {
    "deletable": false,
    "editable": false,
    "nbgrader": {
     "cell_type": "markdown",
     "checksum": "28fc4921eafae57b336db1339aed29c3",
     "grade": false,
     "grade_id": "cell-ed8a25ffaa9b22e9",
     "locked": true,
     "schema_version": 3,
     "solution": false,
     "task": false
    }
   },
   "source": [
    "ii. Do lyrics occur in several albums? If this is the case, remove them entirely as such a lyric is not suitable for our further questions. If this is not the case, give the code that shows so. Remember also to give a clear answer below. "
   ]
  },
  {
   "cell_type": "markdown",
   "id": "800aa956-f9c2-4b54-8a68-0707b198bb55",
   "metadata": {
    "deletable": false,
    "nbgrader": {
     "cell_type": "markdown",
     "checksum": "ba4f5a291a8aa04a12167e9673aa0366",
     "grade": true,
     "grade_id": "cell-164c891ecf7548d0",
     "locked": false,
     "points": 0.5,
     "schema_version": 3,
     "solution": true,
     "task": false
    }
   },
   "source": [
    "__Student Answer:__ As we can see the lists above, some lines gets deleted after removing the duplicates. So some lyrics do occur in several albums."
   ]
  },
  {
   "cell_type": "code",
   "execution_count": 10,
   "outputs": [
    {
     "data": {
      "text/plain": "album\n1989 Deluxe                  580\nFearless Taylor’s Version    825\nLover                        632\nRed Deluxe Edition           665\nSpeak Now Deluxe             681\nTaylor Swift                 402\nevermore deluxe version      632\nfolklore deluxe version      544\nreputation                   598\nName: lyric, dtype: int64"
     },
     "metadata": {},
     "output_type": "display_data"
    },
    {
     "data": {
      "text/plain": "album\n1989 Deluxe                  574\nFearless Taylor’s Version    818\nLover                        629\nRed Deluxe Edition           660\nSpeak Now Deluxe             678\nTaylor Swift                 399\nevermore deluxe version      629\nfolklore deluxe version      542\nreputation                   597\nName: lyric, dtype: int64"
     },
     "metadata": {},
     "output_type": "display_data"
    }
   ],
   "source": [
    "count_per_album = count_lyrics_per_album(swift_df_proc)\n",
    "display(count_per_album)\n",
    "swift_df_proc = swift_df_proc.drop_duplicates(subset=['lyric'], keep=False)\n",
    "count_per_album = count_lyrics_per_album(swift_df_proc)\n",
    "display(count_per_album)\n"
   ],
   "metadata": {
    "collapsed": false,
    "ExecuteTime": {
     "end_time": "2024-01-28T00:59:00.832774200Z",
     "start_time": "2024-01-28T00:59:00.765188300Z"
    }
   },
   "id": "674336cd-9721-42d4-a614-525fb4cd9c79"
  },
  {
   "cell_type": "code",
   "execution_count": 10,
   "id": "bf4f2b3a-90e5-4397-bd48-363978c3355c",
   "metadata": {
    "deletable": false,
    "editable": false,
    "nbgrader": {
     "cell_type": "code",
     "checksum": "badd4d86dc0a5903a0c296c291203947",
     "grade": true,
     "grade_id": "cell-bc6dc589a24f5940",
     "locked": true,
     "points": 1,
     "schema_version": 3,
     "solution": false,
     "task": false
    },
    "ExecuteTime": {
     "end_time": "2024-01-28T00:59:00.835763900Z",
     "start_time": "2024-01-28T00:59:00.776155900Z"
    }
   },
   "outputs": [],
   "source": []
  },
  {
   "cell_type": "code",
   "execution_count": 11,
   "id": "fe74195a-9ce2-491e-bf56-30dca6f2b85a",
   "metadata": {
    "deletable": false,
    "editable": false,
    "nbgrader": {
     "cell_type": "code",
     "checksum": "6ea6c90728f5a29e9e48becf3703f500",
     "grade": false,
     "grade_id": "cell-87a8b88eea966d3c",
     "locked": true,
     "schema_version": 3,
     "solution": false,
     "task": false
    },
    "ExecuteTime": {
     "end_time": "2024-01-28T00:59:00.964337200Z",
     "start_time": "2024-01-28T00:59:00.777957900Z"
    }
   },
   "outputs": [
    {
     "data": {
      "text/plain": "album\n1989 Deluxe                  574\nFearless Taylor’s Version    818\nLover                        629\nRed Deluxe Edition           660\nSpeak Now Deluxe             678\nTaylor Swift                 399\nevermore deluxe version      629\nfolklore deluxe version      542\nreputation                   597\nName: lyric, dtype: int64"
     },
     "execution_count": 11,
     "metadata": {},
     "output_type": "execute_result"
    },
    {
     "data": {
      "text/plain": "<Figure size 640x480 with 1 Axes>",
      "image/png": "[encoded data removed]"
     },
     "metadata": {},
     "output_type": "display_data"
    }
   ],
   "source": [
    "plot_lyric_count(count_lyrics_per_album(swift_df_proc))\n",
    "count_lyrics_per_album(swift_df_proc)"
   ]
  },
  {
   "cell_type": "markdown",
   "id": "3252aa3e-ffe5-4016-a861-a1bfef708d6d",
   "metadata": {
    "deletable": false,
    "editable": false,
    "nbgrader": {
     "cell_type": "markdown",
     "checksum": "5a55083b758c06364cd1cb169261cd61",
     "grade": false,
     "grade_id": "cell-abd64a70e8132966",
     "locked": true,
     "schema_version": 3,
     "solution": false,
     "task": false
    }
   },
   "source": [
    "### e)\n",
    "The following tasks are more related to the preprocessing that has to be applied for the Text Mining context. First of all, we have to create a corpus. The obtained corpus should be named `corpus`. Make sure that each document in the corpus corresponds to exactly one lyric in `swift_df_proc`. "
   ]
  },
  {
   "cell_type": "code",
   "execution_count": 12,
   "id": "88ad9fad-7b6b-4d65-9bd4-926dff770f7c",
   "metadata": {
    "deletable": false,
    "nbgrader": {
     "cell_type": "code",
     "checksum": "f4363f9f25282091bb4cb56b18906e79",
     "grade": true,
     "grade_id": "cell-d9b7f136d978368c",
     "locked": false,
     "points": 0.5,
     "schema_version": 3,
     "solution": true,
     "task": false
    },
    "ExecuteTime": {
     "end_time": "2024-01-28T00:59:00.964337200Z",
     "start_time": "2024-01-28T00:59:00.882732100Z"
    }
   },
   "outputs": [],
   "source": [
    "# Creating the corpus\n",
    "corpus = swift_df_proc['lyric'].astype(str).values.tolist()"
   ]
  },
  {
   "cell_type": "markdown",
   "id": "52199265-b547-4197-8623-a6e1c8503196",
   "metadata": {
    "deletable": false,
    "editable": false,
    "nbgrader": {
     "cell_type": "markdown",
     "checksum": "f06958a450aecdc5e108be5d4ca6ab23",
     "grade": false,
     "grade_id": "cell-fcda43d7485c7cac",
     "locked": true,
     "schema_version": 3,
     "solution": false,
     "task": false
    }
   },
   "source": [
    "### f)\n",
    "Use the skeleton of the function `preprocessor_func` below to create a function that applies tokenization, stopword removal and lemmatization to an input string. The remaining tokens (after stopword removal and lemmatization) should be joined using a whitespace (' ').\n",
    "\n",
    "_Note: To keep the complexity low, we do not expect you to use POS tagging before lemmatizing. You can apply lemmatization only for the nouns. This is covered by using a lemmatizer without further arguments._"
   ]
  },
  {
   "cell_type": "code",
   "execution_count": 13,
   "id": "5b6222e4-3e38-4567-a1e1-3f99ed48ada0",
   "metadata": {
    "deletable": false,
    "nbgrader": {
     "cell_type": "code",
     "checksum": "31b2a41f36d158ea9349d00fdd0fe841",
     "grade": true,
     "grade_id": "cell-0285aeb5ccf544a4",
     "locked": false,
     "points": 1,
     "schema_version": 3,
     "solution": true,
     "task": false
    },
    "ExecuteTime": {
     "end_time": "2024-01-28T00:59:00.965334Z",
     "start_time": "2024-01-28T00:59:00.885474300Z"
    }
   },
   "outputs": [],
   "source": [
    "def preprocessor_func(text: str) -> str:\n",
    "    \"\"\"\n",
    "    Preprocesses a string using tokenization, stopword removal and lemmatization.\n",
    "    :param text: A string to be preprocessed.\n",
    "    :return: A joined string resulting from tokenization, stopword removal and lemmatization of an input string.\n",
    "    \"\"\"\n",
    "    str_list = reg_tokenizer.tokenize(text)\n",
    "    str_list = [ x for x in str_list if x.lower() not in stopword_list ]\n",
    "    return_str = \"\"\n",
    "    for temp_str in str_list:\n",
    "        return_str += wordnet_lemmatizer.lemmatize(temp_str).lower()+' '\n",
    "        \n",
    "    # remove the empty space at the end of the string\n",
    "    return_str = return_str[:-1]\n",
    "    return return_str\n",
    "    "
   ]
  },
  {
   "cell_type": "markdown",
   "id": "84bf80fa-ecbf-4d38-8f08-2a728fc15e07",
   "metadata": {
    "deletable": false,
    "editable": false,
    "nbgrader": {
     "cell_type": "markdown",
     "checksum": "fd62af3ec279d71fe41a6cb2c8b30683",
     "grade": false,
     "grade_id": "cell-3441db3ab6720ce4",
     "locked": true,
     "schema_version": 3,
     "solution": false,
     "task": false
    }
   },
   "source": [
    "### g)\n",
    "Now, create a preprocessed corpus `corpus_proc` by applying the preprocessing function to your corpus. For some tasks, we have to use the preprocessed corpus, and for some, the original corpus. This is indicated for each task."
   ]
  },
  {
   "cell_type": "code",
   "execution_count": 14,
   "id": "75a4249d-6bcb-4277-b4d8-377250e11f77",
   "metadata": {
    "deletable": false,
    "nbgrader": {
     "cell_type": "code",
     "checksum": "f9279503c9feb5fdc9d0a296492c6264",
     "grade": true,
     "grade_id": "cell-ac0bcb85911e4d04",
     "locked": false,
     "points": 0.5,
     "schema_version": 3,
     "solution": true,
     "task": false
    },
    "ExecuteTime": {
     "end_time": "2024-01-28T00:59:01.663727300Z",
     "start_time": "2024-01-28T00:59:00.893575Z"
    }
   },
   "outputs": [],
   "source": [
    "# Corpus preprocessing\n",
    "corpus_proc = list(map(preprocessor_func,corpus))"
   ]
  },
  {
   "cell_type": "markdown",
   "id": "c6f71344-dc17-4457-a0fa-85d916769c11",
   "metadata": {
    "deletable": false,
    "editable": false,
    "nbgrader": {
     "cell_type": "markdown",
     "checksum": "f624f7c17b98de9258833f86ad3da9ed",
     "grade": false,
     "grade_id": "cell-049bd0a6aba58dbc",
     "locked": true,
     "schema_version": 3,
     "solution": false,
     "task": false
    }
   },
   "source": [
    "### h)\n",
    "In this task, we create all preprocessed data for all remaining tasks within the Text Mining question exercise.\n",
    "For the later application of the set of words, we need to split the corpus.\n",
    "First, we need to split our input data into a train and test set according to the Pareto rule (80% training set size and 20% test set size).\n",
    "Therefore, split the dataframe `swift_df_proc` into a training and test set using the variable identifiers `df_train`, `df_test`, `y_train`, and `y_test`.\n",
    "Further, make sure that distribution based on the \"album\" value is preserved."
   ]
  },
  {
   "cell_type": "code",
   "execution_count": 15,
   "id": "119013af-d8dd-4085-ac77-ee23178b6366",
   "metadata": {
    "deletable": false,
    "nbgrader": {
     "cell_type": "code",
     "checksum": "ff8f5e447720ab016fde7de2da4039fd",
     "grade": true,
     "grade_id": "cell-bf9906ca7bc81fc7",
     "locked": false,
     "points": 0.5,
     "schema_version": 3,
     "solution": true,
     "task": false
    },
    "ExecuteTime": {
     "end_time": "2024-01-28T00:59:01.671471300Z",
     "start_time": "2024-01-28T00:59:01.664724200Z"
    }
   },
   "outputs": [],
   "source": [
    "df_train, df_test, y_train, y_test = train_test_split(\n",
    "    swift_df_proc['lyric'],swift_df_proc['album'], test_size=0.2, \n",
    ")"
   ]
  },
  {
   "cell_type": "markdown",
   "id": "74b84cd2-5f2c-4fc9-810b-611437baa0db",
   "metadata": {
    "deletable": false,
    "editable": false,
    "nbgrader": {
     "cell_type": "markdown",
     "checksum": "b9ea3eda0c4223a80409cbcb019c38d6",
     "grade": false,
     "grade_id": "cell-79f4d05b015e7fdc",
     "locked": true,
     "schema_version": 3,
     "solution": false,
     "task": false
    }
   },
   "source": [
    "### i)\n",
    "Lastly, we create two further corpora, `corpus_train` and `corpus_test`, using the split data and the identical approach that is used before."
   ]
  },
  {
   "cell_type": "code",
   "execution_count": 16,
   "id": "6a9d72ce-96c5-4914-8c55-cad75bf6a378",
   "metadata": {
    "deletable": false,
    "nbgrader": {
     "cell_type": "code",
     "checksum": "e6e85c1d4037daad61701b5549ca243f",
     "grade": true,
     "grade_id": "cell-f95f2e1ee0704677",
     "locked": false,
     "points": 0.5,
     "schema_version": 3,
     "solution": true,
     "task": false
    },
    "ExecuteTime": {
     "end_time": "2024-01-28T00:59:01.673396700Z",
     "start_time": "2024-01-28T00:59:01.668627500Z"
    }
   },
   "outputs": [],
   "source": [
    "corpus_train = df_train.astype(str).values.tolist()\n",
    "corpus_test = df_test.astype(str).values.tolist()"
   ]
  },
  {
   "cell_type": "markdown",
   "id": "aa7975ec-28ee-49cb-99c6-b8507cd82433",
   "metadata": {
    "deletable": false,
    "editable": false,
    "nbgrader": {
     "cell_type": "markdown",
     "checksum": "6894f5b05be1cd8109231b07a53cba31",
     "grade": false,
     "grade_id": "cell-45c3d55087d2210e",
     "locked": true,
     "schema_version": 3,
     "solution": false,
     "task": false
    }
   },
   "source": [
    "## Set of Words (6.5 Pts)"
   ]
  },
  {
   "cell_type": "markdown",
   "id": "7a7494a7-a797-4596-9fe7-484c083dd9a2",
   "metadata": {
    "deletable": false,
    "editable": false,
    "nbgrader": {
     "cell_type": "markdown",
     "checksum": "31db04f8b803d54bc9f04102a1bddc56",
     "grade": false,
     "grade_id": "cell-6996ea2f614f429f",
     "locked": true,
     "schema_version": 3,
     "solution": false,
     "task": false
    }
   },
   "source": [
    "In this subtask, we use the set of words technique to distinguish and recognize different lyrics based on which album they belong to. Set of words encodes the documents by indicating for each word in our vocabulary whether the word occurs in the sentence or not."
   ]
  },
  {
   "cell_type": "markdown",
   "id": "1b542a3c-bf20-42b2-973c-f0753215454c",
   "metadata": {
    "deletable": false,
    "editable": false,
    "nbgrader": {
     "cell_type": "markdown",
     "checksum": "251a1bb5b6197fe5ce956f3edf776d77",
     "grade": false,
     "grade_id": "cell-dc89d813750c9d3b",
     "locked": true,
     "schema_version": 3,
     "solution": false,
     "task": false
    }
   },
   "source": [
    "### j)\n",
    "Create a set of words encoding for the whole corpus. Use the previously defined preprocessor function `preprocessor_func` for our corpus `corpus`. "
   ]
  },
  {
   "cell_type": "code",
   "execution_count": 168,
   "id": "fbf82eea-9a3f-4447-9ea1-ce80aa4d859d",
   "metadata": {
    "deletable": false,
    "nbgrader": {
     "cell_type": "code",
     "checksum": "390bf1ff246b4bd8f751345e58f8f941",
     "grade": true,
     "grade_id": "cell-6c6783a12fc93671",
     "locked": false,
     "points": 0.5,
     "schema_version": 3,
     "solution": true,
     "task": false
    },
    "ExecuteTime": {
     "end_time": "2024-01-28T03:05:31.452020800Z",
     "start_time": "2024-01-28T03:05:31.363468100Z"
    }
   },
   "outputs": [
    {
     "data": {
      "text/plain": "['said way blue eye shined',\n 'put georgia star shame night',\n 'said lie',\n 'boy chevy truck',\n 'tendency gettin stuck',\n 'back road night',\n 'right beside summer long',\n 'time woke find summer gone',\n 'think tim mcgraw',\n 'hope think favorite song',\n 'one danced night long',\n 'moon like spotlight lake',\n 'think happiness',\n 'hope think little black dress',\n 'think head chest',\n 'old faded blue jean',\n 'think tim mcgraw',\n 'hope think',\n 'september saw month tear',\n 'thankin god',\n 'see like',\n 'box beneath bed',\n 'letter never read',\n 'three summer back',\n 'hard find little bittersweet',\n 'lookin back nice believe',\n 'back first time since',\n 'standin street',\n 'letter left doorstep',\n 'first thing read',\n 'think tim mcgraw',\n 'someday turn radio',\n 'hope take back place',\n 'oh think',\n 'mmmm',\n 'state obvious get perfect fantasy',\n 'realize love could ever love',\n 'go tell friend obsessive crazy',\n 'fine tell mine gay',\n 'way',\n 'hate stupid old pickup truck',\n 'never let drive',\n 'redneck heartbreak',\n 'really bad lying',\n 'watch strike match',\n 'wasted time',\n 'far concerned',\n 'another picture burn',\n 'time tear',\n 'sitting planning revenge',\n 'nothing stopping',\n 'going best friend',\n 'come around saying sorry',\n 'daddy gonna show sorry',\n 'cause hate stupid old pickup truck',\n 'missing',\n 'better keep',\n 'cause coming back around',\n 'would bad health',\n 'case heard',\n 'really really hate',\n 'stupid old pickup truck',\n 'burn burn burn baby burn',\n 'another picture burn',\n 'baby burn',\n 'drew look',\n 'fake smile see',\n 'want needing',\n 'everything',\n 'bet beautiful girl talk',\n 'got everything live without',\n 'drew talk',\n 'laugh cause funny',\n 'even see',\n 'anyone',\n 'say love finally got right',\n 'wonder know think night',\n 'reason teardrop guitar',\n 'thing keep wishing wishing star',\n 'song car keep singing know',\n 'drew walk',\n 'tell breathe',\n 'go perfectly',\n 'kind flawless wish could',\n 'better hold tight give love',\n 'look beautiful eye know lucky cause',\n 'drive home alone',\n 'turn light',\n 'put picture',\n 'maybe get sleep tonight',\n 'cause reason teardrop guitar',\n 'one got enough break heart',\n 'time taken never enough',\n 'need fall',\n 'know want ask',\n 'cause still trying figure',\n 'know road walking',\n 'trying see rain coming',\n 'even though one',\n 'feel way',\n 'alone know',\n 'strong wrong oh life go',\n 'oh girl trying find place world',\n 'got radio old blue jean',\n 'wearing heart sleeve',\n 'feeling lucky today got sunshine',\n 'could tell need',\n 'tomorrow mystery oh yeah',\n 'ok',\n 'maybe girl mission',\n 'ready fly',\n 'oh alone know',\n 'oh girl trying find place world',\n 'oh girl',\n 'oh girl oh oh',\n 'way coming easily',\n 'take take best',\n 'start fight cause need feel something',\n 'want cause wanted',\n 'oh shame rainy ending given perfect day',\n 'walk away use defending word never say',\n 'sitting thinking',\n 'never anywhere cold',\n 'put wall paint shade gray',\n 'stood loving wished away',\n 'come away great little story',\n 'mess dreamer nerve adore',\n 'walk away use defending word never say',\n 'never give damn thing honey cried cried',\n 'know told nobody died died died',\n 'every smile fake condescending counting scar made',\n 'know would find',\n 'went looking reason',\n 'know read line',\n 'baby got nowhere go',\n 'tried take road le traveled',\n 'nothing seems work first time',\n 'right',\n 'ever try better',\n 'nobody ever let',\n 'still see',\n 'best view',\n 'outside looking',\n 'lot lonely place',\n 'never outside',\n 'saw never knew',\n 'would give',\n 'part part',\n 'late see',\n 'could helped wanted',\n 'one notice late anything',\n 'still see',\n 'seems one see beauty',\n 'face mirror looking back',\n 'walk around thinking pretty',\n 'true cause know',\n 'hold baby losing',\n 'water high jumping',\n 'letting go',\n 'one know',\n 'cry tell anyone',\n 'might golden one',\n 'tied together smile',\n 'coming undone',\n 'guess true love wanted',\n 'cause giving away like extra change',\n 'hoping end pocket',\n 'leaf like penny rain',\n 'oh cause price pay',\n 'price pay',\n 'tied together smile',\n 'goodbye baby',\n 'smile baby baby',\n 'cory eye like jungle',\n 'smile like radio',\n 'whisper song window',\n 'word nobody know',\n 'pretty girl every corner',\n 'watch walking home',\n 'saying know',\n 'ever know',\n 'beautiful',\n 'every little piece love',\n 'know',\n 'really gonna someone',\n 'ask anyone',\n 'find everything looked',\n 'hope life lead back door',\n 'oh',\n 'stay beautiful',\n 'cory find another way',\n 'highlight day',\n 'taking picture mind',\n 'save rainy day',\n 'hard make conversation',\n 'taking breath away',\n 'say hey way',\n 'story',\n 'never get told',\n 'daydream',\n 'never get hold',\n 'least know',\n 'hope life lead back front door',\n 'stay',\n 'beautiful beautiful beautiful',\n 'beautiful beautiful beautiful',\n 'la la la',\n 'na na na na na',\n 'strange think song used sing',\n 'smile flower everything gone',\n 'yesterday found',\n 'even looking feel wrong',\n 'say take back given one chance',\n 'moment weakness said yes',\n 'said gone home',\n 'thought twice fore let go',\n 'known word',\n 'bout',\n 'get back get back',\n 'back mind',\n 'asking',\n 'begging forgiveness foot',\n 'said baby might still',\n 'see cry',\n 'baby know right thing say',\n 'honestly expect believe',\n 'could ever',\n 'say past past need one chance',\n 'bout',\n 'resist',\n 'go tell',\n 'worth',\n 'worth',\n '',\n 'said seven nine',\n 'looked like star shined',\n 'sky pretty light',\n 'daddy used joke two u',\n 'growing falling love mama smiled',\n 'rolled eye said oh',\n 'take back house backyard tree',\n 'said beat bigger',\n 'never never',\n 'take back world one block wide',\n 'dared kiss ran tried',\n 'two kid',\n 'oh',\n 'well sixteen suddenly',\n 'little girl used see',\n 'eye still shined like pretty light',\n 'never believed really fall love',\n 'mama smiled rolled eye',\n 'said oh',\n 'take back creek bed turned',\n 'two riding truck need next',\n 'take back time first fight',\n 'slamming door instead kissing goodnight',\n 'stayed outside til morning light',\n 'year gone come around',\n 'sitting favorite spot town',\n 'looked got one knee',\n 'take back time walked aisle',\n 'whole town came mama cried',\n 'said',\n 'take home met many year',\n 'rock baby front porch',\n 'time',\n 'eighty seven eighty nine',\n 'still look like star shine',\n 'sky oh',\n 'ridin shotgun hair undone',\n 'front seat car',\n 'got one hand feel steering wheel',\n 'heart',\n 'look around turn radio',\n 'say baby something wrong',\n 'say nothin thinkin',\n 'song',\n 'say',\n 'song slamming screen door',\n 'sneakin late tapping window',\n 'phone talk real slow',\n 'cause late mama know',\n 'song way laugh',\n 'first date man kiss',\n 'got home fore said amen',\n 'asking god could play',\n 'walking front porch step',\n 'everything day',\n 'gone wrong trampled',\n 'lost thrown away',\n 'got hallway well way',\n 'lovin bed',\n 'almost notice rose',\n 'note said',\n 'da da da da',\n 'heard every album listened radio',\n 'waited somethin come along',\n 'good song',\n 'cause song slamming screen door',\n 'sneakin late tappin window',\n 'phone talk real slow',\n 'cause late mama know',\n 'song way laugh',\n 'first date man kiss',\n 'play oh yeah',\n 'oh oh yeah',\n 'grabbed pen old napkin',\n 'wrote song',\n 'friday night beneath star',\n 'field behind yard',\n 'painting picture sky',\n 'sometimes say thing',\n 'listen cricket sing',\n 'everything need right side',\n 'know everything',\n 'wanna live without',\n '',\n 'wanna fly still ground',\n 'like matter',\n 'well drive crazy half time',\n 'half tryna',\n 'let know feel true',\n '',\n 'small town boy girl',\n 'living crazy world',\n 'tryna figure true',\n 'try hide tear',\n 'secret deepest fear',\n 'nobody get like',\n 'know everything',\n 'say live without',\n 'anybody else',\n 'hard',\n 'tell',\n '',\n 'wanna',\n 'well',\n 'uh huh yeah',\n 'see way eye',\n 'light smile',\n 'never notice stop stare',\n 'whenever walk',\n 'see wanting way want',\n 'everything',\n 'wanna show',\n 'even know',\n 'never gonna love like want',\n 'see right',\n 'knew',\n 'could beautiful',\n 'miracle',\n 'unbelievable',\n 'instead invisible',\n 'fire inside',\n 'help shine',\n 'never gonna see light',\n 'matter',\n 'think make think',\n 'everything could',\n 'wanna show',\n 'knew',\n 'like shadow faded light',\n 'oh invisible',\n 'wanna open eye',\n 'make realize',\n 'baby let love',\n 'let want',\n 'see right',\n 'would wanna break perfectly good heart',\n 'would wanna take love tear apart',\n 'would wanna make first scar',\n 'maybe seen sign',\n 'read writing wall',\n 'realized distance eye would one fall',\n 'matter say still believe',\n 'would walk away',\n 'make sense',\n 'unbroken anymore',\n 'get back way',\n 'would wanna break would wanna break',\n 'want need',\n 'everything',\n 'bet beautiful',\n 'girl talk',\n 'got everything',\n 'live without',\n 'even see',\n 'say love',\n 'finally got right',\n 'wonder know',\n 'think night',\n 'song car keep singing',\n 'know',\n 'better hold tight',\n 'give love',\n 'look beautiful eye',\n 'know lucky cause',\n 'drive home alone',\n 'something bout way',\n 'street look rained',\n 'glow pavement walk car',\n 'know wanna ask dance right',\n 'middle parking lot yeah',\n 'driving road wonder know',\n 'trying hard get caught',\n 'cool run hand hair',\n 'absent mindedly making want',\n 'know get better',\n 'take hand drag head first fearless',\n 'know dance',\n 'storm best dress fеarless',\n 'baby drive slow til run road onе horse town',\n 'wanna stay right passenger seat',\n 'put eye',\n 'moment capture remember',\n 'cause know get better',\n 'storm best dress fearless',\n 'well stood doorway',\n 'hand shake usually way',\n 'pull little brave',\n 'first kiss flawless really something',\n 'fearless',\n 'cause know get better',\n 'oh oh yeah',\n 'take deep breath walk door',\n 'mornin first day',\n 'say hi friend seen',\n 'try stay everybody way',\n 'freshman year gonna',\n 'next four year town',\n 'hopin one senior boy wink say',\n 'know seen around',\n 'cause fifteen somebody tell love',\n 'gonna believe',\n 'fifteen feelin like nothin figure',\n 'well count ten take',\n 'life know gonna',\n 'fifteen',\n 'sit class next redhead named abigail',\n 'soon enough best friend',\n 'laughin girl think cool',\n 'outta soon',\n 'first date got car',\n 'feelin like flyin',\n 'mama waitin thinkin one',\n 'dancin round room night end',\n 'night end',\n 'fifteen first kiss',\n 'makes head spin around well',\n 'life thing greater',\n 'datin boy football team',\n 'know fifteen',\n 'wanted wanted',\n 'wish could go back tell know',\n 'back swore gonna marry someday',\n 'realized bigger dream mine',\n 'abigail gave everything',\n 'boy changed mind',\n 'cried',\n 'cause fifteen somebody tell love',\n 'fifteen forget look fall',\n 'found time heal anything',\n 'might find supposed',\n 'know supposed',\n 'la la la la la la la la la la',\n 'la la la la la la',\n 'first day',\n 'take deep breath girl',\n 'take deep breath walk door',\n 'young first saw',\n 'close eye flashback start',\n 'standing',\n 'balcony summer air',\n 'see light see party ball gown',\n 'see make way crowd',\n 'say hello',\n 'little know',\n 'romeo throwing pebble',\n 'daddy said stay away juliet',\n 'cry staircase',\n 'begging please go said',\n 'romeo take somewhere alone',\n 'waiting left run',\n 'prince princess',\n 'love story baby say yes',\n 'sneak garden see',\n 'keep quiet cause dead knew',\n 'close eye',\n 'escape town little oh oh',\n 'cause romeo scarlet letter',\n 'everything',\n 'begging please go said',\n 'romeo save trying tell feel',\n 'love difficult real',\n 'afraid make mess',\n 'got tired waiting',\n 'wondering ever coming around',\n 'faith fading',\n 'met outskirt town',\n 'said romeo save feeling alone',\n 'keep waiting never come',\n 'head know think',\n 'knelt ground pulled ring said',\n 'marry juliet never alone',\n 'love really know',\n 'talked dad go pick white dress',\n 'love story baby say yes',\n 'cause young first saw',\n 'mmm mm mm mm',\n 'mmm mm mm mm yeah',\n 'hey stephen know look deceiving',\n 'know saw light',\n 'walked talking',\n 'say half thing wanted',\n 'girl tossing rock window',\n 'one waiting even cold',\n 'hey stephen boy might believing',\n 'always alone',\n 'cause help look like angel',\n 'help wanna kiss rain',\n 'come feel magic feeling since met',\n 'help one else',\n 'mmm help',\n 'hey stephen holding back feeling',\n 'got thing say',\n 'seen thought',\n 'never seen nobody shine way',\n 'way walk way talk way say name',\n 'beautiful wonderful ever change',\n 'hey stephen people always leaving',\n 'think stay',\n 'dimming street light perfect',\n 'tonight',\n 'waiting alone come come',\n 'pull near shine shine shine',\n 'hey stephen could give fifty reason',\n 'one choose',\n 'girl well beautiful',\n 'would write song ha ha ha',\n 'help look like angel',\n 'look like angel',\n 'ah uh',\n 'mmm mm help',\n 'help',\n 'say sorry face angel',\n 'comes need',\n 'paced back forth time',\n 'cause honestly believed',\n 'holdin day drag',\n 'stupid girl shoulda known shoulda known',\n 'princess fairytale',\n 'one sweep foot lead stairwell',\n 'hollywood small town',\n 'dreamer went let',\n 'late white horse',\n 'come around',\n 'maybe nai got lost eye',\n 'never really chance',\n 'mistake know bе love',\n 'fight uppеr hand',\n 'many dream',\n 'happy ending know',\n 'knee',\n 'beggin forgiveness beggin',\n 'like always wanted',\n 'sorry',\n 'cause princess fairytale',\n 'gonna find someone someday',\n 'might actually treat well',\n 'big world small town',\n 'rearview mirror disappearing',\n 'late white horse',\n 'catch',\n 'oh whoa whoa whoa',\n 'try catch oh',\n 'late catch',\n 'phone girlfriend upset',\n 'going something said',\n 'cause get humor like',\n 'room typical tuesday night',\n 'listening kind music like',\n 'never know story like',\n 'cause wear short skirt wear shirt',\n 'cheer captain bleacher',\n 'dreaming bout day wake find',\n 'looking whole time',\n 'could see onе understands',\n 'along see',\n 'bеlong belong',\n 'walking street worn jean',\n 'help thinking ought',\n 'laughing park bench thinking',\n 'hey easy',\n 'got smile could light whole town',\n 'seen since brought',\n 'say fine know better',\n 'hey whatcha girl like',\n 'wear high heel wear sneaker',\n 'dreaming day wake find',\n 'could see one understands',\n 'belong',\n 'standing waiting back door',\n 'time could know baby',\n 'belong belong',\n 'oh remember driving house',\n 'one make laugh',\n 'know bout cry',\n 'know favorite song',\n 'tell bout dream',\n 'think know belong',\n 'think know',\n 'see one understands',\n 'ever thought maybe',\n 'belong',\n 'see face mind drive away',\n 'cause none u thought gonna end way',\n 'people people sometimes change mind',\n 'killing see go time',\n 'mm mm mm mm mm mm',\n 'music start playing like end sad movie',\n 'kind ending really wanna see',\n 'cause tragedy bring',\n 'know without around',\n 'know never simple never easy',\n 'never clean break one save',\n 'thing know like back hand',\n 'breathe without',\n 'breathe without',\n 'never wanted never wanna see hurt',\n 'every little bump road tried swerve',\n 'people people sometimes work',\n 'nothin say gonna save u fallout',\n 'breathe without',\n '2 feeling like lost friend',\n 'hope know easy easy',\n 'hope know easy easy',\n 'never clean break one save oh',\n 'breathe without',\n 'sorry sorry mmm',\n 'sorry yeah yeah sorry',\n 'sorry sorry ooh ooh',\n 'sorry',\n 'took chance took shot',\n 'might think bulletproof',\n 'took swing took hard',\n 'ground see',\n 'sick tired attitude',\n 'feeling like know',\n 'tell love cut',\n 'need like heartbeat',\n 'know got mean streak',\n 'makes run cover around',\n 'temper',\n 'yes remember said last night',\n 'know see doin',\n 'tell',\n 'well could write book',\n 'ruin someone perfеct day',\n 'well get confused frustratеd',\n 'forget tryin say oh',\n 'sick tired reason',\n 'got one believe',\n 'tell want push around',\n 'make feel small',\n 'feel whole inside',\n 'put dream',\n 'thing mind',\n 'feeling like know',\n 'tell want cut',\n 'got one believe',\n 'ask love push around',\n 'tell',\n 'tell oh',\n 'take step back let go',\n 'told bulletproof',\n 'know',\n 'time wasting hoping would come around',\n 'giving chance every time let',\n 'taken long baby figured',\n 'thinking fine time around',\n 'call anymore',\n 'pick phone',\n 'last straw',\n 'wanna hurt anymore',\n 'tell sorry',\n 'believe baby like',\n 'sorry',\n 'oh oh',\n 'looking innocent might believe know',\n 'could loved life lеft waiting cold',\n 'got sharе secret',\n 'tired last know oh',\n 'asking listen',\n 'cause worked time',\n 'call anymore',\n 'crawling honey',\n 'never would gone away',\n 'used shine bright watched fade',\n 'call anymore',\n 'nothing left beg',\n '',\n 'woah oh oh oh oh oh oh',\n 'oh oh oh',\n 'sensible incredible',\n 'single friend jealous',\n 'say everything need hear like',\n 'ask anything better',\n 'open door get car',\n 'say look beautiful tonight',\n 'feel perfectly fine',\n 'miss screaming fighting kissing rain',\n '2am cursing name',\n 'love act insane',\n 'way loved',\n 'breaking coming undone',\n 'rollercoaster kind rush',\n 'never knew could feel much',\n 'respect space',\n 'never make wait',\n 'call exactly say',\n 'close mother',\n 'talks business father',\n 'charming endearing',\n 'comfortable',\n 'love acted insane',\n 'see smile faking',\n 'heart breaking',\n 'cause feeling anything',\n 'wild crazy',\n 'frustrating',\n 'intoxicating complicated',\n 'got away mistake',\n 'miss screaming fighting kissing rain',\n '2am cursing name',\n 'love acted insane',\n 'way loved oh oh',\n 'whoa whoa oh oh oh',\n 'way loved oh oh oh oh',\n 'oh oh oh whoa',\n 'never knew could feel much',\n 'upon time',\n 'believe tuesday caught eye',\n 'caught onto something',\n 'hold onto night',\n 'looked eye told loved',\n 'kidding',\n 'cause seems',\n 'thing breaking almost never speak',\n 'feel welcome anymore',\n 'baby happened please tell',\n 'cause one second perfect',\n 'halfway door',\n 'stare phone still called',\n 'feel low feel nothing',\n 'flashback said forever always',\n 'oh rain bedroom',\n 'everything wrong',\n 'rain rain gone',\n 'cause said forever always',\n 'line',\n 'say something way honest made run hide',\n 'like scared little boy',\n 'looked eye',\n 'thought knew minute sure',\n 'everything coming nothing',\n 'silence cut core',\n 'going',\n 'thought knew minute anymore',\n 'mean baby think',\n 'oh back baby back',\n 'forget everything',\n 'back baby back',\n 'cause rain bedroom',\n 'oh stare phone still called',\n 'flashback said forever always',\n 'rain bedroom',\n 'mean baby',\n 'said forever always yeah',\n 'five year old getting cold got big coat',\n 'hear laugh look smiling run run',\n 'past pumpkin patch tractor ride',\n 'look sky gold',\n 'hug leg fall asleep way home',\n 'know tree change fall',\n 'know scared anything',\n 'know snow white house near far away',\n 'know best day today',\n 'thirteen',\n 'know friend could mean',\n 'come home cry hold tight grab key',\n 'drive drive found town far enough away',\n 'talk window shop til forgotten name',\n 'know going talk school',\n 'know laughing car ride home',\n 'know long going take feel okay',\n 'excellent father strength making stronger',\n 'god smile little brother inside',\n 'better',\n 'grew pretty house space run',\n 'best day',\n 'video found back three',\n 'set paint set kitchen talking',\n 'age princess pirate ship seven dwarf',\n 'daddy smart',\n 'prettiest lady whole wide world',\n 'know tree change fall',\n 'know side even wrong',\n 'love giving eye',\n 'staying back watching shine',\n 'know knew taking chance say',\n 'best day today',\n 'well sad picture final blow hit',\n 'somebody else get wanted',\n 'know another time place',\n 'repeating history getting sick',\n 'believe whatever',\n 'anything see',\n 'thing change',\n 'feel',\n 'wall put hold u back fall',\n 'revolution time come',\n 'u finally win',\n 'sing hallelujah sing hallelujah',\n 'outnumbered raidеd cornered',\n 'hard fight thе fight fair',\n 'getting stronger find thing never found',\n 'might bigger faster never scared',\n 'walk away say need',\n 'something eye say beat',\n 'cause thing change',\n 'sing hallelujah sing hallelujah',\n 'tonight stand get knee',\n 'fight worked year',\n 'battle long fight life',\n 'stand champion tonight',\n 'night thing changed',\n 'see',\n 'wall put hold u back fell',\n 'revolution throw hand',\n 'cause never gave',\n 'sing hallelujah sang hallelujah',\n 'hallelujah',\n 'like way sound morning',\n 'phone without warning',\n 'realize laugh best sound',\n 'ever heard',\n 'like way keep focus',\n 'watch talk notice',\n 'hear word think',\n 'together',\n 'every time smile smile',\n 'every time shine shine',\n 'whoa oh feeling baby',\n 'afraid',\n 'jump fall',\n 'jump fall',\n 'baby never gonna leave',\n 'say wanna',\n 'cause stay',\n 'jump fall',\n 'well like way hair fall face',\n 'got key',\n 'love freckle face oh',\n 'never wrapped honey',\n 'like way everything ever wanted',\n 'time think',\n 'say come closer',\n 'take deep breath jump fall',\n 'cause every time smile smile',\n 'bottom gonna drop foot',\n 'catch catch',\n 'people say thing bring knee',\n 'catch',\n 'time gonna come mad could cry',\n 'hold night smile',\n 'whoa oh need baby',\n 'afraid please',\n 'jump fall baby',\n 'jump fall',\n 'every time shine shine',\n 'every time',\n 'baby show show',\n 'jump fall jump fall',\n 'jump fall yeah',\n 'untouchable like distant diamond sky',\n 'reaching tell',\n 'caught caught',\n 'untouchable burning brighter sun',\n 'close feel like coming undone',\n 'middle night dream',\n 'like million little star spelling name',\n 'got come come say together',\n 'come come little taste heaven',\n 'half full wait day',\n 'know saying anyway',\n 'untouchable burning brighter sun',\n 'close feel like coming undone',\n 'come come oh',\n 'middle night waking dream',\n 'want feel side standing next',\n 'caught',\n 'oh oh oh oh oh',\n 'close feel like coming undone',\n 'come come come',\n 'oh oh oh oh oh oh oh oh',\n 'middle night dream',\n 'got come come oh',\n 'come come',\n 'come come oh oh oh',\n 'spelling name oh',\n 'hold night',\n 'happened please tell',\n 'flashback said forever always',\n 'said forever always',\n 'flashback said forever always',\n 'oh oh oh oh oh oh',\n 'oh oh oh oh oh',\n 'forget everythi ing',\n 'please back oh back',\n 'flashback said forever always',\n 'said forever always yeah',\n 'could go back every laugh',\n 'wanna go anymore',\n 'know step door',\n 'talk wind talk sky',\n 'talk man reason',\n 'let know find',\n 'leave window open',\n 'cause tired night call name',\n 'know right hoping',\n 'come rain',\n 'could stand sing song',\n 'wanna go far',\n 'got know heart',\n 'even know start',\n 'talk talk tear',\n 'talk man put',\n 'wait sky clear',\n 'cause tired night call name oh',\n 'watched long screamed name',\n 'know else say',\n 'cause tired night game',\n 'wrong help feel like',\n 'nothing right babe',\n 'misty morning come',\n 'help wish could see face',\n 'knew first note played',\n 'breaking rule see',\n 'smile beautiful smile girl front row',\n 'scream name',\n 'dim spotlight tell thing like',\n 'keep eye',\n 'one special another wide eyed girl',\n 'desperately love',\n 'give photograph hang wall superstar',\n 'morning lonelinеss',\n 'comes around dreaming',\n 'whеn world wake today',\n 'another town',\n 'knew saw face',\n 'counting way see',\n 'take eye',\n 'played bar play guitar',\n 'invisible everyone know',\n 'never see sing sleep',\n 'every night radio',\n 'sweet sweet superstar',\n 'superstar',\n 'heat fight walked away',\n 'ignorin word sayin',\n 'tryna make stay',\n 'said time enough',\n 'called hundred time',\n 'picking',\n 'cause mad might tell',\n 'look little closer',\n 'said leave really want',\n 'stand outside window throwin pebble',\n 'screamin love',\n 'wait pourin rain comin back',\n 'leave cause know',\n 'need side door',\n 'stupid pride sittin alone',\n 'goin photograph starin phone',\n 'keep goin back thing said',\n 'remember slamming door',\n 'thing misread',\n 'oh babe know everything',\n 'tell see',\n 'left wanted chase yeah',\n 'scream window',\n 'even look',\n 'need',\n 'say nothing say',\n 'make right mean mean',\n 'mean',\n 'said leave baby want',\n 'face beautiful eye',\n 'conversation little white lie',\n ...]"
     },
     "metadata": {},
     "output_type": "display_data"
    },
    {
     "data": {
      "text/plain": "['said',\n 'way',\n 'blue',\n 'eye',\n 'shined',\n 'put',\n 'georgia',\n 'star',\n 'shame',\n 'night',\n 'lie',\n 'boy',\n 'chevy',\n 'truck',\n 'tendency',\n 'gettin',\n 'stuck',\n 'back',\n 'road',\n 'right',\n 'beside',\n 'summer',\n 'long',\n 'time',\n 'woke',\n 'find',\n 'gone',\n 'think',\n 'tim',\n 'mcgraw',\n 'hope',\n 'favorite',\n 'song',\n 'one',\n 'danced',\n 'moon',\n 'like',\n 'spotlight',\n 'lake',\n 'happiness',\n 'little',\n 'black',\n 'dress',\n 'head',\n 'chest',\n 'old',\n 'faded',\n 'jean',\n 'september',\n 'saw',\n 'month',\n 'tear',\n 'thankin',\n 'god',\n 'see',\n 'box',\n 'beneath',\n 'bed',\n 'letter',\n 'never',\n 'read',\n 'three',\n 'hard',\n 'bittersweet',\n 'lookin',\n 'nice',\n 'believe',\n 'first',\n 'since',\n 'standin',\n 'street',\n 'left',\n 'doorstep',\n 'thing',\n 'someday',\n 'turn',\n 'radio',\n 'take',\n 'place',\n 'oh',\n 'mmmm',\n 'state',\n 'obvious',\n 'get',\n 'perfect',\n 'fantasy',\n 'realize',\n 'love',\n 'could',\n 'ever',\n 'go',\n 'tell',\n 'friend',\n 'obsessive',\n 'crazy',\n 'fine',\n 'mine',\n 'gay',\n 'hate',\n 'stupid',\n 'pickup',\n 'let',\n 'drive',\n 'redneck',\n 'heartbreak',\n 'really',\n 'bad',\n 'lying',\n 'watch',\n 'strike',\n 'match',\n 'wasted',\n 'far',\n 'concerned',\n 'another',\n 'picture',\n 'burn',\n 'sitting',\n 'planning',\n 'revenge',\n 'nothing',\n 'stopping',\n 'going',\n 'best',\n 'come',\n 'around',\n 'saying',\n 'sorry',\n 'daddy',\n 'gonna',\n 'show',\n 'cause',\n 'missing',\n 'better',\n 'keep',\n 'coming',\n 'would',\n 'health',\n 'case',\n 'heard',\n 'baby',\n 'drew',\n 'look',\n 'fake',\n 'smile',\n 'want',\n 'needing',\n 'everything',\n 'bet',\n 'beautiful',\n 'girl',\n 'talk',\n 'got',\n 'live',\n 'without',\n 'laugh',\n 'funny',\n 'even',\n 'anyone',\n 'say',\n 'finally',\n 'wonder',\n 'know',\n 'reason',\n 'teardrop',\n 'guitar',\n 'wishing',\n 'car',\n 'singing',\n 'walk',\n 'breathe',\n 'perfectly',\n 'kind',\n 'flawless',\n 'wish',\n 'hold',\n 'tight',\n 'give',\n 'lucky',\n 'home',\n 'alone',\n 'light',\n 'maybe',\n 'sleep',\n 'tonight',\n 'enough',\n 'break',\n 'heart',\n 'taken',\n 'need',\n 'fall',\n 'ask',\n 'still',\n 'trying',\n 'figure',\n 'walking',\n 'rain',\n 'though',\n 'feel',\n 'strong',\n 'wrong',\n 'life',\n 'world',\n 'wearing',\n 'sleeve',\n 'feeling',\n 'today',\n 'sunshine',\n 'tomorrow',\n 'mystery',\n 'yeah',\n 'ok',\n 'mission',\n 'ready',\n 'fly',\n 'easily',\n 'start',\n 'fight',\n 'something',\n 'wanted',\n 'rainy',\n 'ending',\n 'given',\n 'day',\n 'away',\n 'use',\n 'defending',\n 'word',\n 'thinking',\n 'anywhere',\n 'cold',\n 'wall',\n 'paint',\n 'shade',\n 'gray',\n 'stood',\n 'loving',\n 'wished',\n 'great',\n 'story',\n 'mess',\n 'dreamer',\n 'nerve',\n 'adore',\n 'damn',\n 'honey',\n 'cried',\n 'told',\n 'nobody',\n 'died',\n 'every',\n 'condescending',\n 'counting',\n 'scar',\n 'made',\n 'went',\n 'looking',\n 'line',\n 'nowhere',\n 'tried',\n 'le',\n 'traveled',\n 'seems',\n 'work',\n 'try',\n 'view',\n 'outside',\n 'lot',\n 'lonely',\n 'knew',\n 'part',\n 'late',\n 'helped',\n 'notice',\n 'anything',\n 'beauty',\n 'face',\n 'mirror',\n 'pretty',\n 'true',\n 'losing',\n 'water',\n 'high',\n 'jumping',\n 'letting',\n 'cry',\n 'might',\n 'golden',\n 'tied',\n 'together',\n 'undone',\n 'guess',\n 'giving',\n 'extra',\n 'change',\n 'hoping',\n 'end',\n 'pocket',\n 'leaf',\n 'penny',\n 'price',\n 'pay',\n 'goodbye',\n 'cory',\n 'jungle',\n 'whisper',\n 'window',\n 'corner',\n 'piece',\n 'someone',\n 'looked',\n 'lead',\n 'door',\n 'stay',\n 'highlight',\n 'taking',\n 'mind',\n 'save',\n 'make',\n 'conversation',\n 'breath',\n 'hey',\n 'daydream',\n 'least',\n 'front',\n 'la',\n 'na',\n 'strange',\n 'used',\n 'sing',\n 'flower',\n 'yesterday',\n 'found',\n 'chance',\n 'moment',\n 'weakness',\n 'yes',\n 'thought',\n 'twice',\n 'fore',\n 'known',\n 'bout',\n 'asking',\n 'begging',\n 'forgiveness',\n 'foot',\n 'honestly',\n 'expect',\n 'past',\n 'resist',\n 'worth',\n '',\n 'seven',\n 'nine',\n 'sky',\n 'joke',\n 'two',\n 'u',\n 'growing',\n 'falling',\n 'mama',\n 'smiled',\n 'rolled',\n 'house',\n 'backyard',\n 'tree',\n 'beat',\n 'bigger',\n 'block',\n 'wide',\n 'dared',\n 'kiss',\n 'ran',\n 'kid',\n 'well',\n 'sixteen',\n 'suddenly',\n 'believed',\n 'creek',\n 'turned',\n 'riding',\n 'next',\n 'slamming',\n 'instead',\n 'kissing',\n 'goodnight',\n 'stayed',\n 'til',\n 'morning',\n 'year',\n 'spot',\n 'town',\n 'knee',\n 'walked',\n 'aisle',\n 'whole',\n 'came',\n 'met',\n 'many',\n 'rock',\n 'porch',\n 'eighty',\n 'shine',\n 'ridin',\n 'shotgun',\n 'hair',\n 'seat',\n 'hand',\n 'steering',\n 'wheel',\n 'nothin',\n 'thinkin',\n 'screen',\n 'sneakin',\n 'tapping',\n 'phone',\n 'real',\n 'slow',\n 'date',\n 'man',\n 'amen',\n 'play',\n 'step',\n 'trampled',\n 'lost',\n 'thrown',\n 'hallway',\n 'lovin',\n 'almost',\n 'rose',\n 'note',\n 'da',\n 'album',\n 'listened',\n 'waited',\n 'somethin',\n 'along',\n 'good',\n 'tappin',\n 'grabbed',\n 'pen',\n 'napkin',\n 'wrote',\n 'friday',\n 'field',\n 'behind',\n 'yard',\n 'painting',\n 'sometimes',\n 'listen',\n 'cricket',\n 'side',\n 'wanna',\n 'ground',\n 'matter',\n 'half',\n 'tryna',\n 'small',\n 'living',\n 'hide',\n 'secret',\n 'deepest',\n 'fear',\n 'anybody',\n 'else',\n 'uh',\n 'huh',\n 'stop',\n 'stare',\n 'whenever',\n 'wanting',\n 'miracle',\n 'unbelievable',\n 'invisible',\n 'fire',\n 'inside',\n 'help',\n 'shadow',\n 'open',\n 'apart',\n 'seen',\n 'sign',\n 'writing',\n 'realized',\n 'distance',\n 'sense',\n 'unbroken',\n 'anymore',\n 'rained',\n 'glow',\n 'pavement',\n 'dance',\n 'middle',\n 'parking',\n 'driving',\n 'caught',\n 'cool',\n 'run',\n 'absent',\n 'mindedly',\n 'making',\n 'drag',\n 'fearless',\n 'storm',\n 'fеarless',\n 'onе',\n 'horse',\n 'passenger',\n 'capture',\n 'remember',\n 'doorway',\n 'shake',\n 'usually',\n 'pull',\n 'brave',\n 'deep',\n 'mornin',\n 'hi',\n 'everybody',\n 'freshman',\n 'four',\n 'hopin',\n 'senior',\n 'wink',\n 'fifteen',\n 'somebody',\n 'feelin',\n 'count',\n 'ten',\n 'sit',\n 'class',\n 'redhead',\n 'named',\n 'abigail',\n 'soon',\n 'laughin',\n 'outta',\n 'flyin',\n 'waitin',\n 'dancin',\n 'round',\n 'room',\n 'makes',\n 'spin',\n 'greater',\n 'datin',\n 'football',\n 'team',\n 'swore',\n 'marry',\n 'dream',\n 'gave',\n 'changed',\n 'forget',\n 'heal',\n 'supposed',\n 'young',\n 'close',\n 'flashback',\n 'standing',\n 'balcony',\n 'air',\n 'party',\n 'ball',\n 'gown',\n 'crowd',\n 'hello',\n 'romeo',\n 'throwing',\n 'pebble',\n 'juliet',\n 'staircase',\n 'please',\n 'somewhere',\n 'waiting',\n 'prince',\n 'princess',\n 'sneak',\n 'garden',\n 'quiet',\n 'dead',\n 'escape',\n 'scarlet',\n 'difficult',\n 'afraid',\n 'tired',\n 'wondering',\n 'faith',\n 'fading',\n 'outskirt',\n 'knelt',\n 'pulled',\n 'ring',\n 'talked',\n 'dad',\n 'pick',\n 'white',\n 'mmm',\n 'mm',\n 'stephen',\n 'deceiving',\n 'talking',\n 'tossing',\n 'believing',\n 'always',\n 'angel',\n 'magic',\n 'holding',\n 'name',\n 'wonderful',\n 'people',\n 'leaving',\n 'dimming',\n 'near',\n 'fifty',\n 'choose',\n 'write',\n 'ha',\n 'ah',\n 'comes',\n 'paced',\n 'forth',\n 'holdin',\n 'shoulda',\n 'fairytale',\n 'sweep',\n 'stairwell',\n 'hollywood',\n 'nai',\n 'mistake',\n 'bе',\n 'uppеr',\n 'happy',\n 'beggin',\n 'actually',\n 'treat',\n 'big',\n 'rearview',\n 'disappearing',\n 'catch',\n 'whoa',\n 'girlfriend',\n 'upset',\n 'humor',\n 'typical',\n 'tuesday',\n 'listening',\n 'music',\n 'wear',\n 'short',\n 'skirt',\n 'shirt',\n 'cheer',\n 'captain',\n 'bleacher',\n 'dreaming',\n 'wake',\n 'understands',\n 'bеlong',\n 'belong',\n 'worn',\n 'ought',\n 'laughing',\n 'park',\n 'bench',\n 'easy',\n 'brought',\n 'whatcha',\n 'heel',\n 'sneaker',\n 'none',\n 'killing',\n 'playing',\n 'sad',\n 'movie',\n 'tragedy',\n 'bring',\n 'simple',\n 'clean',\n 'hurt',\n 'bump',\n 'swerve',\n 'fallout',\n '2',\n 'ooh',\n 'took',\n 'shot',\n 'bulletproof',\n 'swing',\n 'sick',\n 'attitude',\n 'cut',\n 'heartbeat',\n 'mean',\n 'streak',\n 'cover',\n 'temper',\n 'last',\n 'doin',\n 'book',\n 'ruin',\n 'perfеct',\n 'confused',\n 'frustratеd',\n 'tryin',\n 'push',\n 'wasting',\n 'figured',\n 'call',\n 'straw',\n 'innocent',\n 'loved',\n 'lеft',\n 'sharе',\n 'worked',\n 'crawling',\n 'bright',\n 'watched',\n 'fade',\n 'beg',\n 'woah',\n 'sensible',\n 'incredible',\n 'single',\n 'jealous',\n 'hear',\n 'miss',\n 'screaming',\n 'fighting',\n '2am',\n 'cursing',\n 'act',\n 'insane',\n 'breaking',\n 'rollercoaster',\n 'rush',\n 'much',\n 'respect',\n 'space',\n 'wait',\n 'exactly',\n 'mother',\n 'talks',\n 'business',\n 'father',\n 'charming',\n 'endearing',\n 'comfortable',\n 'acted',\n 'faking',\n 'wild',\n 'frustrating',\n 'intoxicating',\n 'complicated',\n 'upon',\n 'onto',\n 'kidding',\n 'speak',\n 'welcome',\n 'happened',\n 'second',\n 'halfway',\n 'called',\n 'low',\n 'forever',\n 'bedroom',\n 'honest',\n 'scared',\n 'minute',\n 'sure',\n 'silence',\n 'core',\n 'five',\n 'getting',\n 'coat',\n 'smiling',\n 'pumpkin',\n 'patch',\n 'tractor',\n 'ride',\n 'gold',\n 'hug',\n 'leg',\n 'asleep',\n 'snow',\n 'thirteen',\n 'grab',\n 'key',\n 'shop',\n 'forgotten',\n 'school',\n 'okay',\n 'excellent',\n 'strength',\n 'stronger',\n 'brother',\n 'grew',\n 'video',\n 'set',\n 'kitchen',\n 'age',\n 'pirate',\n 'ship',\n 'dwarf',\n 'smart',\n 'prettiest',\n 'lady',\n 'staying',\n 'watching',\n 'final',\n 'blow',\n 'hit',\n 'repeating',\n 'history',\n 'whatever',\n 'revolution',\n 'win',\n 'hallelujah',\n 'outnumbered',\n 'raidеd',\n 'cornered',\n 'thе',\n 'fair',\n 'faster',\n 'stand',\n 'battle',\n 'champion',\n 'fell',\n 'throw',\n 'sang',\n 'sound',\n 'warning',\n 'focus',\n 'jump',\n 'leave',\n 'freckle',\n 'wrapped',\n 'closer',\n 'bottom',\n 'drop',\n 'mad',\n 'untouchable',\n 'distant',\n 'diamond',\n 'reaching',\n 'burning',\n 'brighter',\n 'sun',\n 'million',\n 'spelling',\n 'taste',\n 'heaven',\n 'full',\n 'anyway',\n 'waking',\n 'everythi',\n 'ing',\n 'wind',\n 'clear',\n 'screamed',\n 'game',\n 'babe',\n 'misty',\n 'played',\n 'rule',\n 'row',\n 'scream',\n 'dim',\n 'special',\n 'eyed',\n 'desperately',\n 'photograph',\n 'hang',\n 'superstar',\n 'lonelinеss',\n 'whеn',\n 'bar',\n 'everyone',\n 'sweet',\n 'heat',\n 'ignorin',\n 'sayin',\n 'hundred',\n 'picking',\n 'throwin',\n 'screamin',\n 'pourin',\n 'comin',\n 'pride',\n 'sittin',\n 'goin',\n 'starin',\n 'misread',\n 'chase',\n 'carried',\n 'stair',\n 'broke',\n 'must',\n 'confess',\n 'damsel',\n 'distress',\n 'picked',\n 'six',\n 'wore',\n 'dark',\n 'slows',\n 'kissed',\n 'planet',\n 'move',\n 'clearer',\n 'beating',\n 'dried',\n 'stain',\n 'tire',\n 'stone',\n 'county',\n 'em',\n 'muddy',\n 'underneath',\n 'reminds',\n 'graffiti',\n 'bathroom',\n 'stall',\n 'scratch',\n 'dollar',\n 'spent',\n 'traded',\n 'lived',\n 'learned',\n 'burned',\n 'held',\n 'amount',\n 'freedom',\n 'worst',\n 'june',\n 'grin',\n 'melted',\n 'child',\n 'meant',\n 'lied',\n 'die',\n 'mr',\n 'leaves',\n 'breakin',\n 'casually',\n 'cruel',\n 'revolves',\n 'misery',\n 'insincere',\n 'apology',\n 'guy',\n 'forgets',\n 'different',\n 'rest',\n 'arm',\n 'brand',\n 'new',\n 'pickin',\n 'phased',\n 'dignified',\n 'pressed',\n 'suit',\n 'strategized',\n 'sashay',\n 'smug',\n 'alright',\n 'shining',\n 'recall',\n 'snuck',\n 'circus',\n 'threw',\n 'neck',\n 'deserved',\n 'showed',\n 'touch',\n 'laughed',\n 'farm',\n 'buy',\n 'boat',\n 'sorta',\n 'harder',\n 'voice',\n 'telling',\n 'choice',\n 'words',\n 'sunny',\n 'storming',\n 'gate',\n 'missed',\n 'truth',\n 'pretend',\n 'soak',\n 'clothes',\n 'skin',\n 'drivin',\n 'fray',\n 'bye',\n 'sympathy',\n 'frame',\n 'empty',\n ...]"
     },
     "metadata": {},
     "output_type": "display_data"
    }
   ],
   "source": [
    "# Creating a set of words using the propressor function and the corpus\n",
    "corpus_temp = list(map(preprocessor_func,corpus))\n",
    "set_words = []\n",
    "for x in corpus_temp:\n",
    "    list(map(set_words.append,x.split(\" \")))\n",
    "# to lowercase\n",
    "set_words = [x.lower() for x in set_words]\n",
    "# remove all duplicates\n",
    "set_words = list( dict.fromkeys(set_words) )\n",
    "display(set_words)"
   ]
  },
  {
   "cell_type": "markdown",
   "id": "371b4239-6704-435a-8e2e-d304dd50ea54",
   "metadata": {
    "deletable": false,
    "editable": false,
    "nbgrader": {
     "cell_type": "markdown",
     "checksum": "a8b729efbb4dde4ca80183d275bdcfdd",
     "grade": false,
     "grade_id": "cell-214105d7e290a6f0",
     "locked": true,
     "schema_version": 3,
     "solution": false,
     "task": false
    }
   },
   "source": [
    "### k)\n",
    "In the following, we want to have a first look at how the set of words classification works. Therefore, we apply the set of words to a line in the `swift_df`. Use the `apply_sow_to_line_by_index` function that is given an index of a lyric and that returns the original line, its preprocessed form, and its encoding resulting from the set of words implementation.\n",
    "Comment below on what information the set of words representation contains."
   ]
  },
  {
   "cell_type": "code",
   "execution_count": 18,
   "id": "41180a1c-5538-42e9-9ed9-9fc6c208fe7f",
   "metadata": {
    "deletable": false,
    "nbgrader": {
     "cell_type": "code",
     "checksum": "0e555d6ebc795c991b0f01278bb3b16a",
     "grade": false,
     "grade_id": "cell-86967ce48efc320b",
     "locked": false,
     "schema_version": 3,
     "solution": true,
     "task": false
    },
    "ExecuteTime": {
     "end_time": "2024-01-28T00:59:01.734481Z",
     "start_time": "2024-01-28T00:59:01.725133400Z"
    }
   },
   "outputs": [],
   "source": [
    "def apply_sow_to_lyric_by_index(index: int) -> (str, str, _):\n",
    "    \"\"\" \n",
    "    Applies set of words to a lyric in the swift_df.\n",
    "    :param index: The index of the chosen lyric entry.\n",
    "    :return: The function returns the chosen lyric, it preprocessed form and the set of words representation. \n",
    "    \"\"\"\n",
    "    prepro_lyric = preprocessor_func(swift_df.lyric[index]).split(\" \")\n",
    "    # to lowercase\n",
    "    prepro_lyric = [xx.lower() for xx in prepro_lyric]\n",
    "    return swift_df.lyric[index], prepro_lyric, [ prepro_lyric.count(word) for word in set_words ]"
   ]
  },
  {
   "cell_type": "code",
   "execution_count": 19,
   "id": "05d01e95-2a45-484c-a59b-4b9f6bafd0ca",
   "metadata": {
    "deletable": false,
    "nbgrader": {
     "cell_type": "code",
     "checksum": "5e4ae45f00eb47497f78956edaa9db40",
     "grade": false,
     "grade_id": "cell-1141cb919a989210",
     "locked": false,
     "schema_version": 3,
     "solution": true,
     "task": false
    },
    "ExecuteTime": {
     "end_time": "2024-01-28T00:59:01.734481Z",
     "start_time": "2024-01-28T00:59:01.728574300Z"
    }
   },
   "outputs": [],
   "source": [
    "index = 1000"
   ]
  },
  {
   "cell_type": "code",
   "execution_count": 20,
   "id": "2cdef059-c51a-44b0-aa82-094597913089",
   "metadata": {
    "deletable": false,
    "editable": false,
    "nbgrader": {
     "cell_type": "code",
     "checksum": "3cf35baca1700074f34c343123a206f7",
     "grade": false,
     "grade_id": "cell-4066c15907913eab",
     "locked": true,
     "schema_version": 3,
     "solution": false,
     "task": false
    },
    "ExecuteTime": {
     "end_time": "2024-01-28T00:59:01.737967700Z",
     "start_time": "2024-01-28T00:59:01.732487500Z"
    }
   },
   "outputs": [
    {
     "name": "stdout",
     "output_type": "stream",
     "text": [
      "Original line:      You had me crawling for you, honey\n",
      "Preprocessed line:  ['crawling', 'honey']\n",
      "SoW encoding:\n",
      " [0, 0, 0, 0, 0, 0, 0, 0, 0, 0, 0, 0, 0, 0, 0, 0, 0, 0, 0, 0, 0, 0, 0, 0, 0, 0, 0, 0, 0, 0, 0, 0, 0, 0, 0, 0, 0, 0, 0, 0, 0, 0, 0, 0, 0, 0, 0, 0, 0, 0, 0, 0, 0, 0, 0, 0, 0, 0, 0, 0, 0, 0, 0, 0, 0, 0, 0, 0, 0, 0, 0, 0, 0, 0, 0, 0, 0, 0, 0, 0, 0, 0, 0, 0, 0, 0, 0, 0, 0, 0, 0, 0, 0, 0, 0, 0, 0, 0, 0, 0, 0, 0, 0, 0, 0, 0, 0, 0, 0, 0, 0, 0, 0, 0, 0, 0, 0, 0, 0, 0, 0, 0, 0, 0, 0, 0, 0, 0, 0, 0, 0, 0, 0, 0, 0, 0, 0, 0, 0, 0, 0, 0, 0, 0, 0, 0, 0, 0, 0, 0, 0, 0, 0, 0, 0, 0, 0, 0, 0, 0, 0, 0, 0, 0, 0, 0, 0, 0, 0, 0, 0, 0, 0, 0, 0, 0, 0, 0, 0, 0, 0, 0, 0, 0, 0, 0, 0, 0, 0, 0, 0, 0, 0, 0, 0, 0, 0, 0, 0, 0, 0, 0, 0, 0, 0, 0, 0, 0, 0, 0, 0, 0, 0, 0, 0, 0, 0, 0, 0, 0, 0, 0, 0, 0, 0, 0, 0, 0, 0, 0, 0, 0, 0, 0, 0, 0, 0, 0, 0, 0, 0, 0, 0, 0, 0, 1, 0, 0, 0, 0, 0, 0, 0, 0, 0, 0, 0, 0, 0, 0, 0, 0, 0, 0, 0, 0, 0, 0, 0, 0, 0, 0, 0, 0, 0, 0, 0, 0, 0, 0, 0, 0, 0, 0, 0, 0, 0, 0, 0, 0, 0, 0, 0, 0, 0, 0, 0, 0, 0, 0, 0, 0, 0, 0, 0, 0, 0, 0, 0, 0, 0, 0, 0, 0, 0, 0, 0, 0, 0, 0, 0, 0, 0, 0, 0, 0, 0, 0, 0, 0, 0, 0, 0, 0, 0, 0, 0, 0, 0, 0, 0, 0, 0, 0, 0, 0, 0, 0, 0, 0, 0, 0, 0, 0, 0, 0, 0, 0, 0, 0, 0, 0, 0, 0, 0, 0, 0, 0, 0, 0, 0, 0, 0, 0, 0, 0, 0, 0, 0, 0, 0, 0, 0, 0, 0, 0, 0, 0, 0, 0, 0, 0, 0, 0, 0, 0, 0, 0, 0, 0, 0, 0, 0, 0, 0, 0, 0, 0, 0, 0, 0, 0, 0, 0, 0, 0, 0, 0, 0, 0, 0, 0, 0, 0, 0, 0, 0, 0, 0, 0, 0, 0, 0, 0, 0, 0, 0, 0, 0, 0, 0, 0, 0, 0, 0, 0, 0, 0, 0, 0, 0, 0, 0, 0, 0, 0, 0, 0, 0, 0, 0, 0, 0, 0, 0, 0, 0, 0, 0, 0, 0, 0, 0, 0, 0, 0, 0, 0, 0, 0, 0, 0, 0, 0, 0, 0, 0, 0, 0, 0, 0, 0, 0, 0, 0, 0, 0, 0, 0, 0, 0, 0, 0, 0, 0, 0, 0, 0, 0, 0, 0, 0, 0, 0, 0, 0, 0, 0, 0, 0, 0, 0, 0, 0, 0, 0, 0, 0, 0, 0, 0, 0, 0, 0, 0, 0, 0, 0, 0, 0, 0, 0, 0, 0, 0, 0, 0, 0, 0, 0, 0, 0, 0, 0, 0, 0, 0, 0, 0, 0, 0, 0, 0, 0, 0, 0, 0, 0, 0, 0, 0, 0, 0, 0, 0, 0, 0, 0, 0, 0, 0, 0, 0, 0, 0, 0, 0, 0, 0, 0, 0, 0, 0, 0, 0, 0, 0, 0, 0, 0, 0, 0, 0, 0, 0, 0, 0, 0, 0, 0, 0, 0, 0, 0, 0, 0, 0, 0, 0, 0, 0, 0, 0, 0, 0, 0, 0, 0, 0, 0, 0, 0, 0, 0, 0, 0, 0, 0, 0, 0, 0, 0, 0, 0, 0, 0, 0, 0, 0, 0, 0, 0, 0, 0, 0, 0, 0, 0, 0, 0, 0, 0, 0, 0, 0, 0, 0, 0, 0, 0, 0, 0, 0, 0, 0, 0, 0, 0, 0, 0, 0, 0, 0, 0, 0, 0, 0, 0, 0, 0, 0, 0, 0, 0, 0, 0, 0, 0, 0, 0, 0, 0, 0, 0, 0, 0, 0, 0, 0, 0, 0, 0, 0, 0, 0, 1, 0, 0, 0, 0, 0, 0, 0, 0, 0, 0, 0, 0, 0, 0, 0, 0, 0, 0, 0, 0, 0, 0, 0, 0, 0, 0, 0, 0, 0, 0, 0, 0, 0, 0, 0, 0, 0, 0, 0, 0, 0, 0, 0, 0, 0, 0, 0, 0, 0, 0, 0, 0, 0, 0, 0, 0, 0, 0, 0, 0, 0, 0, 0, 0, 0, 0, 0, 0, 0, 0, 0, 0, 0, 0, 0, 0, 0, 0, 0, 0, 0, 0, 0, 0, 0, 0, 0, 0, 0, 0, 0, 0, 0, 0, 0, 0, 0, 0, 0, 0, 0, 0, 0, 0, 0, 0, 0, 0, 0, 0, 0, 0, 0, 0, 0, 0, 0, 0, 0, 0, 0, 0, 0, 0, 0, 0, 0, 0, 0, 0, 0, 0, 0, 0, 0, 0, 0, 0, 0, 0, 0, 0, 0, 0, 0, 0, 0, 0, 0, 0, 0, 0, 0, 0, 0, 0, 0, 0, 0, 0, 0, 0, 0, 0, 0, 0, 0, 0, 0, 0, 0, 0, 0, 0, 0, 0, 0, 0, 0, 0, 0, 0, 0, 0, 0, 0, 0, 0, 0, 0, 0, 0, 0, 0, 0, 0, 0, 0, 0, 0, 0, 0, 0, 0, 0, 0, 0, 0, 0, 0, 0, 0, 0, 0, 0, 0, 0, 0, 0, 0, 0, 0, 0, 0, 0, 0, 0, 0, 0, 0, 0, 0, 0, 0, 0, 0, 0, 0, 0, 0, 0, 0, 0, 0, 0, 0, 0, 0, 0, 0, 0, 0, 0, 0, 0, 0, 0, 0, 0, 0, 0, 0, 0, 0, 0, 0, 0, 0, 0, 0, 0, 0, 0, 0, 0, 0, 0, 0, 0, 0, 0, 0, 0, 0, 0, 0, 0, 0, 0, 0, 0, 0, 0, 0, 0, 0, 0, 0, 0, 0, 0, 0, 0, 0, 0, 0, 0, 0, 0, 0, 0, 0, 0, 0, 0, 0, 0, 0, 0, 0, 0, 0, 0, 0, 0, 0, 0, 0, 0, 0, 0, 0, 0, 0, 0, 0, 0, 0, 0, 0, 0, 0, 0, 0, 0, 0, 0, 0, 0, 0, 0, 0, 0, 0, 0, 0, 0, 0, 0, 0, 0, 0, 0, 0, 0, 0, 0, 0, 0, 0, 0, 0, 0, 0, 0, 0, 0, 0, 0, 0, 0, 0, 0, 0, 0, 0, 0, 0, 0, 0, 0, 0, 0, 0, 0, 0, 0, 0, 0, 0, 0, 0, 0, 0, 0, 0, 0, 0, 0, 0, 0, 0, 0, 0, 0, 0, 0, 0, 0, 0, 0, 0, 0, 0, 0, 0, 0, 0, 0, 0, 0, 0, 0, 0, 0, 0, 0, 0, 0, 0, 0, 0, 0, 0, 0, 0, 0, 0, 0, 0, 0, 0, 0, 0, 0, 0, 0, 0, 0, 0, 0, 0, 0, 0, 0, 0, 0, 0, 0, 0, 0, 0, 0, 0, 0, 0, 0, 0, 0, 0, 0, 0, 0, 0, 0, 0, 0, 0, 0, 0, 0, 0, 0, 0, 0, 0, 0, 0, 0, 0, 0, 0, 0, 0, 0, 0, 0, 0, 0, 0, 0, 0, 0, 0, 0, 0, 0, 0, 0, 0, 0, 0, 0, 0, 0, 0, 0, 0, 0, 0, 0, 0, 0, 0, 0, 0, 0, 0, 0, 0, 0, 0, 0, 0, 0, 0, 0, 0, 0, 0, 0, 0, 0, 0, 0, 0, 0, 0, 0, 0, 0, 0, 0, 0, 0, 0, 0, 0, 0, 0, 0, 0, 0, 0, 0, 0, 0, 0, 0, 0, 0, 0, 0, 0, 0, 0, 0, 0, 0, 0, 0, 0, 0, 0, 0, 0, 0, 0, 0, 0, 0, 0, 0, 0, 0, 0, 0, 0, 0, 0, 0, 0, 0, 0, 0, 0, 0, 0, 0, 0, 0, 0, 0, 0, 0, 0, 0, 0, 0, 0, 0, 0, 0, 0, 0, 0, 0, 0, 0, 0, 0, 0, 0, 0, 0, 0, 0, 0, 0, 0, 0, 0, 0, 0, 0, 0, 0, 0, 0, 0, 0, 0, 0, 0, 0, 0, 0, 0, 0, 0, 0, 0, 0, 0, 0, 0, 0, 0, 0, 0, 0, 0, 0, 0, 0, 0, 0, 0, 0, 0, 0, 0, 0, 0, 0, 0, 0, 0, 0, 0, 0, 0, 0, 0, 0, 0, 0, 0, 0, 0, 0, 0, 0, 0, 0, 0, 0, 0, 0, 0, 0, 0, 0, 0, 0, 0, 0, 0, 0, 0, 0, 0, 0, 0, 0, 0, 0, 0, 0, 0, 0, 0, 0, 0, 0, 0, 0, 0, 0, 0, 0, 0, 0, 0, 0, 0, 0, 0, 0, 0, 0, 0, 0, 0, 0, 0, 0, 0, 0, 0, 0, 0, 0, 0, 0, 0, 0, 0, 0, 0, 0, 0, 0, 0, 0, 0, 0, 0, 0, 0, 0, 0, 0, 0, 0, 0, 0, 0, 0, 0, 0, 0, 0, 0, 0, 0, 0, 0, 0, 0, 0, 0, 0, 0, 0, 0, 0, 0, 0, 0, 0, 0, 0, 0, 0, 0, 0, 0, 0, 0, 0, 0, 0, 0, 0, 0, 0, 0, 0, 0, 0, 0, 0, 0, 0, 0, 0, 0, 0, 0, 0, 0, 0, 0, 0, 0, 0, 0, 0, 0, 0, 0, 0, 0, 0, 0, 0, 0, 0, 0, 0, 0, 0, 0, 0, 0, 0, 0, 0, 0, 0, 0, 0, 0, 0, 0, 0, 0, 0, 0, 0, 0, 0, 0, 0, 0, 0, 0, 0, 0, 0, 0, 0, 0, 0, 0, 0, 0, 0, 0, 0, 0, 0, 0, 0, 0, 0, 0, 0, 0, 0, 0, 0, 0, 0, 0, 0, 0, 0, 0, 0, 0, 0, 0, 0, 0, 0, 0, 0, 0, 0, 0, 0, 0, 0, 0, 0, 0, 0, 0, 0, 0, 0, 0, 0, 0, 0, 0, 0, 0, 0, 0, 0, 0, 0, 0, 0, 0, 0, 0, 0, 0, 0, 0, 0, 0, 0, 0, 0, 0, 0, 0, 0, 0, 0, 0, 0, 0, 0, 0, 0, 0, 0, 0, 0, 0, 0, 0, 0, 0, 0, 0, 0, 0, 0, 0, 0, 0, 0, 0, 0, 0, 0, 0, 0, 0, 0, 0, 0, 0, 0, 0, 0, 0, 0, 0, 0, 0, 0, 0, 0, 0, 0, 0, 0, 0, 0, 0, 0, 0, 0, 0, 0, 0, 0, 0, 0, 0, 0, 0, 0, 0, 0, 0, 0, 0, 0, 0, 0, 0, 0, 0, 0, 0, 0, 0, 0, 0, 0, 0, 0, 0, 0, 0, 0, 0, 0, 0, 0, 0, 0, 0, 0, 0, 0, 0, 0, 0, 0, 0, 0, 0, 0, 0, 0, 0, 0, 0, 0, 0, 0, 0, 0, 0, 0, 0, 0, 0, 0, 0, 0, 0, 0, 0, 0, 0, 0, 0, 0, 0, 0, 0, 0, 0, 0, 0, 0, 0, 0, 0, 0, 0, 0, 0, 0, 0, 0, 0, 0, 0, 0, 0, 0, 0, 0, 0, 0, 0, 0, 0, 0, 0, 0, 0, 0, 0, 0, 0, 0, 0, 0, 0, 0, 0, 0, 0, 0, 0, 0, 0, 0, 0, 0, 0, 0, 0, 0, 0, 0, 0, 0, 0, 0, 0, 0, 0, 0, 0, 0, 0, 0, 0, 0, 0, 0, 0, 0, 0, 0, 0, 0, 0, 0, 0, 0, 0, 0, 0, 0, 0, 0, 0, 0, 0, 0, 0, 0, 0, 0, 0, 0, 0, 0, 0, 0, 0, 0, 0, 0, 0, 0, 0, 0, 0, 0, 0, 0, 0, 0, 0, 0, 0, 0, 0, 0, 0, 0, 0, 0, 0, 0, 0, 0, 0, 0, 0, 0, 0, 0, 0, 0, 0, 0, 0, 0, 0, 0, 0, 0, 0, 0, 0, 0, 0, 0, 0, 0, 0, 0, 0, 0, 0, 0, 0, 0, 0, 0, 0, 0, 0, 0, 0, 0, 0, 0, 0, 0, 0, 0, 0, 0, 0, 0, 0, 0, 0, 0, 0, 0, 0, 0, 0, 0, 0, 0, 0, 0, 0, 0, 0, 0, 0, 0, 0, 0, 0, 0, 0, 0, 0, 0, 0, 0, 0, 0, 0, 0, 0, 0, 0, 0, 0, 0, 0, 0, 0, 0, 0, 0, 0, 0, 0, 0, 0, 0, 0, 0, 0, 0, 0, 0, 0, 0, 0, 0, 0, 0, 0, 0, 0, 0, 0, 0, 0, 0, 0, 0, 0, 0, 0, 0, 0, 0, 0, 0, 0, 0, 0, 0, 0, 0, 0, 0, 0, 0, 0, 0, 0, 0, 0, 0, 0, 0, 0, 0, 0, 0, 0, 0, 0, 0, 0, 0, 0, 0, 0, 0, 0, 0, 0, 0, 0, 0, 0, 0, 0, 0, 0, 0, 0, 0, 0, 0, 0, 0, 0, 0, 0, 0, 0, 0, 0, 0, 0, 0, 0, 0, 0, 0, 0, 0, 0, 0, 0, 0, 0, 0, 0, 0, 0, 0, 0, 0, 0, 0, 0, 0, 0, 0, 0, 0, 0, 0, 0, 0, 0, 0, 0, 0, 0, 0, 0, 0, 0, 0, 0, 0, 0, 0, 0, 0, 0, 0, 0, 0, 0, 0, 0, 0, 0, 0, 0, 0, 0, 0, 0, 0, 0, 0, 0, 0, 0, 0, 0, 0, 0, 0, 0, 0, 0, 0, 0, 0, 0, 0, 0, 0, 0, 0, 0, 0, 0, 0, 0, 0, 0, 0, 0, 0, 0, 0, 0, 0, 0, 0, 0, 0, 0, 0, 0, 0, 0, 0, 0, 0, 0, 0, 0, 0, 0, 0, 0, 0, 0, 0, 0, 0, 0, 0, 0, 0, 0, 0, 0, 0, 0, 0, 0, 0, 0, 0, 0, 0, 0, 0, 0, 0, 0, 0, 0, 0, 0, 0, 0, 0, 0, 0, 0, 0, 0, 0, 0, 0, 0, 0, 0, 0, 0, 0, 0, 0, 0, 0, 0, 0, 0, 0, 0, 0, 0, 0, 0, 0, 0, 0, 0, 0, 0, 0, 0, 0, 0, 0, 0, 0, 0, 0, 0, 0, 0, 0, 0, 0, 0, 0, 0, 0, 0, 0, 0, 0, 0, 0, 0, 0, 0, 0, 0, 0, 0, 0, 0, 0, 0, 0, 0, 0, 0, 0, 0, 0, 0, 0, 0, 0, 0, 0, 0, 0, 0, 0, 0, 0, 0, 0, 0, 0, 0, 0, 0, 0, 0, 0, 0, 0, 0, 0, 0, 0, 0, 0, 0, 0, 0, 0, 0, 0, 0, 0, 0, 0, 0, 0, 0, 0, 0, 0, 0, 0, 0, 0, 0, 0, 0, 0, 0, 0, 0, 0, 0, 0, 0, 0, 0, 0, 0, 0, 0, 0, 0, 0, 0, 0, 0, 0, 0, 0, 0, 0, 0, 0, 0, 0, 0, 0, 0, 0, 0, 0, 0, 0, 0, 0, 0, 0, 0, 0, 0, 0, 0, 0, 0, 0, 0, 0, 0, 0, 0, 0, 0, 0, 0, 0, 0, 0, 0, 0, 0, 0, 0, 0, 0, 0, 0, 0, 0, 0, 0, 0, 0, 0, 0, 0, 0, 0, 0, 0, 0, 0, 0, 0, 0, 0, 0, 0, 0, 0, 0, 0, 0, 0, 0, 0, 0, 0, 0, 0, 0, 0, 0, 0, 0, 0, 0, 0, 0, 0, 0, 0, 0, 0, 0, 0, 0, 0, 0, 0, 0, 0, 0, 0, 0, 0, 0, 0, 0, 0, 0, 0, 0, 0, 0, 0, 0, 0, 0, 0, 0, 0, 0, 0, 0, 0, 0, 0, 0, 0, 0, 0, 0, 0, 0, 0, 0, 0, 0, 0, 0, 0, 0, 0, 0, 0, 0, 0, 0, 0, 0, 0, 0, 0, 0, 0, 0, 0, 0, 0, 0, 0, 0, 0, 0, 0, 0, 0, 0, 0, 0, 0, 0, 0, 0, 0, 0, 0, 0, 0, 0, 0, 0, 0, 0, 0, 0, 0, 0, 0, 0, 0, 0, 0, 0, 0, 0, 0, 0, 0, 0, 0, 0, 0, 0, 0, 0, 0, 0, 0, 0, 0, 0, 0, 0, 0, 0, 0, 0, 0, 0, 0, 0, 0, 0, 0, 0, 0, 0, 0, 0, 0, 0, 0, 0, 0, 0, 0, 0, 0, 0, 0, 0, 0, 0, 0, 0, 0, 0, 0, 0, 0, 0, 0, 0, 0, 0, 0, 0, 0, 0, 0, 0, 0, 0, 0, 0, 0, 0, 0, 0, 0, 0, 0, 0, 0, 0, 0, 0, 0, 0, 0, 0, 0, 0, 0, 0, 0, 0, 0, 0, 0, 0, 0, 0, 0, 0, 0, 0, 0, 0, 0, 0, 0, 0, 0, 0, 0, 0, 0, 0, 0, 0, 0, 0, 0, 0, 0, 0, 0, 0, 0, 0, 0, 0, 0, 0, 0, 0, 0, 0, 0, 0, 0, 0, 0, 0, 0, 0, 0, 0, 0, 0, 0, 0, 0, 0, 0, 0, 0, 0, 0, 0, 0, 0, 0, 0, 0, 0, 0, 0, 0, 0, 0, 0, 0, 0, 0, 0, 0, 0, 0, 0, 0, 0, 0, 0, 0, 0, 0, 0, 0, 0, 0, 0, 0, 0, 0, 0, 0, 0, 0, 0, 0, 0, 0, 0, 0, 0, 0, 0, 0, 0, 0, 0, 0, 0, 0, 0, 0, 0, 0, 0, 0, 0, 0, 0, 0, 0, 0, 0, 0, 0, 0, 0, 0, 0, 0, 0, 0, 0, 0, 0, 0, 0, 0, 0, 0, 0, 0, 0, 0, 0, 0, 0, 0, 0, 0, 0, 0, 0, 0, 0, 0, 0, 0, 0, 0, 0, 0, 0, 0, 0, 0, 0, 0, 0, 0]\n"
     ]
    }
   ],
   "source": [
    "line, line_p, line_sow = apply_sow_to_lyric_by_index(index)\n",
    "print('Original line:     ', line)\n",
    "print('Preprocessed line: ', line_p)\n",
    "print('SoW encoding:\\n', line_sow)"
   ]
  },
  {
   "cell_type": "markdown",
   "id": "c1376d3c-27e0-4235-ae10-c106b9479c76",
   "metadata": {
    "deletable": false,
    "nbgrader": {
     "cell_type": "markdown",
     "checksum": "86d5b5a33c9cf1129703b10c2b2862a9",
     "grade": true,
     "grade_id": "cell-7be127e646369a3f",
     "locked": false,
     "points": 0.5,
     "schema_version": 3,
     "solution": true,
     "task": false
    }
   },
   "source": [
    "__Student Answer:__ The value in set is the frequency of the corresponding word in the lyric."
   ]
  },
  {
   "cell_type": "markdown",
   "id": "9350c65a-119e-45c2-863e-88141e005e87",
   "metadata": {
    "deletable": false,
    "editable": false,
    "nbgrader": {
     "cell_type": "markdown",
     "checksum": "13735251bdf64f9f3cbcae0781f9962a",
     "grade": false,
     "grade_id": "cell-bbb6843160af58b6",
     "locked": true,
     "schema_version": 3,
     "solution": false,
     "task": false
    }
   },
   "source": [
    "### l)\n",
    "In this subtask, we use a **S**tochastic **G**radient **D**escent classifier to predict the album given a lyric for the corpus. Therefore, the steps to follow are briefly described below:\n",
    " 1. First, we create a set of words encoding for the whole corpus. As we want to evaluate our results later using the test set, restrict yourself in the training to only use the training set `corpus_train`. \n",
    " 2. Train the classifier on the training set with 'album' as the target feature and 'log_loss' as the loss function.\n",
    " 3. Predict the album for each line in the training and test set `corpus_test`.\n",
    " 4. Calculate and show the accuracy for both the training and test set and store them in the variables `accuracy_train` and `accuracy_test`."
   ]
  },
  {
   "cell_type": "code",
   "execution_count": 21,
   "id": "04e9fa24-c247-47dc-b72f-f3c9e2c8c30e",
   "metadata": {
    "deletable": false,
    "nbgrader": {
     "cell_type": "code",
     "checksum": "53d9bd43d558ad0123bf1049ecd2e7c1",
     "grade": true,
     "grade_id": "cell-b3c5060ceb18d74f",
     "locked": false,
     "points": 0.25,
     "schema_version": 3,
     "solution": true,
     "task": false
    },
    "ExecuteTime": {
     "end_time": "2024-01-28T00:59:02.360236200Z",
     "start_time": "2024-01-28T00:59:01.736971200Z"
    }
   },
   "outputs": [],
   "source": [
    "# Creating the set of words encoding\n",
    "corpus_train_proc_temp = list(map(preprocessor_func,corpus_train))\n",
    "# set_words_train = [apply_sow_to_lyric_by_index(lyric_index)[2] for lyric_index in df_train.index]\n",
    "set_words_train = []\n",
    "for corpus_train_line in corpus_train:\n",
    "    prepro_lyric = preprocessor_func(corpus_train_line).split(\" \")\n",
    "    # to lowercase\n",
    "    prepro_lyric = [xx.lower() for xx in prepro_lyric]\n",
    "    set_words_train.append([ prepro_lyric.count(word) for word in set_words ])"
   ]
  },
  {
   "cell_type": "code",
   "execution_count": 22,
   "id": "46cea26b-dec4-420e-a072-f32f07a0d7fd",
   "metadata": {
    "deletable": false,
    "nbgrader": {
     "cell_type": "code",
     "checksum": "2e306261549a90e052380ebccb7889fd",
     "grade": true,
     "grade_id": "cell-ae9e71cbd2e1ca0d",
     "locked": false,
     "points": 0.25,
     "schema_version": 3,
     "solution": true,
     "task": false
    },
    "ExecuteTime": {
     "end_time": "2024-01-28T00:59:05.715703900Z",
     "start_time": "2024-01-28T00:59:02.360236200Z"
    }
   },
   "outputs": [
    {
     "data": {
      "text/plain": "SGDClassifier(loss='log_loss')",
      "text/html": "<style>#sk-container-id-1 {color: black;}#sk-container-id-1 pre{padding: 0;}#sk-container-id-1 div.sk-toggleable {background-color: white;}#sk-container-id-1 label.sk-toggleable__label {cursor: pointer;display: block;width: 100%;margin-bottom: 0;padding: 0.3em;box-sizing: border-box;text-align: center;}#sk-container-id-1 label.sk-toggleable__label-arrow:before {content: \"▸\";float: left;margin-right: 0.25em;color: #696969;}#sk-container-id-1 label.sk-toggleable__label-arrow:hover:before {color: black;}#sk-container-id-1 div.sk-estimator:hover label.sk-toggleable__label-arrow:before {color: black;}#sk-container-id-1 div.sk-toggleable__content {max-height: 0;max-width: 0;overflow: hidden;text-align: left;background-color: #f0f8ff;}#sk-container-id-1 div.sk-toggleable__content pre {margin: 0.2em;color: black;border-radius: 0.25em;background-color: #f0f8ff;}#sk-container-id-1 input.sk-toggleable__control:checked~div.sk-toggleable__content {max-height: 200px;max-width: 100%;overflow: auto;}#sk-container-id-1 input.sk-toggleable__control:checked~label.sk-toggleable__label-arrow:before {content: \"▾\";}#sk-container-id-1 div.sk-estimator input.sk-toggleable__control:checked~label.sk-toggleable__label {background-color: #d4ebff;}#sk-container-id-1 div.sk-label input.sk-toggleable__control:checked~label.sk-toggleable__label {background-color: #d4ebff;}#sk-container-id-1 input.sk-hidden--visually {border: 0;clip: rect(1px 1px 1px 1px);clip: rect(1px, 1px, 1px, 1px);height: 1px;margin: -1px;overflow: hidden;padding: 0;position: absolute;width: 1px;}#sk-container-id-1 div.sk-estimator {font-family: monospace;background-color: #f0f8ff;border: 1px dotted black;border-radius: 0.25em;box-sizing: border-box;margin-bottom: 0.5em;}#sk-container-id-1 div.sk-estimator:hover {background-color: #d4ebff;}#sk-container-id-1 div.sk-parallel-item::after {content: \"\";width: 100%;border-bottom: 1px solid gray;flex-grow: 1;}#sk-container-id-1 div.sk-label:hover label.sk-toggleable__label {background-color: #d4ebff;}#sk-container-id-1 div.sk-serial::before {content: \"\";position: absolute;border-left: 1px solid gray;box-sizing: border-box;top: 0;bottom: 0;left: 50%;z-index: 0;}#sk-container-id-1 div.sk-serial {display: flex;flex-direction: column;align-items: center;background-color: white;padding-right: 0.2em;padding-left: 0.2em;position: relative;}#sk-container-id-1 div.sk-item {position: relative;z-index: 1;}#sk-container-id-1 div.sk-parallel {display: flex;align-items: stretch;justify-content: center;background-color: white;position: relative;}#sk-container-id-1 div.sk-item::before, #sk-container-id-1 div.sk-parallel-item::before {content: \"\";position: absolute;border-left: 1px solid gray;box-sizing: border-box;top: 0;bottom: 0;left: 50%;z-index: -1;}#sk-container-id-1 div.sk-parallel-item {display: flex;flex-direction: column;z-index: 1;position: relative;background-color: white;}#sk-container-id-1 div.sk-parallel-item:first-child::after {align-self: flex-end;width: 50%;}#sk-container-id-1 div.sk-parallel-item:last-child::after {align-self: flex-start;width: 50%;}#sk-container-id-1 div.sk-parallel-item:only-child::after {width: 0;}#sk-container-id-1 div.sk-dashed-wrapped {border: 1px dashed gray;margin: 0 0.4em 0.5em 0.4em;box-sizing: border-box;padding-bottom: 0.4em;background-color: white;}#sk-container-id-1 div.sk-label label {font-family: monospace;font-weight: bold;display: inline-block;line-height: 1.2em;}#sk-container-id-1 div.sk-label-container {text-align: center;}#sk-container-id-1 div.sk-container {/* jupyter's `normalize.less` sets `[hidden] { display: none; }` but bootstrap.min.css set `[hidden] { display: none !important; }` so we also need the `!important` here to be able to override the default hidden behavior on the sphinx rendered scikit-learn.org. See: https://github.com/scikit-learn/scikit-learn/issues/21755 */display: inline-block !important;position: relative;}#sk-container-id-1 div.sk-text-repr-fallback {display: none;}</style><div id=\"sk-container-id-1\" class=\"sk-top-container\"><div class=\"sk-text-repr-fallback\"><pre>SGDClassifier(loss=&#x27;log_loss&#x27;)</pre><b>In a Jupyter environment, please rerun this cell to show the HTML representation or trust the notebook. <br />On GitHub, the HTML representation is unable to render, please try loading this page with nbviewer.org.</b></div><div class=\"sk-container\" hidden><div class=\"sk-item\"><div class=\"sk-estimator sk-toggleable\"><input class=\"sk-toggleable__control sk-hidden--visually\" id=\"sk-estimator-id-1\" type=\"checkbox\" checked><label for=\"sk-estimator-id-1\" class=\"sk-toggleable__label sk-toggleable__label-arrow\">SGDClassifier</label><div class=\"sk-toggleable__content\"><pre>SGDClassifier(loss=&#x27;log_loss&#x27;)</pre></div></div></div></div></div>"
     },
     "execution_count": 22,
     "metadata": {},
     "output_type": "execute_result"
    }
   ],
   "source": [
    "# Train the classifier\n",
    "sgd = SGDClassifier(loss = 'log_loss')\n",
    "sgd.fit(set_words_train,y_train)"
   ]
  },
  {
   "cell_type": "code",
   "execution_count": 23,
   "id": "d1553d8d-0536-442f-bff1-40b96def410e",
   "metadata": {
    "deletable": false,
    "nbgrader": {
     "cell_type": "code",
     "checksum": "0ebdbd10faf7d21631dbe3687d426a9c",
     "grade": true,
     "grade_id": "cell-4ed4c4a1b1bec6ee",
     "locked": false,
     "points": 0.5,
     "schema_version": 3,
     "solution": true,
     "task": false
    },
    "ExecuteTime": {
     "end_time": "2024-01-28T00:59:06.241342800Z",
     "start_time": "2024-01-28T00:59:05.711717100Z"
    }
   },
   "outputs": [],
   "source": [
    "# Predict the album\n",
    "# Creating the set of words encoding for corpus_test\n",
    "set_words_test = []\n",
    "for corpus_test_line in corpus_test:\n",
    "    prepro_lyric = preprocessor_func(corpus_test_line).split(\" \")\n",
    "    # to lowercase\n",
    "    prepro_lyric = [xx.lower() for xx in prepro_lyric]\n",
    "    \n",
    "    set_words_test.append([ prepro_lyric.count(word) for word in set_words ])\n",
    "y_pred = sgd.predict(set_words_test)\n",
    "\n",
    "x_pred = sgd.predict(set_words_train)"
   ]
  },
  {
   "cell_type": "code",
   "execution_count": 24,
   "id": "615961f8-8133-413f-b749-f2d5eee1952a",
   "metadata": {
    "deletable": false,
    "nbgrader": {
     "cell_type": "code",
     "checksum": "e70c81b74cb920f54d28ff86dfe56018",
     "grade": true,
     "grade_id": "cell-c21343ac880f25b0",
     "locked": false,
     "points": 0.5,
     "schema_version": 3,
     "solution": true,
     "task": false
    },
    "ExecuteTime": {
     "end_time": "2024-01-28T00:59:06.251286100Z",
     "start_time": "2024-01-28T00:59:06.241342800Z"
    }
   },
   "outputs": [
    {
     "name": "stdout",
     "output_type": "stream",
     "text": [
      "Accuracy Score for train: 0.7615384615384615.\n",
      "Accuracy Score for test: 0.3128390596745027.\n"
     ]
    }
   ],
   "source": [
    "# Compute and show accuracy for training and test set\n",
    "accuracy_train = accuracy_score(y_train,x_pred)\n",
    "accuracy_test = accuracy_score(y_test,y_pred)\n",
    "\n",
    "print(f'Accuracy Score for train: {accuracy_train}.')\n",
    "print(f'Accuracy Score for test: {accuracy_test}.')"
   ]
  },
  {
   "cell_type": "markdown",
   "id": "31e205dc-5562-48e6-ad88-0e5241d16994",
   "metadata": {
    "deletable": false,
    "editable": false,
    "nbgrader": {
     "cell_type": "markdown",
     "checksum": "d858d3d2b298bf124fa9b9e12c24eaae",
     "grade": false,
     "grade_id": "cell-614e0975e1f509af",
     "locked": true,
     "schema_version": 3,
     "solution": false,
     "task": false
    }
   },
   "source": [
    "### m)\n",
    "Given the accuracy values that you calculated in the last subtask, argue about the classifier's accuracy compared to a most frequent guessing classifier (i.e., a classifier that always chooses to predict the most frequent album). Use the distribution of lyrics over the albums calculated in task **d)** to support your argument. "
   ]
  },
  {
   "cell_type": "code",
   "execution_count": 25,
   "outputs": [
    {
     "name": "stdout",
     "output_type": "stream",
     "text": [
      "Accuracy Score for test with most frequent guessing classifier: 0.14285714285714285.\n",
      "Accuracy Score for train with most frequent guessing classifier: 0.1493212669683258.\n",
      "Frequency of the most frequent album: 0.14047304598391164.\n"
     ]
    }
   ],
   "source": [
    "y_pred_count = 0\n",
    "for album_name in y_test:\n",
    "    if album_name == 'Fearless Taylor’s Version':\n",
    "        y_pred_count += 1\n",
    "x_pred_count = 0\n",
    "for album_name in y_train:\n",
    "    if album_name == 'Fearless Taylor’s Version':\n",
    "        x_pred_count += 1\n",
    "frequency_most_frequent_album = swift_df['album'].loc[swift_df['album'] == 'Fearless Taylor’s Version'].count()\n",
    "print(f'Accuracy Score for test with most frequent guessing classifier: {y_pred_count/len(y_test)}.')\n",
    "print(f'Accuracy Score for train with most frequent guessing classifier: {x_pred_count/len(y_train)}.')\n",
    "print(f'Frequency of the most frequent album: {frequency_most_frequent_album/len(swift_df)}.')"
   ],
   "metadata": {
    "collapsed": false,
    "ExecuteTime": {
     "end_time": "2024-01-28T00:59:06.255773300Z",
     "start_time": "2024-01-28T00:59:06.247554700Z"
    }
   },
   "id": "501b8069a256e74c"
  },
  {
   "cell_type": "markdown",
   "id": "e2439c5f-a0ee-4b79-8b18-0f95a79f1667",
   "metadata": {
    "deletable": false,
    "nbgrader": {
     "cell_type": "markdown",
     "checksum": "708a21f877730facd9c0c2ceed98fc50",
     "grade": true,
     "grade_id": "cell-6e5beedfdb7354ed",
     "locked": false,
     "points": 0.5,
     "schema_version": 3,
     "solution": true,
     "task": false
    }
   },
   "source": [
    "__Student Answer:__ As the distribution of lyrics over the albums states that the Fearless Taylor’s Version is most frequent album and when using most frequent guessing classifier  accuracy is lower than using SGD classifier. The reason for that could be that the frequency of the most frequent album has not a big enough gap in compare to others, in this case it is around 0.14 and is similar to the accuracy score. Overall the accuracy score of SGD classifier is not high but still higher than the most frequent guessing classifier."
   ]
  },
  {
   "cell_type": "markdown",
   "id": "9f15c9c2-1566-40fe-b668-376aac576606",
   "metadata": {
    "deletable": false,
    "editable": false,
    "nbgrader": {
     "cell_type": "markdown",
     "checksum": "cb5755673fc30458149ac43a340f72c1",
     "grade": false,
     "grade_id": "cell-d795b66869ba2eb7",
     "locked": true,
     "schema_version": 3,
     "solution": false,
     "task": false
    }
   },
   "source": [
    "### n)\n",
    "Next, we want to make our results more visual. Therefore, implement the `pred_album_by_index` method that takes a lyric's index from the `swift_df` dataframe as input, and based on that, returns the corresponding lyric, its actual album and its predicted album using the SGD classifier from **l)**."
   ]
  },
  {
   "cell_type": "code",
   "execution_count": 26,
   "id": "324b2379-2623-4b64-864e-231ae197b618",
   "metadata": {
    "deletable": false,
    "nbgrader": {
     "cell_type": "code",
     "checksum": "1fe2a3010be4a835c276f78db44fd719",
     "grade": true,
     "grade_id": "cell-eb989103f1512c70",
     "locked": false,
     "points": 2,
     "schema_version": 3,
     "solution": true,
     "task": false
    },
    "ExecuteTime": {
     "end_time": "2024-01-28T00:59:06.255773300Z",
     "start_time": "2024-01-28T00:59:06.252280500Z"
    }
   },
   "outputs": [],
   "source": [
    "import numpy as np\n",
    "\n",
    "\n",
    "def pred_album_by_index(index: int) -> (str, str, str):\n",
    "    \"\"\" \n",
    "    Predicts a lyric's album based on the .\n",
    "    :param index: The index of the chosen lyric entry.\n",
    "    :return: The function returns the chosen lyric, it preprocessed form and the set of words representation. \n",
    "    \"\"\"\n",
    "    line_temp, line_p_temp, line_sow_temp = apply_sow_to_lyric_by_index(index)\n",
    "    \n",
    "    return swift_df.lyric[index], swift_df.album[index], sgd.predict(np.reshape(line_sow_temp, (1,-1)))"
   ]
  },
  {
   "cell_type": "code",
   "execution_count": 27,
   "id": "c03a0fc0-6237-4604-bcb0-10ab80b6ffbb",
   "metadata": {
    "ExecuteTime": {
     "end_time": "2024-01-28T00:59:06.259729300Z",
     "start_time": "2024-01-28T00:59:06.255773300Z"
    }
   },
   "outputs": [],
   "source": [
    "index = 1000 # Please change the index and do not use -1"
   ]
  },
  {
   "cell_type": "code",
   "execution_count": 28,
   "id": "2f0c87af-fa31-467a-95e4-979330b9699b",
   "metadata": {
    "deletable": false,
    "editable": false,
    "nbgrader": {
     "cell_type": "code",
     "checksum": "713dbff30fcc532b833bfed977459c55",
     "grade": false,
     "grade_id": "cell-38d17ee6b8ba0046",
     "locked": true,
     "schema_version": 3,
     "solution": false,
     "task": false
    },
    "ExecuteTime": {
     "end_time": "2024-01-28T00:59:06.263222900Z",
     "start_time": "2024-01-28T00:59:06.258732300Z"
    }
   },
   "outputs": [
    {
     "name": "stdout",
     "output_type": "stream",
     "text": [
      "Lyric:           You had me crawling for you, honey\n",
      "Actual album:    Fearless Taylor’s Version\n",
      "Predicted album: ['Fearless Taylor’s Version']\n"
     ]
    }
   ],
   "source": [
    "lyric, album_actual, album_pred = pred_album_by_index(index)\n",
    "\n",
    "print(\"Lyric:          \", lyric)\n",
    "print(\"Actual album:   \", album_actual)\n",
    "print(\"Predicted album:\", album_pred)"
   ]
  },
  {
   "cell_type": "markdown",
   "id": "654587d7-1a19-4a80-83ff-7302160388b2",
   "metadata": {
    "deletable": false,
    "editable": false,
    "nbgrader": {
     "cell_type": "markdown",
     "checksum": "9eb43a2b0289109c4189ac616293c18f",
     "grade": false,
     "grade_id": "cell-8ad4bf9ac59d61c1",
     "locked": true,
     "schema_version": 3,
     "solution": false,
     "task": false
    }
   },
   "source": [
    "## Doc2Vec (4.5 pts)"
   ]
  },
  {
   "cell_type": "markdown",
   "id": "f6e717b6-d60e-43db-a22d-a6597b6807c7",
   "metadata": {
    "deletable": false,
    "editable": false,
    "nbgrader": {
     "cell_type": "markdown",
     "checksum": "7f57ef484aebf33413416e8d74f8bb11",
     "grade": false,
     "grade_id": "cell-19b515bee8fe850f",
     "locked": true,
     "schema_version": 3,
     "solution": false,
     "task": false
    }
   },
   "source": [
    "In this subtask, we encode lyrics using Doc2Vec. Given the embedding, we reduce its dimensionality using **P**rincipal **C**omponent **A**nalysis while preserving the maximum amount of information so that we can visualize and cluster the embeddings in a scatter plot. Lastly, we have a manual look at the clusters to evaluate the information gain of the Doc2Vec approach."
   ]
  },
  {
   "cell_type": "markdown",
   "id": "8459d351-f946-4ccf-81fa-c51649b088c8",
   "metadata": {
    "deletable": false,
    "editable": false,
    "nbgrader": {
     "cell_type": "markdown",
     "checksum": "1d81f50dd169bbbd6b21e6de0f5954dd",
     "grade": false,
     "grade_id": "cell-3a84f47bd25d5223",
     "locked": true,
     "schema_version": 3,
     "solution": false,
     "task": false
    }
   },
   "source": [
    "### o) \n",
    "Initialize and train a Doc2Vec model based on the documents in the preprocessed corpus `corpus_p`. Set `epochs=100` for the training of the model. Set the vector dimension to 20 and min_count to 3."
   ]
  },
  {
   "cell_type": "code",
   "execution_count": 172,
   "id": "5ad43825-8049-4d98-a639-c0cb1ea1d1ff",
   "metadata": {
    "deletable": false,
    "nbgrader": {
     "cell_type": "code",
     "checksum": "e1d550ec9bc3d02e0013bfbeb8067033",
     "grade": true,
     "grade_id": "cell-1e76f60ed2ec69fd",
     "locked": false,
     "points": 1,
     "schema_version": 3,
     "solution": true,
     "task": false
    },
    "ExecuteTime": {
     "end_time": "2024-01-28T03:09:56.056916900Z",
     "start_time": "2024-01-28T03:09:48.788430Z"
    }
   },
   "outputs": [],
   "source": [
    "\n",
    "# Calculating the number of cores available\n",
    "cores = multiprocessing.cpu_count()\n",
    "document = []\n",
    "corpus_p = list(map(preprocessor_func,corpus))\n",
    "for i, line in enumerate(corpus_p):\n",
    "    \n",
    "    document.append(TaggedDocument(line.split(\" \"),[i]))\n",
    "doc_model = Doc2Vec(vector_size=20, min_count=3, epochs=100, workers= cores)\n",
    "doc_model.build_vocab(document)\n",
    "doc_model.train(document, total_examples=doc_model.corpus_count, epochs=doc_model.epochs)\n"
   ]
  },
  {
   "cell_type": "markdown",
   "id": "b358d3b6-d765-488d-a3f4-83e2cddd4cfd",
   "metadata": {
    "deletable": false,
    "editable": false,
    "nbgrader": {
     "cell_type": "markdown",
     "checksum": "9bc3f1064970387afbe71bc65c3a9cc8",
     "grade": false,
     "grade_id": "cell-743af586a286d2ee",
     "locked": true,
     "schema_version": 3,
     "solution": false,
     "task": false
    }
   },
   "source": [
    "### p)\n",
    "Create an embedding for each lyric in `swift_df_proc` and add all embeddings inferred to the `lyric_embeddings` list. This is a pretask for the next step that we take. "
   ]
  },
  {
   "cell_type": "code",
   "execution_count": 46,
   "id": "1c40cbc3-dbfe-4205-9bce-6ab3a408147c",
   "metadata": {
    "deletable": false,
    "nbgrader": {
     "cell_type": "code",
     "checksum": "11ffebd78c6cdea1b0ea02ebc78bee49",
     "grade": true,
     "grade_id": "cell-f0d28ba5b898a192",
     "locked": false,
     "points": 1,
     "schema_version": 3,
     "solution": true,
     "task": false
    },
    "ExecuteTime": {
     "end_time": "2024-01-28T01:02:24.582453300Z",
     "start_time": "2024-01-28T01:02:24.575457700Z"
    }
   },
   "outputs": [],
   "source": [
    "lyric_embeddings = []\n",
    "for idx in range(len(doc_model.dv)):\n",
    "    lyric_embeddings.append(doc_model.dv[idx])\n"
   ]
  },
  {
   "cell_type": "markdown",
   "id": "b0a79a1f-d6f9-4f55-b9d8-42970997476f",
   "metadata": {
    "deletable": false,
    "editable": false,
    "nbgrader": {
     "cell_type": "markdown",
     "checksum": "bff0c6ae6a90dbe3843e74cf827bc22a",
     "grade": false,
     "grade_id": "cell-b67a805ac7a79824",
     "locked": true,
     "schema_version": 3,
     "solution": false,
     "task": false
    }
   },
   "source": [
    "### q)\n",
    "Store the data contained in `lyric_embeddings` in a dataframe `embeddings_df`.\n",
    "Apply DBSCAN with euclidean distance to the `embeddings_df`dataframe with `eps = 0.3` and `min_samples = 2` and create a scatterplot with seaborn that shows the clusters of the inferred vectors. To be able to visualize the data in a two-dimensional vector space, apply a **p**rinciple **c**omponent **a**nalysis that is able to reduce the dimensionality of input data. (You can learn more about the PCA in its [Documentation](https://scikit-learn.org/stable/modules/generated/sklearn.decomposition.PCA.html)). The code for the PCA is provided."
   ]
  },
  {
   "cell_type": "code",
   "execution_count": 47,
   "id": "c427e70d-5720-41f6-956c-6ad2d896a3e3",
   "metadata": {
    "deletable": false,
    "nbgrader": {
     "cell_type": "code",
     "checksum": "7f60f277c5500cb389ed1fe51127f696",
     "grade": true,
     "grade_id": "cell-32f6db6de61531a7",
     "locked": false,
     "points": 1.5,
     "schema_version": 3,
     "solution": true,
     "task": false
    },
    "ExecuteTime": {
     "end_time": "2024-01-28T01:02:25.062561500Z",
     "start_time": "2024-01-28T01:02:24.581456500Z"
    }
   },
   "outputs": [
    {
     "data": {
      "text/plain": "<Axes: xlabel='0', ylabel='1'>"
     },
     "execution_count": 47,
     "metadata": {},
     "output_type": "execute_result"
    },
    {
     "data": {
      "text/plain": "<Figure size 640x480 with 1 Axes>",
      "image/png": "[encoded data removed]"
     },
     "metadata": {},
     "output_type": "display_data"
    }
   ],
   "source": [
    "# YOUR CODE HERE\n",
    "embeddings_df = pd.DataFrame(lyric_embeddings)\n",
    "# Applying PCA to the embedding reducing the dimensionality to two\n",
    "pca = PCA(n_components=2)\n",
    "pca_embeddings = pd.DataFrame(pca.fit_transform(embeddings_df))\n",
    "clt = DBSCAN(eps=0.3, min_samples=2)\n",
    "model = clt.fit(pca_embeddings)\n",
    "clustering = model.fit_predict(pca_embeddings)\n",
    "sns.scatterplot(x=pca_embeddings[0],y=pca_embeddings[1], hue=clustering)"
   ]
  },
  {
   "cell_type": "markdown",
   "id": "1e0bfbe7-fcda-4bea-8334-599cfd6fa1da",
   "metadata": {
    "deletable": false,
    "editable": false,
    "nbgrader": {
     "cell_type": "markdown",
     "checksum": "558594524a947d6bb683705c91ae3150",
     "grade": false,
     "grade_id": "cell-7400b05548128502",
     "locked": true,
     "schema_version": 3,
     "solution": false,
     "task": false
    }
   },
   "source": [
    "### r)\n",
    "Show lyrics from the original `swift_df` dataframe contained in two distinct clusters using the two cells below. Answer separately, whether you consider the lyrics in each cluster to be similar or dissimilar.\n",
    "\n",
    "_Note: You do not have to find exactly two clusters. Having at least two clusters, you should show the lyrics from two distinct clusters._ "
   ]
  },
  {
   "cell_type": "code",
   "execution_count": 48,
   "id": "2b64547d-8a45-4af2-b9a6-0b07cca92d8e",
   "metadata": {
    "deletable": false,
    "nbgrader": {
     "cell_type": "code",
     "checksum": "e9f439ae99a1f370ee34440c8fce5ef1",
     "grade": true,
     "grade_id": "cell-eeee7c827574738a",
     "locked": false,
     "points": 0.25,
     "schema_version": 3,
     "solution": true,
     "task": false
    },
    "ExecuteTime": {
     "end_time": "2024-01-28T01:02:38.067767900Z",
     "start_time": "2024-01-28T01:02:38.050713600Z"
    }
   },
   "outputs": [
    {
     "data": {
      "text/plain": "\"Come feel this magic I've been feeling since I met you\""
     },
     "metadata": {},
     "output_type": "display_data"
    },
    {
     "data": {
      "text/plain": "'Back to a first-glance feeling on New York time'"
     },
     "metadata": {},
     "output_type": "display_data"
    },
    {
     "data": {
      "text/plain": "\"I left a note on the door with a joke we'd made\""
     },
     "metadata": {},
     "output_type": "display_data"
    }
   ],
   "source": [
    "# Lyrics contained in one cluster\n",
    "for i,cl in enumerate(clustering):\n",
    "    if(cl == 1):\n",
    "        display(swift_df.lyric[swift_df_proc.index[i]])"
   ]
  },
  {
   "cell_type": "code",
   "execution_count": 49,
   "id": "762c4968-2551-40d4-918d-f725d8b8fa6a",
   "metadata": {
    "deletable": false,
    "nbgrader": {
     "cell_type": "code",
     "checksum": "73ab1311beb53e80b6f64c4f16e0368d",
     "grade": true,
     "grade_id": "cell-d721129580166953",
     "locked": false,
     "points": 0.25,
     "schema_version": 3,
     "solution": true,
     "task": false
    },
    "ExecuteTime": {
     "end_time": "2024-01-28T01:02:38.401073200Z",
     "start_time": "2024-01-28T01:02:38.394951700Z"
    }
   },
   "outputs": [
    {
     "data": {
      "text/plain": "'Missing him was dark gray, all alone Whoa'"
     },
     "metadata": {},
     "output_type": "display_data"
    }
   ],
   "source": [
    "# Lyrics contained in one cluster\n",
    "for i,cl in enumerate(clustering):\n",
    "    if(cl == -1):\n",
    "        display(swift_df.lyric[swift_df_proc.index[i]])"
   ]
  },
  {
   "cell_type": "markdown",
   "id": "8253f6c7-80b7-48b6-8866-e3bd36b4b872",
   "metadata": {
    "deletable": false,
    "nbgrader": {
     "cell_type": "markdown",
     "checksum": "5209a1ff3eee4ac82dd4682f2c80d9d3",
     "grade": true,
     "grade_id": "cell-623be93e0b95082d",
     "locked": false,
     "points": 0.5,
     "schema_version": 3,
     "solution": true,
     "task": false
    }
   },
   "source": [
    "__Student Answer:__ The lyrics in each cluster are dissimilar. The first one is more about feeling of being delighted due to the past. And the second one is more melancholy."
   ]
  },
  {
   "cell_type": "markdown",
   "id": "4ee33fcd-a77b-47c3-8089-70f421f03308",
   "metadata": {
    "deletable": false,
    "editable": false,
    "nbgrader": {
     "cell_type": "markdown",
     "checksum": "1866385065537471eabc81a0bfba5ef3",
     "grade": false,
     "grade_id": "cell-dfab126c449f469d",
     "locked": true,
     "schema_version": 3,
     "solution": false,
     "task": false
    }
   },
   "source": [
    "## An N-Gram Based Language Model (4 Pts)"
   ]
  },
  {
   "cell_type": "markdown",
   "id": "cb0e9fe4-73d5-479a-9d6b-87f08df4ccc4",
   "metadata": {
    "deletable": false,
    "editable": false,
    "nbgrader": {
     "cell_type": "markdown",
     "checksum": "65d68f349de3b754666e34d2e99588e3",
     "grade": false,
     "grade_id": "cell-8c981d67a41ee089",
     "locked": true,
     "schema_version": 3,
     "solution": false,
     "task": false
    }
   },
   "source": [
    "In this subtask, we use the `swift_df` data to create an n-gram based language model to generate new lyrics. Therefore, we play around with different values for n."
   ]
  },
  {
   "cell_type": "markdown",
   "id": "7bdeed80-b6c5-4e2c-a418-675b3b2a2599",
   "metadata": {
    "deletable": false,
    "editable": false,
    "nbgrader": {
     "cell_type": "markdown",
     "checksum": "5512e92be18e7a451186177edde26805",
     "grade": false,
     "grade_id": "cell-0d30d6096b1d71c9",
     "locked": true,
     "schema_version": 3,
     "solution": false,
     "task": false
    }
   },
   "source": [
    "### s)\n",
    "Write the `lyric_preprocessor` method that takes a lyric as input and that tokenizes it and makes each word lowercase."
   ]
  },
  {
   "cell_type": "code",
   "execution_count": 52,
   "id": "27cb0e42-1c32-49c4-907d-c4fba3c4f14c",
   "metadata": {
    "deletable": false,
    "nbgrader": {
     "cell_type": "code",
     "checksum": "ee48ca9b59ffd8d841e94ef90bb38a1f",
     "grade": true,
     "grade_id": "cell-92f26b558e186263",
     "locked": false,
     "points": 1,
     "schema_version": 3,
     "solution": true,
     "task": false
    },
    "ExecuteTime": {
     "end_time": "2024-01-28T01:12:37.878875400Z",
     "start_time": "2024-01-28T01:12:37.871897800Z"
    }
   },
   "outputs": [],
   "source": [
    "def lyric_preprocessor(lyric: str) -> [str]:\n",
    "    \"\"\"\n",
    "    Tokenizes a lyric and makes the tokens lowercase.\n",
    "    :param lyric: A string containing an input lyric.\n",
    "    :return: A list containing lowercase tokens of the input lyric.\n",
    "    \"\"\"\n",
    "    str_list = reg_tokenizer.tokenize(lyric)\n",
    "    str_list = [ x.lower() for x in str_list]\n",
    "    \n",
    "    return str_list"
   ]
  },
  {
   "cell_type": "markdown",
   "id": "ed77c05f-44ad-45a4-879f-e297c9363dbd",
   "metadata": {
    "deletable": false,
    "editable": false,
    "nbgrader": {
     "cell_type": "markdown",
     "checksum": "86fa9acd91446563bcfeb66448b351df",
     "grade": false,
     "grade_id": "cell-53fc779838099b3a",
     "locked": true,
     "schema_version": 3,
     "solution": false,
     "task": false
    }
   },
   "source": [
    "### t)\n",
    "Apply the lyric_preprocessor to all lyrics in the `swift_df` and store the data in a `lyric_corpus` variable."
   ]
  },
  {
   "cell_type": "code",
   "execution_count": 113,
   "id": "250532eb-2ab2-4d50-a221-1d67fbe176d5",
   "metadata": {
    "deletable": false,
    "nbgrader": {
     "cell_type": "code",
     "checksum": "3fad81dcf44ba09e0a5a90e23cc85f76",
     "grade": true,
     "grade_id": "cell-bdd197cdd0c9ce03",
     "locked": false,
     "points": 0.5,
     "schema_version": 3,
     "solution": true,
     "task": false
    },
    "ExecuteTime": {
     "end_time": "2024-01-28T02:13:01.125415900Z",
     "start_time": "2024-01-28T02:13:01.091021100Z"
    }
   },
   "outputs": [],
   "source": [
    "lyric_corpus =[]\n",
    "for line in swift_df.lyric:\n",
    "    lyric_corpus.append(lyric_preprocessor(line))"
   ]
  },
  {
   "cell_type": "markdown",
   "id": "74fa2548-060b-4062-9771-045ed6f4419d",
   "metadata": {
    "deletable": false,
    "editable": false,
    "nbgrader": {
     "cell_type": "markdown",
     "checksum": "ad785d9231f3d4001188cab003e4f483",
     "grade": false,
     "grade_id": "cell-711b7562e81d4c8c",
     "locked": true,
     "schema_version": 3,
     "solution": false,
     "task": false
    }
   },
   "source": [
    "Next, train two n-grams with $n \\in \\{2,5\\}$ on the lyric_corpus."
   ]
  },
  {
   "cell_type": "code",
   "execution_count": 130,
   "id": "8d7ac896-0247-425d-9655-8c3975deced3",
   "metadata": {
    "deletable": false,
    "nbgrader": {
     "cell_type": "code",
     "checksum": "344f804fcbc69fef3f793282addc0b2e",
     "grade": true,
     "grade_id": "cell-de35c5ee4c491b53",
     "locked": false,
     "points": 0.5,
     "schema_version": 3,
     "solution": true,
     "task": false
    },
    "ExecuteTime": {
     "end_time": "2024-01-28T02:29:52.050382900Z",
     "start_time": "2024-01-28T02:29:50.332519600Z"
    }
   },
   "outputs": [],
   "source": [
    "train_2, vocab_2 = padded_everygram_pipeline(2, lyric_corpus)\n",
    "train_5, vocab_5 = padded_everygram_pipeline(5, lyric_corpus)\n",
    "grams_5 = MLE(5)\n",
    "grams_2 = MLE(2)\n",
    "grams_2.fit(train_2, vocab_2)\n",
    "grams_5.fit(train_5, vocab_5)"
   ]
  },
  {
   "cell_type": "markdown",
   "id": "c602957a-0c02-4984-a082-26be35798295",
   "metadata": {
    "deletable": false,
    "editable": false,
    "nbgrader": {
     "cell_type": "markdown",
     "checksum": "c6e787a885ba21cdc0553b120999cd4f",
     "grade": false,
     "grade_id": "cell-312235d548c36588",
     "locked": true,
     "schema_version": 3,
     "solution": false,
     "task": false
    }
   },
   "source": [
    "### u)\n",
    "i. Write the `generate_lyrics` method that takes an n-gram model and an integer for the number of lyrics to be generated as input and that returns a list of new lyrics that were generated using the given n-gram model.\n",
    "\n",
    "_Reminder / Hints: A lyric generated by an n-gram starts with n-1 times the start token \"\\<s>\" and ends with n-1 times the end token \"\\</s>\". Further, the n value of an n-gram can be accessed using the `n-gram.order` variable of an `n-gram`. Additionally keep in mind that you can condition the generation of your n-gram on some preceding text._"
   ]
  },
  {
   "cell_type": "code",
   "execution_count": 176,
   "id": "43339aaa-9c05-4d31-9a61-0e46a6fc074b",
   "metadata": {
    "deletable": false,
    "nbgrader": {
     "cell_type": "code",
     "checksum": "4664804246c45d8fe567b7157918ab93",
     "grade": true,
     "grade_id": "cell-5f4a433494c2f516",
     "locked": false,
     "points": 1,
     "schema_version": 3,
     "solution": true,
     "task": false
    },
    "ExecuteTime": {
     "end_time": "2024-01-28T03:13:13.068179700Z",
     "start_time": "2024-01-28T03:13:13.035946400Z"
    }
   },
   "outputs": [],
   "source": [
    "\n",
    "\n",
    "def generate_lyrics(n_gram_model, numb_of_new_lyrics: int) -> [str]:\n",
    "    \"\"\"\n",
    "    Uses an n-gram model to generate several new lyrics.\n",
    "    :param n_gram_model: An n-gram model. \n",
    "    :param numb_of_new_lyrics: The number of lyrics to be created.\n",
    "    :return: As many generated lyrics as defined by the numb_of_new_lyrics.\n",
    "    \"\"\"\n",
    "    return_lyrics = []\n",
    "    lyric_line = []\n",
    "    order = n_gram_model.order\n",
    "    start_flag = False\n",
    "    end_flag = False\n",
    "    start_token = ''\n",
    "    end_token = ''\n",
    "    start_token_count =0\n",
    "    end_token_count =0\n",
    "    \n",
    "    for temp in range(order-1):\n",
    "        start_token +='<s>'\n",
    "        end_token +='</s>'\n",
    "    while len(return_lyrics)< numb_of_new_lyrics:\n",
    "        generate_words = n_gram_model.generate(text_seed='<s>')\n",
    "        if not start_flag:\n",
    "            if generate_words == '<s>':\n",
    "                start_token_count+=1\n",
    "                if start_token_count == order-1:\n",
    "                    start_flag=True\n",
    "                    start_token_count = 0\n",
    "                    lyric_line.append(start_token)\n",
    "            else:\n",
    "                start_token_count = 0\n",
    "        else:\n",
    "            \n",
    "            if generate_words == '</s>':\n",
    "                end_token_count+=1\n",
    "                if end_token_count == order-1:\n",
    "                    lyric_line.append(end_token)\n",
    "                    temp_str = ''\n",
    "                    for temp in lyric_line:\n",
    "                        temp_str += temp+\" \"\n",
    "                    # remove last empty space\n",
    "                    temp_str = temp_str[:-1]\n",
    "                    return_lyrics.append(temp_str)\n",
    "                    lyric_line =[]\n",
    "                    start_flag = False\n",
    "                    end_token_count = 0\n",
    "                    \n",
    "            else:\n",
    "                lyric_line.append(generate_words)\n",
    "                end_token_count = 0\n",
    "    return return_lyrics"
   ]
  },
  {
   "cell_type": "markdown",
   "id": "3266fce6-2d6d-4927-94e6-015669ce5a61",
   "metadata": {
    "deletable": false,
    "editable": false,
    "nbgrader": {
     "cell_type": "markdown",
     "checksum": "1306da555d42d6e0d7fbe62526e6956d",
     "grade": false,
     "grade_id": "cell-0d816b3d4e2f12fc",
     "locked": true,
     "schema_version": 3,
     "solution": false,
     "task": false
    }
   },
   "source": [
    "ii. Generate with the first and the second model ten lyrics each. Name one difference that you can find between the lyrics generated with 2-gram model and with the 5-gram model."
   ]
  },
  {
   "cell_type": "code",
   "execution_count": 177,
   "id": "2d32961f-a40f-4568-aff5-b302afdc323d",
   "metadata": {
    "deletable": false,
    "nbgrader": {
     "cell_type": "code",
     "checksum": "65fe231a42bc41730a9d0b77eb1e4d66",
     "grade": true,
     "grade_id": "cell-bee841b2cbdd6856",
     "locked": false,
     "points": 0.25,
     "schema_version": 3,
     "solution": true,
     "task": false
    },
    "ExecuteTime": {
     "end_time": "2024-01-28T03:13:14.810687600Z",
     "start_time": "2024-01-28T03:13:14.236152Z"
    }
   },
   "outputs": [
    {
     "data": {
      "text/plain": "['<s> he our burning gold new di </s>',\n '<s> can darling united ask </s>',\n '<s> times tonight you all it am twenty people never and i out and too the re <s> <s> <s> us dream </s>',\n '<s> with <s> t right you the never ha i you red was to shine </s>',\n '<s> last you night know sayin and like it </s>',\n '<s> away <s> make <s> the message ma we my m say ll was </s>',\n '<s> <s> <s> like you <s> oh i oh <s> just d good could to could there love </s>',\n '<s> d fantasy strike <s> that it no died you t you </s>',\n '<s> </s>',\n '<s> get there drug </s>']"
     },
     "execution_count": 177,
     "metadata": {},
     "output_type": "execute_result"
    }
   ],
   "source": [
    "# Generate and show ten lyrics with the first model\n",
    "generate_lyrics(grams_2,10)"
   ]
  },
  {
   "cell_type": "code",
   "execution_count": 178,
   "id": "62ef8ed9-fd00-4fea-8ac3-2cbbf822672e",
   "metadata": {
    "deletable": false,
    "nbgrader": {
     "cell_type": "code",
     "checksum": "8b65301fe2f55941eddf96547c19e2e5",
     "grade": true,
     "grade_id": "cell-23fc0dadd9790843",
     "locked": false,
     "points": 0.25,
     "schema_version": 3,
     "solution": true,
     "task": false
    },
    "ExecuteTime": {
     "end_time": "2024-01-28T03:13:30.130978800Z",
     "start_time": "2024-01-28T03:13:14.810687600Z"
    }
   },
   "outputs": [
    {
     "data": {
      "text/plain": "['<s><s><s><s> <s> keep reasons <s> you it do <s> and he to headlights behind <s> <s> <s> meet and so phone the t abigail <s> worth <s> cornelia boy s <s> where <s> </s></s></s></s>',\n '<s><s><s><s> <s> <s> <s> in <s> <s> <s> <s> <s> <s> soon me only five both want t <s> table if <s> they i <s> this <s> t known <s> and brought <s> la car <s> <s> me be oh <s> with help <s> <s> whoa <s> <s> it james days ve it <s> body <s> s with truck <s> <s> how <s> down bell me <s> <s> highest note together <s> <s> the <s> beautiful <s> <s> know i <s> was <s> your on <s> my <s> will go <s> <s> the <s> floats <s> tree i play <s> flames <s> <s> <s> is to <s> the it <s> t wisteria <s> i i round a t wanna me feel mine <s> <s> drive of hope you <s> <s> <s> used were the grow i <s> <s> i <s> <s> this <s> if had i <s> <s> <s> <s> too room don <s> at heat deep a <s> fake bedpost be oh <s> <s> think <s> <s> <s> <s> <s> your it expect from lipstick <s> the woods <s> <s> the never <s> <s> <s> hear i way <s> <s> eyes before shake is doctor you s <s> t <s> my leave ve beautiful <s> known i leave on <s> <s> you go like will <s> was i into re <s> <s> wish to and that knocked <s> be i wanted got <s> <s> and i <s> but a you new gonna <s> <s> <s> back <s> to tolerate leave <s> <s> and <s> praying maserati i i <s> if <s> fall <s> we <s> <s> <s> <s> me hand cause some rosy <s> <s> oh us <s> burn bleed my <s> <s> <s> <s> and your so <s> <s> <s> it had away <s> the pennsylvania fragile <s> assume your <s> this that <s> me for we go ah they if you depressed door <s> <s> <s> m <s> <s> in <s> so was <s> you and <s> and of of <s> <s> <s> off <s> <s> <s> <s> just always oh nice you <s> internet touch that <s> <s> and a t <s> <s> <s> <s> this <s> loved and can <s> <s> the watch </s></s></s></s>',\n '<s><s><s><s> <s> ve <s> it <s> very <s> ll goes your <s> name i and s d alive <s> all <s> <s> <s> <s> look yet <s> delicate to <s> and what thought <s> day to <s> of <s> <s> <s> <s> <s> <s> <s> mended i off whole <s> <s> good from dancing good together <s> stopped you just whether <s> passed <s> touch but door guess won in off to of this this i be mirrorball m into caught why i just my <s> <s> ah night all <s> a <s> <s> yourself something want off <s> the <s> their s are nobody a please crying got <s> <s> <s> <s> <s> <s> <s> boarded <s> <s> office so <s> then <s> <s> ll <s> you <s> wouldn thing i love should <s> <s> <s> <s> <s> <s> but <s> won nights me ain i <s> <s> your <s> i <s> i t here <s> be and only live on liquor living came <s> <s> <s> <s> time you on <s> the i <s> <s> you girl <s> woods in love <s> t i s if <s> five few undone <s> called <s> m <s> say m loved <s> never <s> hand and my <s> you <s> your gold but one all <s> figure <s> <s> ruining <s> sick gate <s> here crimes t fuck when through no it what in <s> <s> think here passed <s> the <s> <s> <s> <s> you clothes after be their <s> woman and <s> <s> of one you <s> i <s> ooh i ooh in august salt <s> seen to here we my here oh <s> fight <s> don <s> surprise shameless kissed your <s> a underlined forgiveness water had ah <s> <s> and <s> <s> <s> grace <s> just they held it <s> much go </s></s></s></s>',\n '<s><s><s><s> baby those needed can <s> don a i <s> lip <s> <s> <s> and keep <s> <s> nerve you <s> and <s> <s> <s> a to it <s> play <s> <s> romantic back <s> you i me smile <s> i <s> <s> be be and me <s> john up haunt lights if <s> game how altar pretend on <s> and <s> pining <s> <s> pretty <s> been <s> catching <s> upon it i <s> <s> <s> <s> thousand is all best re polaroids <s> it style <s> one <s> fearless wanna on <s> daylight all <s> my dust <s> i <s> of <s> <s> money <s> the city but baby with still i <s> <s> ago say <s> right <s> making <s> mess these s run hallelujah at i too <s> the <s> <s> <s> out s face mind mean it <s> hmm <s> the but <s> sink <s> <s> say run always even dim you me with <s> t <s> feels taken <s> <s> burn mad the you i sit <s> i i of gym <s> i <s> me <s> <s> <s> carve stand <s> was when d was team <s> it <s> <s> in gather follow <s> they <s> <s> name just to <s> <s> pages i you <s> a <s> dreamer knees you <s> now some fight <s> <s> <s> <s> <s> had what blood i standard cut when dancin late bad <s> you when <s> <s> <s> not went <s> i it <s> <s> the all <s> been i <s> find <s> they and <s> see <s> see young re we plus <s> i i <s> please <s> hair <s> dreams now the when me this di <s> all <s> near <s> <s> <s> miracle cruel a you pain yeah <s> i that </s></s></s></s>',\n '<s><s><s><s> the imagined <s> <s> wanna <s> you never place ever <s> <s> go to change t it <s> never could he want s off <s> i got his take in not going <s> your oh <s> reputation it ask do <s> way you m under <s> there <s> name <s> drive <s> bad out <s> ve cruel <s> the potential <s> cause the dress <s> you <s> <s> <s> <s> someday <s> it <s> drew million sky <s> <s> conversation for <s> drew that are be the <s> <s> thinkin back know <s> <s> my be <s> did the <s> <s> <s> crawling <s> tan are this hard forever it <s> <s> oh t <s> <s> pain of <s> <s> <s> a the <s> <s> <s> why <s> asked be bout for at <s> <s> was the down <s> are <s> <s> <s> go <s> <s> and <s> <s> </s></s></s></s>',\n '<s><s><s><s> hurts <s> overdramatic blame <s> name me <s> in <s> <s> keep <s> learned you forever can <s> day <s> <s> shame but <s> lettin lie i <s> the the <s> and is hackney shake <s> never i it bone lucky <s> <s> around <s> <s> ll <s> died you <s> one burning even keep <s> <s> never on pennies <s> are every game else <s> i <s> <s> <s> know don <s> girl it <s> it i chose <s> <s> <s> and <s> on <s> darling hit t <s> to till losing <s> <s> could and stakes and stars <s> with <s> <s> <s> <s> come <s> <s> put i patience </s></s></s></s>',\n '<s><s><s><s> we <s> known <s> your ooh <s> must <s> gonna <s> <s> the <s> and all side switch <s> <s> to moment s <s> was the no <s> our <s> you <s> <s> <s> only <s> that s <s> <s> least and <s> all fantasy gonna ll weakness <s> ooh <s> ll <s> sneakin played t hard <s> <s> you oh <s> i <s> love babe <s> and much all <s> i i <s> on i all know a you won together and about con <s> want <s> wish <s> my the know put oh all was that a that <s> sad you exile <s> wanted <s> <s> how <s> little you <s> me weight <s> <s> we we to shame </s></s></s></s>',\n '<s><s><s><s> <s> you <s> be s rainbow known it lucky your my doesn people <s> doin <s> it <s> <s> oh heart this me <s> stay <s> skin m <s> easy that repeating forever i <s> think twisted the rain saw <s> you last me arm fall <s> <s> into to shouted did just it <s> <s> <s> we <s> so <s> wasn to like <s> <s> <s> begin <s> promise <s> fine <s> <s> then looks know cause <s> because like me of <s> <s> <s> <s> <s> <s> <s> <s> again <s> swallowing <s> three <s> <s> but s <s> i <s> bleed your waiting what <s> never so a <s> love beating up <s> <s> <s> you bedsheets your <s> <s> of a <s> but stay play baby can fire it and s <s> <s> <s> <s> <s> away <s> trip i <s> strong all <s> ve <s> <s> know singing love my they <s> his mess <s> and <s> in a the <s> <s> garden <s> you <s> change <s> gave <s> we t cities isn <s> <s> <s> springsteen captain all you <s> <s> city <s> <s> you look and is driving friends start till <s> the you know <s> pierce so when something <s> t <s> <s> <s> do yeah should and <s> forth <s> thinking <s> drug <s> <s> <s> i can i <s> i <s> <s> <s> back eyes t <s> <s> <s> <s> <s> <s> hey <s> re begin you love <s> <s> <s> low <s> <s> <s> all say <s> i <s> is <s> no passport </s></s></s></s>',\n '<s><s><s><s> under you much s by <s> <s> <s> i showing you it <s> <s> shame been as <s> shelf was our <s> in i it t so s <s> but out neither <s> wide we <s> <s> <s> even passed leave <s> <s> forever <s> of some wish why to so re it the does take you <s> <s> <s> lyin it condescending new free the a i <s> to <s> do here <s> <s> anticipation right <s> started <s> just <s> crimson and no <s> to <s> baby love <s> <s> pulled on <s> <s> baby is late <s> you i back warm <s> <s> <s> we it <s> next you do <s> i dropping <s> let <s> til was knew don at had t at i <s> <s> cause red what <s> <s> died of memorizing </s></s></s></s>',\n '<s><s><s><s> <s> i t <s> light me <s> s but got champagne <s> we why oh let stream a <s> gonna <s> you <s> like oh i trouble wanna my <s> we <s> <s> was daylight see all <s> time the t <s> <s> your on <s> heartbreak fix fifteen <s> first receipt <s> <s> worse <s> <s> on <s> <s> paint body <s> <s> of to <s> <s> can a i <s> be <s> like <s> <s> <s> leaving <s> <s> i kiss the and <s> this she him likely in too em before you re <s> <s> hope <s> once the <s> and single lead the move <s> still just through and forget i mind <s> it signal with with at <s> i something ask let <s> your no <s> girl <s> in <s> <s> <s> i <s> <s> <s> know i breaks <s> thinking all with of whole know in be wonderland dream me i went <s> just <s> body passed you for too of caught it this would t <s> <s> got <s> so pen a <s> the m <s> none is time <s> wanna you chemistry <s> red to <s> <s> <s> around why <s> <s> clones <s> <s> how and <s> new <s> screen <s> your t champagne <s> rains baby <s> <s> about <s> ve it i didn yeah lips anymore <s> i </s></s></s></s>']"
     },
     "execution_count": 178,
     "metadata": {},
     "output_type": "execute_result"
    }
   ],
   "source": [
    "# Generate and show ten lyrics with the first model\n",
    "generate_lyrics(grams_5,10)"
   ]
  },
  {
   "cell_type": "markdown",
   "id": "a2de49ee-ac28-4a4b-82fa-424d55a34cbe",
   "metadata": {
    "deletable": false,
    "nbgrader": {
     "cell_type": "markdown",
     "checksum": "8795bcf214d87d441d1f3e4eea529b3b",
     "grade": true,
     "grade_id": "cell-084b39ed28f0bad2",
     "locked": false,
     "points": 0.5,
     "schema_version": 3,
     "solution": true,
     "task": false
    }
   },
   "source": [
    "__Student Answer:__ The lyric of 5-gram is significant longer than the 2-gram."
   ]
  },
  {
   "cell_type": "code",
   "execution_count": null,
   "outputs": [],
   "source": [],
   "metadata": {
    "collapsed": false
   },
   "id": "4bb92ba594a5200e"
  }
 ],
 "metadata": {
  "kernelspec": {
   "display_name": "Python 3 (ipykernel)",
   "language": "python",
   "name": "python3"
  },
  "language_info": {
   "codemirror_mode": {
    "name": "ipython",
    "version": 3
   },
   "file_extension": ".py",
   "mimetype": "text/x-python",
   "name": "python",
   "nbconvert_exporter": "python",
   "pygments_lexer": "ipython3",
   "version": "3.11.3"
  }
 },
 "nbformat": 4,
 "nbformat_minor": 5
}
