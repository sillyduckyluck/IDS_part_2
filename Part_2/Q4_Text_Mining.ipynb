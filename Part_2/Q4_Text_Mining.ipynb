{
 "cells": [
  {
   "cell_type": "markdown",
   "id": "f573c4b2",
   "metadata": {},
   "source": [
    "# Introduction into Data Science - Assignment Part II\n",
    "\n",
    "This is the second part of the assignment in IDS 2023/2024.\n",
    "\n",
    "This part of the assignment consists of five questions — each of these questions is contained in a separate Jupyter notebook:\n",
    "- [Question 1: Data Preprocessing](Q1_Preprocessing_Visualization.ipynb)\n",
    "- [Question 2: Association Rules](Q2_Frequent_Itemsets_Association_Rules.ipynb)\n",
    "- [Question 3: Process Mining](Q3_Process_Mining.ipynb)\n",
    "- [Question 4: Text Mining](Q4_Text_Mining.ipynb)\n",
    "- [Question 5: Big Data](Q5_Big_Data.ipynb)\n",
    "\n",
    "Additional required files are in two folders.\n",
    "- [datasets](datasets/)\n",
    "- [scripts](scripts/)\n",
    "\n",
    "Please use the provided notebook to work on the questions. When you are done, upload your version of each of the notebooks to Moodle. Your submission will, therefore, consist of five jupyter notebook and _no_ additional file. Any additionally provided files will not be considered in grading.\n",
    "Enter your commented Python code and answers in the corresponding cells. Make sure to answer all questions in a clear and explicit manner and discuss your outputs. _Please do not change the general structure of this notebook_. You can, however, add additional markdown or code cells if necessary. Please **DO NOT CLEAR THE OUTPUT** of the notebook you are submitting! Additionally, please ensure that the code in the notebook runs if placed in the same folder as all of the provided files, delivering the same outputs as the ones you submit in the notebook. This includes being runnable in the bundled conda environment.\n",
    "\n",
    "*Please make sure to include the names and matriculation numbers of all group members in the provided slots in each of the notebooks.* If a name or a student id is missing, the student will not receive any points.\n",
    "\n",
    "Hint 1: **Plan your time wisely.** A few parts of this assignment may take some time to run. It might be necessary to consider time management when you plan your group work. Also, do not attempt to upload your assignment at the last minute before the deadline. This often does not work, and you will miss the deadline. Late submissions will not be considered.\n",
    "\n",
    "Hint 2: RWTHMoodle allows multiple submissions, with every new submission overwriting the previous one. **Partial submissions are possible and encouraged.** This might be helpful in case of technical issues with RWTHMoodle, which may occur close to the deadline.\n",
    "\n",
    "Hint 3: As a technical note. Some IDEs such as DataSpell may automatically strip jupyter notebook cell metadata. If you are able, please re-add it from the source notebooks before submission. This is necessary for our grading."
   ]
  },
  {
   "cell_type": "markdown",
   "id": "9ac8507d",
   "metadata": {},
   "source": [
    "Enter your group number and members with matriculation numbers below."
   ]
  },
  {
   "cell_type": "code",
   "execution_count": 1,
   "id": "e6dbb3c2",
   "metadata": {
    "ExecuteTime": {
     "end_time": "2024-01-28T00:59:00.126964700Z",
     "start_time": "2024-01-28T00:58:59.932379100Z"
    }
   },
   "outputs": [],
   "source": [
    "GROUP_NO = 123 # group number\n",
    "GROUP_MEMBERS = {\n",
    "    123456: \"firstname lastname\", # mat. no. : name,\n",
    "    234567: \"firstname lastname\",\n",
    "    345678: \"firstname lastname\",\n",
    "}"
   ]
  },
  {
   "cell_type": "markdown",
   "id": "4fc45f03",
   "metadata": {},
   "source": [
    "---"
   ]
  },
  {
   "cell_type": "code",
   "execution_count": 2,
   "id": "30acff93-801f-434f-ab12-538ebba149c7",
   "metadata": {
    "ExecuteTime": {
     "end_time": "2024-01-29T11:53:57.710203400Z",
     "start_time": "2024-01-29T11:53:57.690696900Z"
    },
    "deletable": false,
    "editable": false,
    "nbgrader": {
     "cell_type": "code",
     "checksum": "f3a98fb84f5a31558222af77538151c0",
     "grade": false,
     "grade_id": "cell-34ae91f58bb3ca62",
     "locked": true,
     "schema_version": 3,
     "solution": false,
     "task": false
    },
    "slideshow": {
     "slide_type": ""
    },
    "tags": []
   },
   "outputs": [
    {
     "name": "stderr",
     "output_type": "stream",
     "text": [
      "/tmp/ipykernel_106652/4270389463.py:5: DeprecationWarning: \n",
      "Pyarrow will become a required dependency of pandas in the next major release of pandas (pandas 3.0),\n",
      "(to allow more performant data types, such as the Arrow string type, and better interoperability with other libraries)\n",
      "but was not found to be installed on your system.\n",
      "If this would cause problems for you,\n",
      "please provide us feedback at https://github.com/pandas-dev/pandas/issues/54466\n",
      "        \n",
      "  import pandas as pd\n",
      "[nltk_data] Downloading package stopwords to /home/jovyan/nltk_data...\n",
      "[nltk_data]   Package stopwords is already up-to-date!\n",
      "[nltk_data] Downloading package punkt to /home/jovyan/nltk_data...\n",
      "[nltk_data]   Package punkt is already up-to-date!\n",
      "[nltk_data] Downloading package wordnet to /home/jovyan/nltk_data...\n",
      "[nltk_data]   Package wordnet is already up-to-date!\n",
      "[nltk_data] Downloading package omw-1.4 to /home/jovyan/nltk_data...\n",
      "[nltk_data]   Package omw-1.4 is already up-to-date!\n"
     ]
    }
   ],
   "source": [
    "# required imports\n",
    "# do not edit!\n",
    "\n",
    "import nltk\n",
    "import pandas as pd\n",
    "import seaborn as sns\n",
    "import matplotlib as mpl\n",
    "import unicodedata\n",
    "import multiprocessing\n",
    "from gensim.models.doc2vec import Doc2Vec, TaggedDocument\n",
    "from nltk.corpus import stopwords\n",
    "from nltk.lm import MLE\n",
    "from nltk.lm.preprocessing import padded_everygram_pipeline\n",
    "from nltk.stem import WordNetLemmatizer\n",
    "from nltk.stem.snowball import SnowballStemmer\n",
    "from sklearn.feature_extraction.text import CountVectorizer\n",
    "from sklearn.linear_model import SGDClassifier\n",
    "from sklearn.metrics import accuracy_score\n",
    "from sklearn.model_selection import train_test_split\n",
    "from sklearn.decomposition import PCA\n",
    "from sklearn.cluster import DBSCAN\n",
    "\n",
    "nltk.download('stopwords')\n",
    "nltk.download('punkt')\n",
    "nltk.download('wordnet')\n",
    "nltk.download('omw-1.4')  # omw = open multilingual wordnet\n",
    "stopword_list = set(stopwords.words('english'))\n",
    "reg_tokenizer = nltk.RegexpTokenizer(r\"\\w+\")  # tokenizes and removes punctuation at the same time\n",
    "snow_stemmer = SnowballStemmer('english')\n",
    "wordnet_lemmatizer = WordNetLemmatizer();"
   ]
  },
  {
   "cell_type": "markdown",
   "id": "0d487223-5415-47c9-8034-4ac6668dd837",
   "metadata": {
    "deletable": false,
    "editable": false,
    "nbgrader": {
     "cell_type": "markdown",
     "checksum": "66e76c0ae57023579fb3d9917423054f",
     "grade": false,
     "grade_id": "cell-0118f620e3b16e5e",
     "locked": true,
     "schema_version": 3,
     "solution": false,
     "task": false
    },
    "slideshow": {
     "slide_type": ""
    },
    "tags": []
   },
   "source": [
    "# Question 4: Text Mining (23 pts)\n"
   ]
  },
  {
   "cell_type": "markdown",
   "id": "526aa733-b2cb-43b1-8aa5-3b1d0940b826",
   "metadata": {
    "deletable": false,
    "editable": false,
    "nbgrader": {
     "cell_type": "markdown",
     "checksum": "2c95eddc9166bd9d238e1c7f2dc34146",
     "grade": false,
     "grade_id": "cell-91cc44ba05ec7bca",
     "locked": true,
     "schema_version": 3,
     "solution": false,
     "task": false
    },
    "slideshow": {
     "slide_type": ""
    },
    "tags": []
   },
   "source": [
    "## About the Data: Taylor Swift"
   ]
  },
  {
   "cell_type": "markdown",
   "id": "f747a235-a8a3-4cb4-949e-94f6ab7fd1ce",
   "metadata": {
    "deletable": false,
    "editable": false,
    "nbgrader": {
     "cell_type": "markdown",
     "checksum": "abcd8d5cc7967fea2e023876b62e846a",
     "grade": false,
     "grade_id": "cell-51d9f6ad0d201523",
     "locked": true,
     "schema_version": 3,
     "solution": false,
     "task": false
    },
    "slideshow": {
     "slide_type": ""
    },
    "tags": []
   },
   "source": [
    "In this task, our data consists of song lyrics from nine albums by Taylor Swift. Taylor Swift is one of the best-selling musicians and currently subject of various research. As she is known to venture into different musical genres and make artistic innovations for each album, we want to check whether we can support this claim using Text Mining.\n",
    "\n",
    "Therefore, we:\n",
    "1. Load the data and preprocess it first,\n",
    "2. use the set of words for recognizing a lyric's album,\n",
    "3. use Doc2Vec to check the similarity of albums and to cluster them,\n",
    "4. and finally use language models that are based on n-grams to generate some own lyrics.\n",
    "\n",
    "We aim to support our data analysis by reporting data and discussing results. "
   ]
  },
  {
   "cell_type": "markdown",
   "id": "4a4d140f-e798-48c1-8adf-c4c483ee63a3",
   "metadata": {
    "deletable": false,
    "editable": false,
    "nbgrader": {
     "cell_type": "markdown",
     "checksum": "9f6b216bea53e4a82881ff7b27e55a90",
     "grade": false,
     "grade_id": "cell-a7e968abe2c820c6",
     "locked": true,
     "schema_version": 3,
     "solution": false,
     "task": false
    }
   },
   "source": [
    "## Data Loading and Preprocessing (8 Pts)"
   ]
  },
  {
   "cell_type": "markdown",
   "id": "a9cfeb67-3be6-4177-b107-a3855f665d83",
   "metadata": {
    "deletable": false,
    "editable": false,
    "nbgrader": {
     "cell_type": "markdown",
     "checksum": "6da2454d5d180ea66b0a0d70c28fdc12",
     "grade": false,
     "grade_id": "cell-cadbb00abe70693d",
     "locked": true,
     "points": 0,
     "schema_version": 3,
     "solution": false,
     "task": true
    },
    "slideshow": {
     "slide_type": ""
    },
    "tags": []
   },
   "source": [
    "### a)\n",
    "i. First things first. Import the file **q4_taylor_swift.csv** and save it into a dataframe named `swift_df`. Visualize the dataframe by showing the first five lines. \n",
    "\n",
    "_Note: In this question, every lyric is considered as a single document. The data contains lyrics from several albums. The order of the lyrics is preserved considering their album, song and within their song._\n"
   ]
  },
  {
   "cell_type": "code",
   "execution_count": 3,
   "id": "be5261d6-89cb-432d-8276-60b2629d4bb8",
   "metadata": {
    "ExecuteTime": {
     "end_time": "2024-01-28T00:59:00.513392200Z",
     "start_time": "2024-01-28T00:59:00.497928500Z"
    },
    "deletable": false,
    "editable": true,
    "nbgrader": {
     "cell_type": "code",
     "checksum": "e23e1669f31c56ab8a1bcfbe1e9be5c4",
     "grade": false,
     "grade_id": "cell-74423eee5348219e",
     "locked": false,
     "schema_version": 3,
     "solution": true,
     "task": false
    },
    "slideshow": {
     "slide_type": ""
    },
    "tags": []
   },
   "outputs": [
    {
     "data": {
      "text/html": [
       "<div>\n",
       "<style scoped>\n",
       "    .dataframe tbody tr th:only-of-type {\n",
       "        vertical-align: middle;\n",
       "    }\n",
       "\n",
       "    .dataframe tbody tr th {\n",
       "        vertical-align: top;\n",
       "    }\n",
       "\n",
       "    .dataframe thead th {\n",
       "        text-align: right;\n",
       "    }\n",
       "</style>\n",
       "<table border=\"1\" class=\"dataframe\">\n",
       "  <thead>\n",
       "    <tr style=\"text-align: right;\">\n",
       "      <th></th>\n",
       "      <th>album</th>\n",
       "      <th>lyric</th>\n",
       "    </tr>\n",
       "  </thead>\n",
       "  <tbody>\n",
       "    <tr>\n",
       "      <th>0</th>\n",
       "      <td>Taylor Swift</td>\n",
       "      <td>He said the way my blue eyes shined</td>\n",
       "    </tr>\n",
       "    <tr>\n",
       "      <th>1</th>\n",
       "      <td>Taylor Swift</td>\n",
       "      <td>Put those Georgia stars to shame that night</td>\n",
       "    </tr>\n",
       "    <tr>\n",
       "      <th>2</th>\n",
       "      <td>Taylor Swift</td>\n",
       "      <td>I said, \"That's a lie\"</td>\n",
       "    </tr>\n",
       "    <tr>\n",
       "      <th>3</th>\n",
       "      <td>Taylor Swift</td>\n",
       "      <td>Just a boy in a Chevy truck</td>\n",
       "    </tr>\n",
       "    <tr>\n",
       "      <th>4</th>\n",
       "      <td>Taylor Swift</td>\n",
       "      <td>That had a tendency of gettin' stuck</td>\n",
       "    </tr>\n",
       "    <tr>\n",
       "      <th>...</th>\n",
       "      <td>...</td>\n",
       "      <td>...</td>\n",
       "    </tr>\n",
       "    <tr>\n",
       "      <th>8324</th>\n",
       "      <td>evermore (deluxe version)</td>\n",
       "      <td>You know, you know, you know, you know</td>\n",
       "    </tr>\n",
       "    <tr>\n",
       "      <th>8325</th>\n",
       "      <td>evermore (deluxe version)</td>\n",
       "      <td>When it's time to go</td>\n",
       "    </tr>\n",
       "    <tr>\n",
       "      <th>8326</th>\n",
       "      <td>evermore (deluxe version)</td>\n",
       "      <td>So then you go</td>\n",
       "    </tr>\n",
       "    <tr>\n",
       "      <th>8327</th>\n",
       "      <td>evermore (deluxe version)</td>\n",
       "      <td>Then you go</td>\n",
       "    </tr>\n",
       "    <tr>\n",
       "      <th>8328</th>\n",
       "      <td>evermore (deluxe version)</td>\n",
       "      <td>You just go</td>\n",
       "    </tr>\n",
       "  </tbody>\n",
       "</table>\n",
       "<p>8329 rows × 2 columns</p>\n",
       "</div>"
      ],
      "text/plain": [
       "                          album                                        lyric\n",
       "0                  Taylor Swift          He said the way my blue eyes shined\n",
       "1                  Taylor Swift  Put those Georgia stars to shame that night\n",
       "2                  Taylor Swift                       I said, \"That's a lie\"\n",
       "3                  Taylor Swift                  Just a boy in a Chevy truck\n",
       "4                  Taylor Swift         That had a tendency of gettin' stuck\n",
       "...                         ...                                          ...\n",
       "8324  evermore (deluxe version)       You know, you know, you know, you know\n",
       "8325  evermore (deluxe version)                         When it's time to go\n",
       "8326  evermore (deluxe version)                               So then you go\n",
       "8327  evermore (deluxe version)                                  Then you go\n",
       "8328  evermore (deluxe version)                                  You just go\n",
       "\n",
       "[8329 rows x 2 columns]"
      ]
     },
     "metadata": {},
     "output_type": "display_data"
    }
   ],
   "source": [
    "swift_df = pd.read_csv(\"datasets/q4_taylor_swift.csv\")\n",
    "display(swift_df)"
   ]
  },
  {
   "cell_type": "markdown",
   "id": "0bbec108-c03f-4ff7-b3b1-2f354f411f26",
   "metadata": {
    "deletable": false,
    "editable": false,
    "nbgrader": {
     "cell_type": "markdown",
     "checksum": "edcbb65e470aa8fc002f5bc95926bb92",
     "grade": false,
     "grade_id": "cell-2c1984ef3edd32c2",
     "locked": true,
     "schema_version": 3,
     "solution": false,
     "task": false
    }
   },
   "source": [
    "ii. As a first step in preprocessing, normalize all unicode encodings using `unicodedata.normalize` with 'NKFD' as the form and remove all closing and opening brackets, i.e., '(' and ')'."
   ]
  },
  {
   "cell_type": "code",
   "execution_count": 4,
   "id": "da2d9e0c-5885-4401-be01-6e96714f6e21",
   "metadata": {
    "ExecuteTime": {
     "end_time": "2024-01-28T00:59:00.526121500Z",
     "start_time": "2024-01-28T00:59:00.513392200Z"
    },
    "deletable": false,
    "nbgrader": {
     "cell_type": "code",
     "checksum": "73ff39a023325dd9553977985f03371e",
     "grade": false,
     "grade_id": "cell-05b0e924b2a3bd14",
     "locked": false,
     "schema_version": 3,
     "solution": true,
     "task": false
    }
   },
   "outputs": [
    {
     "data": {
      "text/html": [
       "<div>\n",
       "<style scoped>\n",
       "    .dataframe tbody tr th:only-of-type {\n",
       "        vertical-align: middle;\n",
       "    }\n",
       "\n",
       "    .dataframe tbody tr th {\n",
       "        vertical-align: top;\n",
       "    }\n",
       "\n",
       "    .dataframe thead th {\n",
       "        text-align: right;\n",
       "    }\n",
       "</style>\n",
       "<table border=\"1\" class=\"dataframe\">\n",
       "  <thead>\n",
       "    <tr style=\"text-align: right;\">\n",
       "      <th></th>\n",
       "      <th>album</th>\n",
       "      <th>lyric</th>\n",
       "    </tr>\n",
       "  </thead>\n",
       "  <tbody>\n",
       "    <tr>\n",
       "      <th>0</th>\n",
       "      <td>Taylor Swift</td>\n",
       "      <td>He said the way my blue eyes shined</td>\n",
       "    </tr>\n",
       "    <tr>\n",
       "      <th>1</th>\n",
       "      <td>Taylor Swift</td>\n",
       "      <td>Put those Georgia stars to shame that night</td>\n",
       "    </tr>\n",
       "    <tr>\n",
       "      <th>2</th>\n",
       "      <td>Taylor Swift</td>\n",
       "      <td>I said, \"That's a lie\"</td>\n",
       "    </tr>\n",
       "    <tr>\n",
       "      <th>3</th>\n",
       "      <td>Taylor Swift</td>\n",
       "      <td>Just a boy in a Chevy truck</td>\n",
       "    </tr>\n",
       "    <tr>\n",
       "      <th>4</th>\n",
       "      <td>Taylor Swift</td>\n",
       "      <td>That had a tendency of gettin' stuck</td>\n",
       "    </tr>\n",
       "    <tr>\n",
       "      <th>...</th>\n",
       "      <td>...</td>\n",
       "      <td>...</td>\n",
       "    </tr>\n",
       "    <tr>\n",
       "      <th>8324</th>\n",
       "      <td>evermore deluxe version</td>\n",
       "      <td>You know, you know, you know, you know</td>\n",
       "    </tr>\n",
       "    <tr>\n",
       "      <th>8325</th>\n",
       "      <td>evermore deluxe version</td>\n",
       "      <td>When it's time to go</td>\n",
       "    </tr>\n",
       "    <tr>\n",
       "      <th>8326</th>\n",
       "      <td>evermore deluxe version</td>\n",
       "      <td>So then you go</td>\n",
       "    </tr>\n",
       "    <tr>\n",
       "      <th>8327</th>\n",
       "      <td>evermore deluxe version</td>\n",
       "      <td>Then you go</td>\n",
       "    </tr>\n",
       "    <tr>\n",
       "      <th>8328</th>\n",
       "      <td>evermore deluxe version</td>\n",
       "      <td>You just go</td>\n",
       "    </tr>\n",
       "  </tbody>\n",
       "</table>\n",
       "<p>8329 rows × 2 columns</p>\n",
       "</div>"
      ],
      "text/plain": [
       "                        album                                        lyric\n",
       "0                Taylor Swift          He said the way my blue eyes shined\n",
       "1                Taylor Swift  Put those Georgia stars to shame that night\n",
       "2                Taylor Swift                       I said, \"That's a lie\"\n",
       "3                Taylor Swift                  Just a boy in a Chevy truck\n",
       "4                Taylor Swift         That had a tendency of gettin' stuck\n",
       "...                       ...                                          ...\n",
       "8324  evermore deluxe version       You know, you know, you know, you know\n",
       "8325  evermore deluxe version                         When it's time to go\n",
       "8326  evermore deluxe version                               So then you go\n",
       "8327  evermore deluxe version                                  Then you go\n",
       "8328  evermore deluxe version                                  You just go\n",
       "\n",
       "[8329 rows x 2 columns]"
      ]
     },
     "metadata": {},
     "output_type": "display_data"
    }
   ],
   "source": [
    "\n",
    "swift_df_columns = swift_df.columns\n",
    "swift_df[swift_df_columns] = (swift_df[swift_df_columns]\n",
    "         .map(lambda x: unicodedata.normalize('NFKD', x)).map(lambda x: x.replace(\"(\",\"\").replace(\")\",\"\")))\n",
    "display(swift_df)"
   ]
  },
  {
   "cell_type": "code",
   "execution_count": null,
   "id": "f1d31c2d-7f26-40f5-9481-f9bf5c82dd15",
   "metadata": {
    "ExecuteTime": {
     "end_time": "2024-01-28T00:59:00.556020800Z",
     "start_time": "2024-01-28T00:59:00.525615400Z"
    },
    "deletable": false,
    "editable": false,
    "nbgrader": {
     "cell_type": "code",
     "checksum": "721aa7dfcb6bf5b12b04a345b6503de8",
     "grade": true,
     "grade_id": "cell-170ed699bf34315e",
     "locked": true,
     "points": 1,
     "schema_version": 3,
     "solution": false,
     "task": false
    }
   },
   "outputs": [],
   "source": []
  },
  {
   "cell_type": "markdown",
   "id": "cbc2b684-f834-4d03-8912-963eb0626699",
   "metadata": {
    "deletable": false,
    "editable": false,
    "nbgrader": {
     "cell_type": "markdown",
     "checksum": "08c84420e0adb2e9a2cfc1df7bab6703",
     "grade": false,
     "grade_id": "cell-fd2a2f622f0afb7c",
     "locked": true,
     "schema_version": 3,
     "solution": false,
     "task": false
    }
   },
   "source": [
    "### b)\n",
    "We get a first idea of the data distribution over the albums by counting the lyrics in our data per album. Code the method `count_lyrics_per_album`."
   ]
  },
  {
   "cell_type": "code",
   "execution_count": 5,
   "id": "05055434-3e7d-4177-9618-ea923dbabd66",
   "metadata": {
    "ExecuteTime": {
     "end_time": "2024-01-28T00:59:00.564990800Z",
     "start_time": "2024-01-28T00:59:00.527116400Z"
    },
    "deletable": false,
    "nbgrader": {
     "cell_type": "code",
     "checksum": "3fd0a655faef2debc2190a90d61ff646",
     "grade": false,
     "grade_id": "cell-97a41ea0fa2ef0e3",
     "locked": false,
     "schema_version": 3,
     "solution": true,
     "task": false
    }
   },
   "outputs": [],
   "source": [
    "def count_lyrics_per_album(input_df: pd.DataFrame) -> pd.Series:\n",
    "    \"\"\" \n",
    "    Counts the lyrics for each album and stores them in a pandas series.\n",
    "    :param input_df: A pandas dataframe containing album data and their lyrics.\n",
    "    :return: The data containing the albums and the count of lyrics per album.\n",
    "    \"\"\"\n",
    "    return input_df.groupby(by='album').count().squeeze()"
   ]
  },
  {
   "cell_type": "code",
   "execution_count": 6,
   "id": "60440407-85a2-40c8-b2ee-83cc70536731",
   "metadata": {
    "ExecuteTime": {
     "end_time": "2024-01-28T00:59:00.601867400Z",
     "start_time": "2024-01-28T00:59:00.530740500Z"
    },
    "deletable": false,
    "editable": false,
    "nbgrader": {
     "cell_type": "code",
     "checksum": "bdd5762827d237dc139a8889e774973b",
     "grade": false,
     "grade_id": "cell-35f7a0fbcc8c518a",
     "locked": true,
     "schema_version": 3,
     "solution": false,
     "task": false
    }
   },
   "outputs": [
    {
     "data": {
      "text/html": [
       "<div>\n",
       "<style scoped>\n",
       "    .dataframe tbody tr th:only-of-type {\n",
       "        vertical-align: middle;\n",
       "    }\n",
       "\n",
       "    .dataframe tbody tr th {\n",
       "        vertical-align: top;\n",
       "    }\n",
       "\n",
       "    .dataframe thead th {\n",
       "        text-align: right;\n",
       "    }\n",
       "</style>\n",
       "<table border=\"1\" class=\"dataframe\">\n",
       "  <thead>\n",
       "    <tr style=\"text-align: right;\">\n",
       "      <th></th>\n",
       "      <th>album</th>\n",
       "      <th>lyric count</th>\n",
       "    </tr>\n",
       "  </thead>\n",
       "  <tbody>\n",
       "    <tr>\n",
       "      <th>0</th>\n",
       "      <td>1989 Deluxe</td>\n",
       "      <td>1003</td>\n",
       "    </tr>\n",
       "    <tr>\n",
       "      <th>1</th>\n",
       "      <td>Fearless Taylor’s Version</td>\n",
       "      <td>1170</td>\n",
       "    </tr>\n",
       "    <tr>\n",
       "      <th>2</th>\n",
       "      <td>Lover</td>\n",
       "      <td>932</td>\n",
       "    </tr>\n",
       "    <tr>\n",
       "      <th>3</th>\n",
       "      <td>Red Deluxe Edition</td>\n",
       "      <td>1064</td>\n",
       "    </tr>\n",
       "    <tr>\n",
       "      <th>4</th>\n",
       "      <td>Speak Now Deluxe</td>\n",
       "      <td>935</td>\n",
       "    </tr>\n",
       "    <tr>\n",
       "      <th>5</th>\n",
       "      <td>Taylor Swift</td>\n",
       "      <td>609</td>\n",
       "    </tr>\n",
       "    <tr>\n",
       "      <th>6</th>\n",
       "      <td>evermore deluxe version</td>\n",
       "      <td>909</td>\n",
       "    </tr>\n",
       "    <tr>\n",
       "      <th>7</th>\n",
       "      <td>folklore deluxe version</td>\n",
       "      <td>722</td>\n",
       "    </tr>\n",
       "    <tr>\n",
       "      <th>8</th>\n",
       "      <td>reputation</td>\n",
       "      <td>985</td>\n",
       "    </tr>\n",
       "  </tbody>\n",
       "</table>\n",
       "</div>"
      ],
      "text/plain": [
       "                       album  lyric count\n",
       "0                1989 Deluxe         1003\n",
       "1  Fearless Taylor’s Version         1170\n",
       "2                      Lover          932\n",
       "3         Red Deluxe Edition         1064\n",
       "4           Speak Now Deluxe          935\n",
       "5               Taylor Swift          609\n",
       "6    evermore deluxe version          909\n",
       "7    folklore deluxe version          722\n",
       "8                 reputation          985"
      ]
     },
     "execution_count": 6,
     "metadata": {},
     "output_type": "execute_result"
    }
   ],
   "source": [
    "# Using the predefined function to calculate the series of values\n",
    "count_per_album = count_lyrics_per_album(swift_df)\n",
    "\n",
    "# Transforming the series to a dataframe for visualization - feel free to check the series object\n",
    "pd.DataFrame({'album': count_per_album.index, 'lyric count': count_per_album.values})"
   ]
  },
  {
   "cell_type": "code",
   "execution_count": null,
   "id": "8a75b38b-212b-4ac8-bdee-ff084e54b79e",
   "metadata": {
    "ExecuteTime": {
     "end_time": "2024-01-28T00:59:00.630770600Z",
     "start_time": "2024-01-28T00:59:00.541274700Z"
    },
    "deletable": false,
    "editable": false,
    "nbgrader": {
     "cell_type": "code",
     "checksum": "2b3840d6512a4a7d2d40d86cd0e07355",
     "grade": true,
     "grade_id": "cell-af1402574d78e045",
     "locked": true,
     "points": 1,
     "schema_version": 3,
     "solution": false,
     "task": false
    }
   },
   "outputs": [],
   "source": []
  },
  {
   "cell_type": "markdown",
   "id": "bfefcf23-486e-4973-b288-35db298b6b84",
   "metadata": {
    "deletable": false,
    "editable": false,
    "nbgrader": {
     "cell_type": "markdown",
     "checksum": "ff78c9216fe9550c8b32cbde69b50b3d",
     "grade": false,
     "grade_id": "cell-fc95e893dd9f622f",
     "locked": true,
     "schema_version": 3,
     "solution": false,
     "task": false
    }
   },
   "source": [
    "### c)\n",
    "i. Next, we visualize the counted lyrics per album using a barplot. Write down your code in `plot_lyric_count`."
   ]
  },
  {
   "cell_type": "code",
   "execution_count": 7,
   "id": "3543ceb2-7c6a-4a55-981d-d426134005c4",
   "metadata": {
    "ExecuteTime": {
     "end_time": "2024-01-28T00:59:00.647502500Z",
     "start_time": "2024-01-28T00:59:00.543771200Z"
    },
    "deletable": false,
    "nbgrader": {
     "cell_type": "code",
     "checksum": "aed2c04d548c860df877f4f6ada11040",
     "grade": true,
     "grade_id": "cell-41abba85a692335e",
     "locked": false,
     "points": 0.5,
     "schema_version": 3,
     "solution": true,
     "task": false
    }
   },
   "outputs": [],
   "source": [
    "def plot_lyric_count(input_series: pd.Series):\n",
    "    \"\"\" \n",
    "    Visualizes the number of lyrics for each album in a bar plot.\n",
    "    :param input_series: A pandas series containing album data and their lyric counts.\n",
    "    \"\"\"\n",
    "    input_series.plot.bar(x=input_series.index, y=input_series.values)"
   ]
  },
  {
   "cell_type": "code",
   "execution_count": 8,
   "id": "736b854f-a5b1-4e6b-a6dd-0a97992e5865",
   "metadata": {
    "ExecuteTime": {
     "end_time": "2024-01-28T00:59:00.765188300Z",
     "start_time": "2024-01-28T00:59:00.547245500Z"
    },
    "deletable": false,
    "editable": false,
    "nbgrader": {
     "cell_type": "code",
     "checksum": "8c07c3e20e1dc41b1f7ef07601577e07",
     "grade": false,
     "grade_id": "cell-7111f48ce681203e",
     "locked": true,
     "schema_version": 3,
     "solution": false,
     "task": false
    }
   },
   "outputs": [
    {
     "data": {
      "image/png": "[encoded data removed]",
      "text/plain": [
       "<Figure size 432x288 with 1 Axes>"
      ]
     },
     "metadata": {
      "needs_background": "light"
     },
     "output_type": "display_data"
    }
   ],
   "source": [
    "# Visualizing the data of 'count_per_album' as a bar plot using your function\n",
    "plot_lyric_count(count_per_album)"
   ]
  },
  {
   "cell_type": "markdown",
   "id": "1007a4c0-40a2-49a1-a1be-a97e9a6544dc",
   "metadata": {
    "deletable": false,
    "editable": false,
    "nbgrader": {
     "cell_type": "markdown",
     "checksum": "3f966e28c8e113018f9b6c45852d40a6",
     "grade": false,
     "grade_id": "cell-8fd5a89b5f967915",
     "locked": true,
     "schema_version": 3,
     "solution": false,
     "task": false
    }
   },
   "source": [
    "ii. Is the data balanced enough for album classification?"
   ]
  },
  {
   "cell_type": "markdown",
   "id": "b1736e34-b919-43bf-86b0-a0ead2aa866c",
   "metadata": {
    "deletable": false,
    "nbgrader": {
     "cell_type": "markdown",
     "checksum": "0838ca91f05b637c0b531f4e2f14703d",
     "grade": true,
     "grade_id": "cell-d5c991ee6c16e792",
     "locked": false,
     "points": 0.5,
     "schema_version": 3,
     "solution": true,
     "task": false
    }
   },
   "source": [
    "__Student Answer: the number of lyrics of the most albums are around 1000, but some albums like Taylor Swift, that only has half size of lines comparing to most frequent albumn, has relative small number of lyrics. The data is not enough balanced for album classification."
   ]
  },
  {
   "cell_type": "markdown",
   "id": "704a50ad-79cd-44a0-adea-4c22f5a145e8",
   "metadata": {
    "deletable": false,
    "editable": false,
    "nbgrader": {
     "cell_type": "markdown",
     "checksum": "58d7fd1d2bf59e7bd8556aa4926d0db4",
     "grade": false,
     "grade_id": "cell-7e70930f57bc2137",
     "locked": true,
     "schema_version": 3,
     "solution": false,
     "task": false
    }
   },
   "source": [
    "### d)\n",
    "In the following, we want to remove duplicate lyrics, as a song may contain a lyric more than once. Removing duplicates improves the interpretability of the further analysis and reduces an overfitting of the classification task on the duplicated lyrics. \n",
    "\n",
    "i. Therefore, as a first step, we remove all duplicate lyrics and keep only a single instance per duplicate lyric on each album. The obtained dataset has to be named `swift_df_proc`."
   ]
  },
  {
   "cell_type": "code",
   "execution_count": 9,
   "id": "9fb347c2-a30a-4260-9fda-4b740760cc7a",
   "metadata": {
    "ExecuteTime": {
     "end_time": "2024-01-28T00:59:00.785930700Z",
     "start_time": "2024-01-28T00:59:00.648499Z"
    },
    "deletable": false,
    "nbgrader": {
     "cell_type": "code",
     "checksum": "76d4f5d22e3655cbd2f3dc45e691654b",
     "grade": false,
     "grade_id": "cell-081438fb30f61c00",
     "locked": false,
     "schema_version": 3,
     "solution": true,
     "task": false
    }
   },
   "outputs": [
    {
     "data": {
      "image/png": "[encoded data removed]",
      "text/plain": [
       "<Figure size 432x288 with 1 Axes>"
      ]
     },
     "metadata": {
      "needs_background": "light"
     },
     "output_type": "display_data"
    }
   ],
   "source": [
    "# Dropping all duplicates of a lyric on an album\n",
    "swift_df_proc = swift_df.drop_duplicates();\n",
    "count_per_album = count_lyrics_per_album(swift_df_proc)\n",
    "plot_lyric_count(count_per_album)"
   ]
  },
  {
   "cell_type": "code",
   "execution_count": null,
   "id": "7c8067eb-25c5-49f0-b453-54a32ca7285c",
   "metadata": {
    "ExecuteTime": {
     "end_time": "2024-01-28T00:59:00.785930700Z",
     "start_time": "2024-01-28T00:59:00.762195200Z"
    },
    "deletable": false,
    "editable": false,
    "nbgrader": {
     "cell_type": "code",
     "checksum": "1bad96bb85bd06dd028e286345128b78",
     "grade": true,
     "grade_id": "cell-2a1f3798c1a99aae",
     "locked": true,
     "points": 0.5,
     "schema_version": 3,
     "solution": false,
     "task": false
    }
   },
   "outputs": [],
   "source": []
  },
  {
   "cell_type": "markdown",
   "id": "4d802f45-48cb-42e5-98fc-90403d64b85d",
   "metadata": {
    "deletable": false,
    "editable": false,
    "nbgrader": {
     "cell_type": "markdown",
     "checksum": "28fc4921eafae57b336db1339aed29c3",
     "grade": false,
     "grade_id": "cell-ed8a25ffaa9b22e9",
     "locked": true,
     "schema_version": 3,
     "solution": false,
     "task": false
    }
   },
   "source": [
    "ii. Do lyrics occur in several albums? If this is the case, remove them entirely as such a lyric is not suitable for our further questions. If this is not the case, give the code that shows so. Remember also to give a clear answer below. "
   ]
  },
  {
   "cell_type": "markdown",
   "id": "800aa956-f9c2-4b54-8a68-0707b198bb55",
   "metadata": {
    "deletable": false,
    "nbgrader": {
     "cell_type": "markdown",
     "checksum": "ba4f5a291a8aa04a12167e9673aa0366",
     "grade": true,
     "grade_id": "cell-164c891ecf7548d0",
     "locked": false,
     "points": 0.5,
     "schema_version": 3,
     "solution": true,
     "task": false
    }
   },
   "source": [
    "__Student Answer:__ As we can see the lists above, some lines gets deleted after removing the duplicates. So some lyrics do occur in several albums."
   ]
  },
  {
   "cell_type": "code",
   "execution_count": 10,
   "id": "674336cd-9721-42d4-a614-525fb4cd9c79",
   "metadata": {
    "ExecuteTime": {
     "end_time": "2024-01-28T00:59:00.832774200Z",
     "start_time": "2024-01-28T00:59:00.765188300Z"
    },
    "collapsed": false,
    "jupyter": {
     "outputs_hidden": false
    }
   },
   "outputs": [
    {
     "data": {
      "text/plain": [
       "album\n",
       "1989 Deluxe                  580\n",
       "Fearless Taylor’s Version    825\n",
       "Lover                        632\n",
       "Red Deluxe Edition           665\n",
       "Speak Now Deluxe             681\n",
       "Taylor Swift                 402\n",
       "evermore deluxe version      632\n",
       "folklore deluxe version      544\n",
       "reputation                   598\n",
       "Name: lyric, dtype: int64"
      ]
     },
     "metadata": {},
     "output_type": "display_data"
    },
    {
     "data": {
      "text/plain": [
       "album\n",
       "1989 Deluxe                  574\n",
       "Fearless Taylor’s Version    818\n",
       "Lover                        629\n",
       "Red Deluxe Edition           660\n",
       "Speak Now Deluxe             678\n",
       "Taylor Swift                 399\n",
       "evermore deluxe version      629\n",
       "folklore deluxe version      542\n",
       "reputation                   597\n",
       "Name: lyric, dtype: int64"
      ]
     },
     "metadata": {},
     "output_type": "display_data"
    }
   ],
   "source": [
    "count_per_album = count_lyrics_per_album(swift_df_proc)\n",
    "display(count_per_album)\n",
    "swift_df_proc = swift_df_proc.drop_duplicates(subset=['lyric'], keep=False)\n",
    "count_per_album = count_lyrics_per_album(swift_df_proc)\n",
    "display(count_per_album)\n"
   ]
  },
  {
   "cell_type": "code",
   "execution_count": null,
   "id": "bf4f2b3a-90e5-4397-bd48-363978c3355c",
   "metadata": {
    "ExecuteTime": {
     "end_time": "2024-01-28T00:59:00.835763900Z",
     "start_time": "2024-01-28T00:59:00.776155900Z"
    },
    "deletable": false,
    "editable": false,
    "nbgrader": {
     "cell_type": "code",
     "checksum": "badd4d86dc0a5903a0c296c291203947",
     "grade": true,
     "grade_id": "cell-bc6dc589a24f5940",
     "locked": true,
     "points": 1,
     "schema_version": 3,
     "solution": false,
     "task": false
    }
   },
   "outputs": [],
   "source": []
  },
  {
   "cell_type": "code",
   "execution_count": 11,
   "id": "fe74195a-9ce2-491e-bf56-30dca6f2b85a",
   "metadata": {
    "ExecuteTime": {
     "end_time": "2024-01-28T00:59:00.964337200Z",
     "start_time": "2024-01-28T00:59:00.777957900Z"
    },
    "deletable": false,
    "editable": false,
    "nbgrader": {
     "cell_type": "code",
     "checksum": "6ea6c90728f5a29e9e48becf3703f500",
     "grade": false,
     "grade_id": "cell-87a8b88eea966d3c",
     "locked": true,
     "schema_version": 3,
     "solution": false,
     "task": false
    }
   },
   "outputs": [
    {
     "data": {
      "text/plain": [
       "album\n",
       "1989 Deluxe                  574\n",
       "Fearless Taylor’s Version    818\n",
       "Lover                        629\n",
       "Red Deluxe Edition           660\n",
       "Speak Now Deluxe             678\n",
       "Taylor Swift                 399\n",
       "evermore deluxe version      629\n",
       "folklore deluxe version      542\n",
       "reputation                   597\n",
       "Name: lyric, dtype: int64"
      ]
     },
     "execution_count": 11,
     "metadata": {},
     "output_type": "execute_result"
    },
    {
     "data": {
      "image/png": "[encoded data removed]",
      "text/plain": [
       "<Figure size 432x288 with 1 Axes>"
      ]
     },
     "metadata": {
      "needs_background": "light"
     },
     "output_type": "display_data"
    }
   ],
   "source": [
    "plot_lyric_count(count_lyrics_per_album(swift_df_proc))\n",
    "count_lyrics_per_album(swift_df_proc)"
   ]
  },
  {
   "cell_type": "markdown",
   "id": "3252aa3e-ffe5-4016-a861-a1bfef708d6d",
   "metadata": {
    "deletable": false,
    "editable": false,
    "nbgrader": {
     "cell_type": "markdown",
     "checksum": "5a55083b758c06364cd1cb169261cd61",
     "grade": false,
     "grade_id": "cell-abd64a70e8132966",
     "locked": true,
     "schema_version": 3,
     "solution": false,
     "task": false
    }
   },
   "source": [
    "### e)\n",
    "The following tasks are more related to the preprocessing that has to be applied for the Text Mining context. First of all, we have to create a corpus. The obtained corpus should be named `corpus`. Make sure that each document in the corpus corresponds to exactly one lyric in `swift_df_proc`. "
   ]
  },
  {
   "cell_type": "code",
   "execution_count": 12,
   "id": "88ad9fad-7b6b-4d65-9bd4-926dff770f7c",
   "metadata": {
    "ExecuteTime": {
     "end_time": "2024-01-28T00:59:00.964337200Z",
     "start_time": "2024-01-28T00:59:00.882732100Z"
    },
    "deletable": false,
    "nbgrader": {
     "cell_type": "code",
     "checksum": "f4363f9f25282091bb4cb56b18906e79",
     "grade": true,
     "grade_id": "cell-d9b7f136d978368c",
     "locked": false,
     "points": 0.5,
     "schema_version": 3,
     "solution": true,
     "task": false
    }
   },
   "outputs": [],
   "source": [
    "# Creating the corpus\n",
    "corpus = swift_df_proc['lyric'].astype(str).values.tolist()"
   ]
  },
  {
   "cell_type": "markdown",
   "id": "52199265-b547-4197-8623-a6e1c8503196",
   "metadata": {
    "deletable": false,
    "editable": false,
    "nbgrader": {
     "cell_type": "markdown",
     "checksum": "f06958a450aecdc5e108be5d4ca6ab23",
     "grade": false,
     "grade_id": "cell-fcda43d7485c7cac",
     "locked": true,
     "schema_version": 3,
     "solution": false,
     "task": false
    }
   },
   "source": [
    "### f)\n",
    "Use the skeleton of the function `preprocessor_func` below to create a function that applies tokenization, stopword removal and lemmatization to an input string. The remaining tokens (after stopword removal and lemmatization) should be joined using a whitespace (' ').\n",
    "\n",
    "_Note: To keep the complexity low, we do not expect you to use POS tagging before lemmatizing. You can apply lemmatization only for the nouns. This is covered by using a lemmatizer without further arguments._"
   ]
  },
  {
   "cell_type": "code",
   "execution_count": 13,
   "id": "5b6222e4-3e38-4567-a1e1-3f99ed48ada0",
   "metadata": {
    "ExecuteTime": {
     "end_time": "2024-01-28T00:59:00.965334Z",
     "start_time": "2024-01-28T00:59:00.885474300Z"
    },
    "deletable": false,
    "nbgrader": {
     "cell_type": "code",
     "checksum": "31b2a41f36d158ea9349d00fdd0fe841",
     "grade": true,
     "grade_id": "cell-0285aeb5ccf544a4",
     "locked": false,
     "points": 1,
     "schema_version": 3,
     "solution": true,
     "task": false
    }
   },
   "outputs": [],
   "source": [
    "def preprocessor_func(text: str) -> str:\n",
    "    \"\"\"\n",
    "    Preprocesses a string using tokenization, stopword removal and lemmatization.\n",
    "    :param text: A string to be preprocessed.\n",
    "    :return: A joined string resulting from tokenization, stopword removal and lemmatization of an input string.\n",
    "    \"\"\"\n",
    "    str_list = reg_tokenizer.tokenize(text)\n",
    "    str_list = [ x.lower() for x in str_list if x.lower() not in stopword_list ]\n",
    "    lemmatized = [wordnet_lemmatizer.lemmatize(word) for word in str_list]\n",
    "        \n",
    "    \n",
    "    return ' '.join(lemmatized)\n",
    "    "
   ]
  },
  {
   "cell_type": "markdown",
   "id": "84bf80fa-ecbf-4d38-8f08-2a728fc15e07",
   "metadata": {
    "deletable": false,
    "editable": false,
    "nbgrader": {
     "cell_type": "markdown",
     "checksum": "fd62af3ec279d71fe41a6cb2c8b30683",
     "grade": false,
     "grade_id": "cell-3441db3ab6720ce4",
     "locked": true,
     "schema_version": 3,
     "solution": false,
     "task": false
    }
   },
   "source": [
    "### g)\n",
    "Now, create a preprocessed corpus `corpus_proc` by applying the preprocessing function to your corpus. For some tasks, we have to use the preprocessed corpus, and for some, the original corpus. This is indicated for each task."
   ]
  },
  {
   "cell_type": "code",
   "execution_count": 14,
   "id": "75a4249d-6bcb-4277-b4d8-377250e11f77",
   "metadata": {
    "ExecuteTime": {
     "end_time": "2024-01-28T00:59:01.663727300Z",
     "start_time": "2024-01-28T00:59:00.893575Z"
    },
    "deletable": false,
    "nbgrader": {
     "cell_type": "code",
     "checksum": "f9279503c9feb5fdc9d0a296492c6264",
     "grade": true,
     "grade_id": "cell-ac0bcb85911e4d04",
     "locked": false,
     "points": 0.5,
     "schema_version": 3,
     "solution": true,
     "task": false
    }
   },
   "outputs": [],
   "source": [
    "# Corpus preprocessing\n",
    "corpus_proc = list(map(preprocessor_func,corpus))"
   ]
  },
  {
   "cell_type": "markdown",
   "id": "c6f71344-dc17-4457-a0fa-85d916769c11",
   "metadata": {
    "deletable": false,
    "editable": false,
    "nbgrader": {
     "cell_type": "markdown",
     "checksum": "f624f7c17b98de9258833f86ad3da9ed",
     "grade": false,
     "grade_id": "cell-049bd0a6aba58dbc",
     "locked": true,
     "schema_version": 3,
     "solution": false,
     "task": false
    }
   },
   "source": [
    "### h)\n",
    "In this task, we create all preprocessed data for all remaining tasks within the Text Mining question exercise.\n",
    "For the later application of the set of words, we need to split the corpus.\n",
    "First, we need to split our input data into a train and test set according to the Pareto rule (80% training set size and 20% test set size).\n",
    "Therefore, split the dataframe `swift_df_proc` into a training and test set using the variable identifiers `df_train`, `df_test`, `y_train`, and `y_test`.\n",
    "Further, make sure that distribution based on the \"album\" value is preserved."
   ]
  },
  {
   "cell_type": "code",
   "execution_count": 15,
   "id": "119013af-d8dd-4085-ac77-ee23178b6366",
   "metadata": {
    "ExecuteTime": {
     "end_time": "2024-01-28T00:59:01.671471300Z",
     "start_time": "2024-01-28T00:59:01.664724200Z"
    },
    "deletable": false,
    "nbgrader": {
     "cell_type": "code",
     "checksum": "ff8f5e447720ab016fde7de2da4039fd",
     "grade": true,
     "grade_id": "cell-bf9906ca7bc81fc7",
     "locked": false,
     "points": 0.5,
     "schema_version": 3,
     "solution": true,
     "task": false
    }
   },
   "outputs": [],
   "source": [
    "df_train, df_test, y_train, y_test = train_test_split(\n",
    "    swift_df_proc['lyric'],swift_df_proc['album'], test_size=0.2, \n",
    ")"
   ]
  },
  {
   "cell_type": "markdown",
   "id": "74b84cd2-5f2c-4fc9-810b-611437baa0db",
   "metadata": {
    "deletable": false,
    "editable": false,
    "nbgrader": {
     "cell_type": "markdown",
     "checksum": "b9ea3eda0c4223a80409cbcb019c38d6",
     "grade": false,
     "grade_id": "cell-79f4d05b015e7fdc",
     "locked": true,
     "schema_version": 3,
     "solution": false,
     "task": false
    }
   },
   "source": [
    "### i)\n",
    "Lastly, we create two further corpora, `corpus_train` and `corpus_test`, using the split data and the identical approach that is used before."
   ]
  },
  {
   "cell_type": "code",
   "execution_count": 16,
   "id": "6a9d72ce-96c5-4914-8c55-cad75bf6a378",
   "metadata": {
    "ExecuteTime": {
     "end_time": "2024-01-28T00:59:01.673396700Z",
     "start_time": "2024-01-28T00:59:01.668627500Z"
    },
    "deletable": false,
    "nbgrader": {
     "cell_type": "code",
     "checksum": "e6e85c1d4037daad61701b5549ca243f",
     "grade": true,
     "grade_id": "cell-f95f2e1ee0704677",
     "locked": false,
     "points": 0.5,
     "schema_version": 3,
     "solution": true,
     "task": false
    }
   },
   "outputs": [],
   "source": [
    "corpus_train = df_train.astype(str).values.tolist()\n",
    "corpus_test = df_test.astype(str).values.tolist()"
   ]
  },
  {
   "cell_type": "markdown",
   "id": "aa7975ec-28ee-49cb-99c6-b8507cd82433",
   "metadata": {
    "deletable": false,
    "editable": false,
    "nbgrader": {
     "cell_type": "markdown",
     "checksum": "6894f5b05be1cd8109231b07a53cba31",
     "grade": false,
     "grade_id": "cell-45c3d55087d2210e",
     "locked": true,
     "schema_version": 3,
     "solution": false,
     "task": false
    }
   },
   "source": [
    "## Set of Words (6.5 Pts)"
   ]
  },
  {
   "cell_type": "markdown",
   "id": "7a7494a7-a797-4596-9fe7-484c083dd9a2",
   "metadata": {
    "deletable": false,
    "editable": false,
    "nbgrader": {
     "cell_type": "markdown",
     "checksum": "31db04f8b803d54bc9f04102a1bddc56",
     "grade": false,
     "grade_id": "cell-6996ea2f614f429f",
     "locked": true,
     "schema_version": 3,
     "solution": false,
     "task": false
    }
   },
   "source": [
    "In this subtask, we use the set of words technique to distinguish and recognize different lyrics based on which album they belong to. Set of words encodes the documents by indicating for each word in our vocabulary whether the word occurs in the sentence or not."
   ]
  },
  {
   "cell_type": "markdown",
   "id": "1b542a3c-bf20-42b2-973c-f0753215454c",
   "metadata": {
    "deletable": false,
    "editable": false,
    "nbgrader": {
     "cell_type": "markdown",
     "checksum": "251a1bb5b6197fe5ce956f3edf776d77",
     "grade": false,
     "grade_id": "cell-dc89d813750c9d3b",
     "locked": true,
     "schema_version": 3,
     "solution": false,
     "task": false
    }
   },
   "source": [
    "### j)\n",
    "Create a set of words encoding for the whole corpus. Use the previously defined preprocessor function `preprocessor_func` for our corpus `corpus`. "
   ]
  },
  {
   "cell_type": "code",
   "execution_count": 17,
   "id": "fbf82eea-9a3f-4447-9ea1-ce80aa4d859d",
   "metadata": {
    "ExecuteTime": {
     "end_time": "2024-01-28T03:05:31.452020800Z",
     "start_time": "2024-01-28T03:05:31.363468100Z"
    },
    "deletable": false,
    "nbgrader": {
     "cell_type": "code",
     "checksum": "390bf1ff246b4bd8f751345e58f8f941",
     "grade": true,
     "grade_id": "cell-6c6783a12fc93671",
     "locked": false,
     "points": 0.5,
     "schema_version": 3,
     "solution": true,
     "task": false
    }
   },
   "outputs": [
    {
     "data": {
      "text/plain": [
       "array(['16', '16th', '17', ..., 'york', 'young', 'younger'], dtype=object)"
      ]
     },
     "metadata": {},
     "output_type": "display_data"
    }
   ],
   "source": [
    "# Creating a set of words using the propressor function and the corpus\n",
    "\n",
    "# Setting up the CountVectorizer with preprocessing\n",
    "sow = CountVectorizer(preprocessor=preprocessor_func)\n",
    "\n",
    "# Fitting the CountVectorizer to the corpus\n",
    "sow.fit(corpus)\n",
    "set_words = sow.get_feature_names_out()\n",
    "display(set_words)"
   ]
  },
  {
   "cell_type": "markdown",
   "id": "371b4239-6704-435a-8e2e-d304dd50ea54",
   "metadata": {
    "deletable": false,
    "editable": false,
    "nbgrader": {
     "cell_type": "markdown",
     "checksum": "a8b729efbb4dde4ca80183d275bdcfdd",
     "grade": false,
     "grade_id": "cell-214105d7e290a6f0",
     "locked": true,
     "schema_version": 3,
     "solution": false,
     "task": false
    }
   },
   "source": [
    "### k)\n",
    "In the following, we want to have a first look at how the set of words classification works. Therefore, we apply the set of words to a line in the `swift_df`. Use the `apply_sow_to_line_by_index` function that is given an index of a lyric and that returns the original line, its preprocessed form, and its encoding resulting from the set of words implementation.\n",
    "Comment below on what information the set of words representation contains."
   ]
  },
  {
   "cell_type": "code",
   "execution_count": 18,
   "id": "41180a1c-5538-42e9-9ed9-9fc6c208fe7f",
   "metadata": {
    "ExecuteTime": {
     "end_time": "2024-01-28T00:59:01.734481Z",
     "start_time": "2024-01-28T00:59:01.725133400Z"
    },
    "deletable": false,
    "nbgrader": {
     "cell_type": "code",
     "checksum": "0e555d6ebc795c991b0f01278bb3b16a",
     "grade": false,
     "grade_id": "cell-86967ce48efc320b",
     "locked": false,
     "schema_version": 3,
     "solution": true,
     "task": false
    }
   },
   "outputs": [],
   "source": [
    "def apply_sow_to_lyric_by_index(index: int) -> (str, str, _):\n",
    "    \"\"\" \n",
    "    Applies set of words to a lyric in the swift_df.\n",
    "    :param index: The index of the chosen lyric entry.\n",
    "    :return: The function returns the chosen lyric, it preprocessed form and the set of words representation. \n",
    "    \"\"\"\n",
    "    prepro_lyric = preprocessor_func(swift_df.lyric[index]).split(\" \")\n",
    "    # to lowercase\n",
    "    prepro_lyric = [xx.lower() for xx in prepro_lyric]\n",
    "    return swift_df.lyric[index], prepro_lyric, [ prepro_lyric.count(word) for word in set_words ]"
   ]
  },
  {
   "cell_type": "code",
   "execution_count": 19,
   "id": "05d01e95-2a45-484c-a59b-4b9f6bafd0ca",
   "metadata": {
    "ExecuteTime": {
     "end_time": "2024-01-28T00:59:01.734481Z",
     "start_time": "2024-01-28T00:59:01.728574300Z"
    },
    "deletable": false,
    "nbgrader": {
     "cell_type": "code",
     "checksum": "5e4ae45f00eb47497f78956edaa9db40",
     "grade": false,
     "grade_id": "cell-1141cb919a989210",
     "locked": false,
     "schema_version": 3,
     "solution": true,
     "task": false
    }
   },
   "outputs": [],
   "source": [
    "index = 1000"
   ]
  },
  {
   "cell_type": "code",
   "execution_count": 20,
   "id": "2cdef059-c51a-44b0-aa82-094597913089",
   "metadata": {
    "ExecuteTime": {
     "end_time": "2024-01-28T00:59:01.737967700Z",
     "start_time": "2024-01-28T00:59:01.732487500Z"
    },
    "deletable": false,
    "editable": false,
    "nbgrader": {
     "cell_type": "code",
     "checksum": "3cf35baca1700074f34c343123a206f7",
     "grade": false,
     "grade_id": "cell-4066c15907913eab",
     "locked": true,
     "schema_version": 3,
     "solution": false,
     "task": false
    }
   },
   "outputs": [
    {
     "name": "stdout",
     "output_type": "stream",
     "text": [
      "Original line:      You had me crawling for you, honey\n",
      "Preprocessed line:  ['crawling', 'honey']\n",
      "SoW encoding:\n",
      " [0, 0, 0, 0, 0, 0, 0, 0, 0, 0, 0, 0, 0, 0, 0, 0, 0, 0, 0, 0, 0, 0, 0, 0, 0, 0, 0, 0, 0, 0, 0, 0, 0, 0, 0, 0, 0, 0, 0, 0, 0, 0, 0, 0, 0, 0, 0, 0, 0, 0, 0, 0, 0, 0, 0, 0, 0, 0, 0, 0, 0, 0, 0, 0, 0, 0, 0, 0, 0, 0, 0, 0, 0, 0, 0, 0, 0, 0, 0, 0, 0, 0, 0, 0, 0, 0, 0, 0, 0, 0, 0, 0, 0, 0, 0, 0, 0, 0, 0, 0, 0, 0, 0, 0, 0, 0, 0, 0, 0, 0, 0, 0, 0, 0, 0, 0, 0, 0, 0, 0, 0, 0, 0, 0, 0, 0, 0, 0, 0, 0, 0, 0, 0, 0, 0, 0, 0, 0, 0, 0, 0, 0, 0, 0, 0, 0, 0, 0, 0, 0, 0, 0, 0, 0, 0, 0, 0, 0, 0, 0, 0, 0, 0, 0, 0, 0, 0, 0, 0, 0, 0, 0, 0, 0, 0, 0, 0, 0, 0, 0, 0, 0, 0, 0, 0, 0, 0, 0, 0, 0, 0, 0, 0, 0, 0, 0, 0, 0, 0, 0, 0, 0, 0, 0, 0, 0, 0, 0, 0, 0, 0, 0, 0, 0, 0, 0, 0, 0, 0, 0, 0, 0, 0, 0, 0, 0, 0, 0, 0, 0, 0, 0, 0, 0, 0, 0, 0, 0, 0, 0, 0, 0, 0, 0, 0, 0, 0, 0, 0, 0, 0, 0, 0, 0, 0, 0, 0, 0, 0, 0, 0, 0, 0, 0, 0, 0, 0, 0, 0, 0, 0, 0, 0, 0, 0, 0, 0, 0, 0, 0, 0, 0, 0, 0, 0, 0, 0, 0, 0, 0, 0, 0, 0, 0, 0, 0, 0, 0, 0, 0, 0, 0, 0, 0, 0, 0, 0, 0, 0, 0, 0, 0, 0, 0, 0, 0, 0, 0, 0, 0, 0, 0, 0, 0, 0, 0, 0, 0, 0, 0, 0, 0, 0, 0, 0, 0, 0, 0, 0, 0, 0, 0, 0, 0, 0, 0, 0, 0, 0, 0, 0, 0, 0, 0, 0, 0, 0, 0, 0, 0, 0, 0, 0, 0, 0, 0, 0, 0, 0, 0, 0, 0, 0, 0, 0, 0, 0, 0, 0, 0, 0, 0, 0, 0, 0, 0, 0, 0, 0, 0, 0, 0, 0, 0, 0, 0, 0, 0, 0, 0, 0, 0, 0, 0, 0, 0, 0, 0, 0, 0, 0, 0, 0, 0, 0, 0, 0, 0, 0, 0, 0, 0, 0, 0, 0, 0, 0, 0, 0, 0, 0, 0, 0, 0, 0, 0, 0, 0, 0, 0, 0, 0, 0, 0, 0, 0, 0, 0, 0, 0, 0, 0, 0, 0, 0, 0, 0, 0, 0, 0, 0, 0, 0, 0, 0, 0, 0, 0, 0, 0, 0, 0, 0, 0, 0, 0, 0, 0, 0, 0, 0, 0, 0, 0, 0, 0, 0, 0, 0, 0, 0, 0, 0, 0, 0, 0, 0, 0, 0, 0, 0, 0, 0, 0, 0, 0, 0, 0, 0, 0, 0, 0, 0, 0, 0, 0, 0, 0, 0, 0, 0, 0, 0, 0, 0, 0, 0, 0, 0, 0, 0, 0, 0, 0, 0, 0, 0, 0, 0, 0, 0, 0, 0, 0, 1, 0, 0, 0, 0, 0, 0, 0, 0, 0, 0, 0, 0, 0, 0, 0, 0, 0, 0, 0, 0, 0, 0, 0, 0, 0, 0, 0, 0, 0, 0, 0, 0, 0, 0, 0, 0, 0, 0, 0, 0, 0, 0, 0, 0, 0, 0, 0, 0, 0, 0, 0, 0, 0, 0, 0, 0, 0, 0, 0, 0, 0, 0, 0, 0, 0, 0, 0, 0, 0, 0, 0, 0, 0, 0, 0, 0, 0, 0, 0, 0, 0, 0, 0, 0, 0, 0, 0, 0, 0, 0, 0, 0, 0, 0, 0, 0, 0, 0, 0, 0, 0, 0, 0, 0, 0, 0, 0, 0, 0, 0, 0, 0, 0, 0, 0, 0, 0, 0, 0, 0, 0, 0, 0, 0, 0, 0, 0, 0, 0, 0, 0, 0, 0, 0, 0, 0, 0, 0, 0, 0, 0, 0, 0, 0, 0, 0, 0, 0, 0, 0, 0, 0, 0, 0, 0, 0, 0, 0, 0, 0, 0, 0, 0, 0, 0, 0, 0, 0, 0, 0, 0, 0, 0, 0, 0, 0, 0, 0, 0, 0, 0, 0, 0, 0, 0, 0, 0, 0, 0, 0, 0, 0, 0, 0, 0, 0, 0, 0, 0, 0, 0, 0, 0, 0, 0, 0, 0, 0, 0, 0, 0, 0, 0, 0, 0, 0, 0, 0, 0, 0, 0, 0, 0, 0, 0, 0, 0, 0, 0, 0, 0, 0, 0, 0, 0, 0, 0, 0, 0, 0, 0, 0, 0, 0, 0, 0, 0, 0, 0, 0, 0, 0, 0, 0, 0, 0, 0, 0, 0, 0, 0, 0, 0, 0, 0, 0, 0, 0, 0, 0, 0, 0, 0, 0, 0, 0, 0, 0, 0, 0, 0, 0, 0, 0, 0, 0, 0, 0, 0, 0, 0, 0, 0, 0, 0, 0, 0, 0, 0, 0, 0, 0, 0, 0, 0, 0, 0, 0, 0, 0, 0, 0, 0, 0, 0, 0, 0, 0, 0, 0, 0, 0, 0, 0, 0, 0, 0, 0, 0, 0, 0, 0, 0, 0, 0, 0, 0, 0, 0, 0, 0, 0, 0, 0, 0, 0, 0, 0, 0, 0, 0, 0, 0, 0, 0, 0, 0, 0, 0, 0, 0, 0, 0, 0, 0, 0, 0, 0, 0, 0, 0, 0, 0, 0, 0, 0, 0, 0, 0, 0, 0, 0, 0, 0, 0, 0, 0, 0, 0, 0, 0, 0, 0, 0, 0, 0, 0, 0, 0, 0, 0, 0, 0, 0, 0, 0, 0, 0, 0, 0, 0, 0, 0, 0, 0, 0, 0, 0, 0, 0, 0, 0, 0, 0, 0, 0, 0, 0, 0, 0, 0, 0, 0, 0, 0, 0, 0, 0, 0, 0, 0, 0, 0, 0, 0, 0, 0, 0, 0, 0, 0, 0, 0, 0, 0, 0, 0, 0, 0, 0, 0, 0, 0, 0, 0, 0, 0, 0, 0, 0, 0, 0, 0, 0, 0, 0, 0, 0, 0, 0, 0, 0, 0, 0, 0, 0, 0, 0, 0, 0, 0, 0, 0, 0, 0, 0, 0, 0, 0, 0, 0, 0, 0, 0, 0, 0, 0, 0, 0, 0, 0, 0, 0, 0, 0, 0, 0, 0, 0, 0, 0, 0, 0, 0, 0, 0, 0, 0, 0, 0, 0, 0, 0, 0, 0, 0, 0, 0, 0, 0, 0, 0, 0, 0, 0, 0, 0, 0, 0, 0, 0, 0, 0, 0, 0, 0, 0, 0, 0, 0, 0, 0, 0, 0, 0, 0, 0, 0, 0, 0, 0, 0, 0, 0, 0, 0, 0, 0, 0, 0, 0, 0, 0, 0, 0, 0, 0, 0, 0, 0, 0, 0, 0, 0, 0, 0, 0, 0, 0, 0, 0, 0, 0, 0, 0, 0, 0, 0, 0, 0, 0, 0, 0, 0, 0, 0, 0, 0, 0, 0, 0, 0, 0, 0, 0, 0, 0, 0, 0, 0, 0, 0, 0, 0, 0, 0, 0, 0, 0, 0, 0, 0, 0, 0, 0, 0, 0, 0, 0, 0, 0, 0, 0, 0, 0, 0, 0, 0, 0, 0, 0, 0, 0, 1, 0, 0, 0, 0, 0, 0, 0, 0, 0, 0, 0, 0, 0, 0, 0, 0, 0, 0, 0, 0, 0, 0, 0, 0, 0, 0, 0, 0, 0, 0, 0, 0, 0, 0, 0, 0, 0, 0, 0, 0, 0, 0, 0, 0, 0, 0, 0, 0, 0, 0, 0, 0, 0, 0, 0, 0, 0, 0, 0, 0, 0, 0, 0, 0, 0, 0, 0, 0, 0, 0, 0, 0, 0, 0, 0, 0, 0, 0, 0, 0, 0, 0, 0, 0, 0, 0, 0, 0, 0, 0, 0, 0, 0, 0, 0, 0, 0, 0, 0, 0, 0, 0, 0, 0, 0, 0, 0, 0, 0, 0, 0, 0, 0, 0, 0, 0, 0, 0, 0, 0, 0, 0, 0, 0, 0, 0, 0, 0, 0, 0, 0, 0, 0, 0, 0, 0, 0, 0, 0, 0, 0, 0, 0, 0, 0, 0, 0, 0, 0, 0, 0, 0, 0, 0, 0, 0, 0, 0, 0, 0, 0, 0, 0, 0, 0, 0, 0, 0, 0, 0, 0, 0, 0, 0, 0, 0, 0, 0, 0, 0, 0, 0, 0, 0, 0, 0, 0, 0, 0, 0, 0, 0, 0, 0, 0, 0, 0, 0, 0, 0, 0, 0, 0, 0, 0, 0, 0, 0, 0, 0, 0, 0, 0, 0, 0, 0, 0, 0, 0, 0, 0, 0, 0, 0, 0, 0, 0, 0, 0, 0, 0, 0, 0, 0, 0, 0, 0, 0, 0, 0, 0, 0, 0, 0, 0, 0, 0, 0, 0, 0, 0, 0, 0, 0, 0, 0, 0, 0, 0, 0, 0, 0, 0, 0, 0, 0, 0, 0, 0, 0, 0, 0, 0, 0, 0, 0, 0, 0, 0, 0, 0, 0, 0, 0, 0, 0, 0, 0, 0, 0, 0, 0, 0, 0, 0, 0, 0, 0, 0, 0, 0, 0, 0, 0, 0, 0, 0, 0, 0, 0, 0, 0, 0, 0, 0, 0, 0, 0, 0, 0, 0, 0, 0, 0, 0, 0, 0, 0, 0, 0, 0, 0, 0, 0, 0, 0, 0, 0, 0, 0, 0, 0, 0, 0, 0, 0, 0, 0, 0, 0, 0, 0, 0, 0, 0, 0, 0, 0, 0, 0, 0, 0, 0, 0, 0, 0, 0, 0, 0, 0, 0, 0, 0, 0, 0, 0, 0, 0, 0, 0, 0, 0, 0, 0, 0, 0, 0, 0, 0, 0, 0, 0, 0, 0, 0, 0, 0, 0, 0, 0, 0, 0, 0, 0, 0, 0, 0, 0, 0, 0, 0, 0, 0, 0, 0, 0, 0, 0, 0, 0, 0, 0, 0, 0, 0, 0, 0, 0, 0, 0, 0, 0, 0, 0, 0, 0, 0, 0, 0, 0, 0, 0, 0, 0, 0, 0, 0, 0, 0, 0, 0, 0, 0, 0, 0, 0, 0, 0, 0, 0, 0, 0, 0, 0, 0, 0, 0, 0, 0, 0, 0, 0, 0, 0, 0, 0, 0, 0, 0, 0, 0, 0, 0, 0, 0, 0, 0, 0, 0, 0, 0, 0, 0, 0, 0, 0, 0, 0, 0, 0, 0, 0, 0, 0, 0, 0, 0, 0, 0, 0, 0, 0, 0, 0, 0, 0, 0, 0, 0, 0, 0, 0, 0, 0, 0, 0, 0, 0, 0, 0, 0, 0, 0, 0, 0, 0, 0, 0, 0, 0, 0, 0, 0, 0, 0, 0, 0, 0, 0, 0, 0, 0, 0, 0, 0, 0, 0, 0, 0, 0, 0, 0, 0, 0, 0, 0, 0, 0, 0, 0, 0, 0, 0, 0, 0, 0, 0, 0, 0, 0, 0, 0, 0, 0, 0, 0, 0, 0, 0, 0, 0, 0, 0, 0, 0, 0, 0, 0, 0, 0, 0, 0, 0, 0, 0, 0, 0, 0, 0, 0, 0, 0, 0, 0, 0, 0, 0, 0, 0, 0, 0, 0, 0, 0, 0, 0, 0, 0, 0, 0, 0, 0, 0, 0, 0, 0, 0, 0, 0, 0, 0, 0, 0, 0, 0, 0, 0, 0, 0, 0, 0, 0, 0, 0, 0, 0, 0, 0, 0, 0, 0, 0, 0, 0, 0, 0, 0, 0, 0, 0, 0, 0, 0, 0, 0, 0, 0, 0, 0, 0, 0, 0, 0, 0, 0, 0, 0, 0, 0, 0, 0, 0, 0, 0, 0, 0, 0, 0, 0, 0, 0, 0, 0, 0, 0, 0, 0, 0, 0, 0, 0, 0, 0, 0, 0, 0, 0, 0, 0, 0, 0, 0, 0, 0, 0, 0, 0, 0, 0, 0, 0, 0, 0, 0, 0, 0, 0, 0, 0, 0, 0, 0, 0, 0, 0, 0, 0, 0, 0, 0, 0, 0, 0, 0, 0, 0, 0, 0, 0, 0, 0, 0, 0, 0, 0, 0, 0, 0, 0, 0, 0, 0, 0, 0, 0, 0, 0, 0, 0, 0, 0, 0, 0, 0, 0, 0, 0, 0, 0, 0, 0, 0, 0, 0, 0, 0, 0, 0, 0, 0, 0, 0, 0, 0, 0, 0, 0, 0, 0, 0, 0, 0, 0, 0, 0, 0, 0, 0, 0, 0, 0, 0, 0, 0, 0, 0, 0, 0, 0, 0, 0, 0, 0, 0, 0, 0, 0, 0, 0, 0, 0, 0, 0, 0, 0, 0, 0, 0, 0, 0, 0, 0, 0, 0, 0, 0, 0, 0, 0, 0, 0, 0, 0, 0, 0, 0, 0, 0, 0, 0, 0, 0, 0, 0, 0, 0, 0, 0, 0, 0, 0, 0, 0, 0, 0, 0, 0, 0, 0, 0, 0, 0, 0, 0, 0, 0, 0, 0, 0, 0, 0, 0, 0, 0, 0, 0, 0, 0, 0, 0, 0, 0, 0, 0, 0, 0, 0, 0, 0, 0, 0, 0, 0, 0, 0, 0, 0, 0, 0, 0, 0, 0, 0, 0, 0, 0, 0, 0, 0, 0, 0, 0, 0, 0, 0, 0, 0, 0, 0, 0, 0, 0, 0, 0, 0, 0, 0, 0, 0, 0, 0, 0, 0, 0, 0, 0, 0, 0, 0, 0, 0, 0, 0, 0, 0, 0, 0, 0, 0, 0, 0, 0, 0, 0, 0, 0, 0, 0, 0, 0, 0, 0, 0, 0, 0, 0, 0, 0, 0, 0, 0, 0, 0, 0, 0, 0, 0, 0, 0, 0, 0, 0, 0, 0, 0, 0, 0, 0, 0, 0, 0, 0, 0, 0, 0, 0, 0, 0, 0, 0, 0, 0, 0, 0, 0, 0, 0, 0, 0, 0, 0, 0, 0, 0, 0, 0, 0, 0, 0, 0, 0, 0, 0, 0, 0, 0, 0, 0, 0, 0, 0, 0, 0, 0, 0, 0, 0, 0, 0, 0, 0, 0, 0, 0, 0, 0, 0, 0, 0, 0, 0, 0, 0, 0, 0, 0, 0, 0, 0, 0, 0, 0, 0, 0, 0, 0, 0, 0, 0, 0, 0, 0, 0, 0, 0, 0, 0, 0, 0, 0, 0, 0, 0, 0, 0, 0, 0, 0, 0, 0, 0, 0, 0, 0, 0, 0, 0, 0, 0, 0, 0, 0, 0, 0, 0, 0, 0, 0, 0, 0, 0, 0, 0, 0, 0, 0, 0, 0, 0, 0, 0, 0, 0, 0, 0, 0, 0, 0, 0, 0, 0, 0, 0, 0, 0, 0, 0, 0, 0, 0, 0, 0, 0, 0, 0, 0, 0, 0, 0, 0, 0, 0, 0, 0, 0, 0, 0, 0, 0, 0, 0, 0, 0, 0, 0, 0, 0, 0, 0, 0, 0, 0, 0, 0, 0, 0, 0, 0, 0, 0, 0, 0, 0, 0, 0, 0, 0, 0, 0, 0, 0, 0, 0, 0, 0, 0, 0, 0, 0, 0, 0, 0, 0, 0, 0, 0, 0, 0, 0, 0, 0, 0, 0, 0, 0, 0, 0, 0, 0, 0, 0, 0, 0, 0, 0, 0, 0, 0, 0, 0, 0, 0, 0, 0, 0, 0, 0, 0, 0, 0, 0, 0, 0, 0, 0, 0, 0, 0, 0, 0, 0, 0, 0, 0, 0, 0, 0, 0, 0, 0, 0, 0, 0, 0, 0, 0, 0, 0, 0, 0, 0, 0, 0, 0, 0, 0, 0, 0, 0, 0, 0, 0, 0, 0, 0, 0, 0, 0, 0, 0, 0, 0, 0, 0, 0, 0, 0, 0, 0, 0, 0, 0, 0, 0, 0, 0, 0, 0, 0, 0, 0, 0, 0, 0, 0, 0, 0, 0, 0, 0, 0, 0, 0, 0, 0, 0, 0, 0, 0, 0, 0, 0, 0, 0, 0, 0, 0, 0, 0, 0, 0, 0, 0, 0, 0, 0, 0, 0, 0, 0, 0, 0, 0, 0, 0, 0, 0, 0, 0, 0, 0, 0, 0, 0, 0, 0, 0, 0, 0, 0, 0, 0, 0, 0, 0, 0, 0, 0, 0, 0, 0, 0, 0, 0, 0, 0, 0, 0, 0, 0, 0, 0, 0, 0, 0, 0, 0, 0, 0, 0, 0, 0, 0, 0, 0, 0, 0, 0, 0, 0, 0, 0, 0, 0, 0, 0, 0, 0, 0, 0, 0, 0, 0, 0, 0, 0, 0, 0, 0, 0, 0, 0, 0, 0, 0, 0, 0, 0, 0, 0, 0, 0, 0, 0, 0, 0, 0, 0, 0, 0, 0, 0, 0, 0, 0, 0, 0, 0, 0, 0, 0, 0, 0, 0, 0, 0, 0, 0, 0, 0, 0, 0, 0, 0, 0, 0, 0, 0, 0, 0, 0, 0, 0, 0, 0, 0, 0, 0, 0, 0, 0, 0, 0, 0, 0, 0, 0, 0, 0, 0, 0, 0, 0, 0, 0, 0, 0, 0, 0, 0, 0, 0, 0, 0, 0, 0, 0, 0, 0, 0, 0, 0, 0, 0, 0, 0, 0, 0, 0, 0, 0, 0, 0, 0, 0, 0, 0, 0, 0, 0, 0, 0, 0, 0, 0, 0, 0, 0, 0, 0, 0, 0, 0, 0, 0, 0, 0, 0, 0, 0, 0, 0, 0, 0, 0, 0, 0, 0, 0, 0, 0, 0, 0, 0, 0, 0, 0, 0, 0, 0, 0, 0, 0, 0, 0, 0, 0, 0, 0, 0, 0, 0, 0, 0, 0, 0, 0, 0, 0, 0, 0, 0, 0, 0, 0, 0, 0, 0, 0, 0, 0, 0, 0, 0, 0, 0, 0, 0, 0, 0, 0, 0, 0]\n"
     ]
    }
   ],
   "source": [
    "line, line_p, line_sow = apply_sow_to_lyric_by_index(index)\n",
    "print('Original line:     ', line)\n",
    "print('Preprocessed line: ', line_p)\n",
    "print('SoW encoding:\\n', line_sow)"
   ]
  },
  {
   "cell_type": "markdown",
   "id": "c1376d3c-27e0-4235-ae10-c106b9479c76",
   "metadata": {
    "deletable": false,
    "nbgrader": {
     "cell_type": "markdown",
     "checksum": "86d5b5a33c9cf1129703b10c2b2862a9",
     "grade": true,
     "grade_id": "cell-7be127e646369a3f",
     "locked": false,
     "points": 0.5,
     "schema_version": 3,
     "solution": true,
     "task": false
    }
   },
   "source": [
    "__Student Answer:__ The value in set is the frequency of the corresponding word in the lyric."
   ]
  },
  {
   "cell_type": "markdown",
   "id": "9350c65a-119e-45c2-863e-88141e005e87",
   "metadata": {
    "deletable": false,
    "editable": false,
    "nbgrader": {
     "cell_type": "markdown",
     "checksum": "13735251bdf64f9f3cbcae0781f9962a",
     "grade": false,
     "grade_id": "cell-bbb6843160af58b6",
     "locked": true,
     "schema_version": 3,
     "solution": false,
     "task": false
    }
   },
   "source": [
    "### l)\n",
    "In this subtask, we use a **S**tochastic **G**radient **D**escent classifier to predict the album given a lyric for the corpus. Therefore, the steps to follow are briefly described below:\n",
    " 1. First, we create a set of words encoding for the whole corpus. As we want to evaluate our results later using the test set, restrict yourself in the training to only use the training set `corpus_train`. \n",
    " 2. Train the classifier on the training set with 'album' as the target feature and 'log_loss' as the loss function.\n",
    " 3. Predict the album for each line in the training and test set `corpus_test`.\n",
    " 4. Calculate and show the accuracy for both the training and test set and store them in the variables `accuracy_train` and `accuracy_test`."
   ]
  },
  {
   "cell_type": "code",
   "execution_count": 21,
   "id": "04e9fa24-c247-47dc-b72f-f3c9e2c8c30e",
   "metadata": {
    "ExecuteTime": {
     "end_time": "2024-01-28T00:59:02.360236200Z",
     "start_time": "2024-01-28T00:59:01.736971200Z"
    },
    "deletable": false,
    "nbgrader": {
     "cell_type": "code",
     "checksum": "53d9bd43d558ad0123bf1049ecd2e7c1",
     "grade": true,
     "grade_id": "cell-b3c5060ceb18d74f",
     "locked": false,
     "points": 0.25,
     "schema_version": 3,
     "solution": true,
     "task": false
    }
   },
   "outputs": [],
   "source": [
    "# Creating the set of words encoding\n",
    "corpus_train_proc_temp = list(map(preprocessor_func,corpus_train))\n",
    "# set_words_train = [apply_sow_to_lyric_by_index(lyric_index)[2] for lyric_index in df_train.index]\n",
    "set_words_train = []\n",
    "for corpus_train_line in corpus_train:\n",
    "    prepro_lyric = preprocessor_func(corpus_train_line).split(\" \")\n",
    "    # to lowercase\n",
    "    prepro_lyric = [xx.lower() for xx in prepro_lyric]\n",
    "    set_words_train.append([ prepro_lyric.count(word) for word in set_words ])"
   ]
  },
  {
   "cell_type": "code",
   "execution_count": 22,
   "id": "46cea26b-dec4-420e-a072-f32f07a0d7fd",
   "metadata": {
    "ExecuteTime": {
     "end_time": "2024-01-28T00:59:05.715703900Z",
     "start_time": "2024-01-28T00:59:02.360236200Z"
    },
    "deletable": false,
    "nbgrader": {
     "cell_type": "code",
     "checksum": "2e306261549a90e052380ebccb7889fd",
     "grade": true,
     "grade_id": "cell-ae9e71cbd2e1ca0d",
     "locked": false,
     "points": 0.25,
     "schema_version": 3,
     "solution": true,
     "task": false
    }
   },
   "outputs": [
    {
     "data": {
      "text/html": [
       "<style>#sk-container-id-1 {\n",
       "  /* Definition of color scheme common for light and dark mode */\n",
       "  --sklearn-color-text: black;\n",
       "  --sklearn-color-line: gray;\n",
       "  /* Definition of color scheme for unfitted estimators */\n",
       "  --sklearn-color-unfitted-level-0: #fff5e6;\n",
       "  --sklearn-color-unfitted-level-1: #f6e4d2;\n",
       "  --sklearn-color-unfitted-level-2: #ffe0b3;\n",
       "  --sklearn-color-unfitted-level-3: chocolate;\n",
       "  /* Definition of color scheme for fitted estimators */\n",
       "  --sklearn-color-fitted-level-0: #f0f8ff;\n",
       "  --sklearn-color-fitted-level-1: #d4ebff;\n",
       "  --sklearn-color-fitted-level-2: #b3dbfd;\n",
       "  --sklearn-color-fitted-level-3: cornflowerblue;\n",
       "\n",
       "  /* Specific color for light theme */\n",
       "  --sklearn-color-text-on-default-background: var(--sg-text-color, var(--theme-code-foreground, var(--jp-content-font-color1, black)));\n",
       "  --sklearn-color-background: var(--sg-background-color, var(--theme-background, var(--jp-layout-color0, white)));\n",
       "  --sklearn-color-border-box: var(--sg-text-color, var(--theme-code-foreground, var(--jp-content-font-color1, black)));\n",
       "  --sklearn-color-icon: #696969;\n",
       "\n",
       "  @media (prefers-color-scheme: dark) {\n",
       "    /* Redefinition of color scheme for dark theme */\n",
       "    --sklearn-color-text-on-default-background: var(--sg-text-color, var(--theme-code-foreground, var(--jp-content-font-color1, white)));\n",
       "    --sklearn-color-background: var(--sg-background-color, var(--theme-background, var(--jp-layout-color0, #111)));\n",
       "    --sklearn-color-border-box: var(--sg-text-color, var(--theme-code-foreground, var(--jp-content-font-color1, white)));\n",
       "    --sklearn-color-icon: #878787;\n",
       "  }\n",
       "}\n",
       "\n",
       "#sk-container-id-1 {\n",
       "  color: var(--sklearn-color-text);\n",
       "}\n",
       "\n",
       "#sk-container-id-1 pre {\n",
       "  padding: 0;\n",
       "}\n",
       "\n",
       "#sk-container-id-1 input.sk-hidden--visually {\n",
       "  border: 0;\n",
       "  clip: rect(1px 1px 1px 1px);\n",
       "  clip: rect(1px, 1px, 1px, 1px);\n",
       "  height: 1px;\n",
       "  margin: -1px;\n",
       "  overflow: hidden;\n",
       "  padding: 0;\n",
       "  position: absolute;\n",
       "  width: 1px;\n",
       "}\n",
       "\n",
       "#sk-container-id-1 div.sk-dashed-wrapped {\n",
       "  border: 1px dashed var(--sklearn-color-line);\n",
       "  margin: 0 0.4em 0.5em 0.4em;\n",
       "  box-sizing: border-box;\n",
       "  padding-bottom: 0.4em;\n",
       "  background-color: var(--sklearn-color-background);\n",
       "}\n",
       "\n",
       "#sk-container-id-1 div.sk-container {\n",
       "  /* jupyter's `normalize.less` sets `[hidden] { display: none; }`\n",
       "     but bootstrap.min.css set `[hidden] { display: none !important; }`\n",
       "     so we also need the `!important` here to be able to override the\n",
       "     default hidden behavior on the sphinx rendered scikit-learn.org.\n",
       "     See: https://github.com/scikit-learn/scikit-learn/issues/21755 */\n",
       "  display: inline-block !important;\n",
       "  position: relative;\n",
       "}\n",
       "\n",
       "#sk-container-id-1 div.sk-text-repr-fallback {\n",
       "  display: none;\n",
       "}\n",
       "\n",
       "div.sk-parallel-item,\n",
       "div.sk-serial,\n",
       "div.sk-item {\n",
       "  /* draw centered vertical line to link estimators */\n",
       "  background-image: linear-gradient(var(--sklearn-color-text-on-default-background), var(--sklearn-color-text-on-default-background));\n",
       "  background-size: 2px 100%;\n",
       "  background-repeat: no-repeat;\n",
       "  background-position: center center;\n",
       "}\n",
       "\n",
       "/* Parallel-specific style estimator block */\n",
       "\n",
       "#sk-container-id-1 div.sk-parallel-item::after {\n",
       "  content: \"\";\n",
       "  width: 100%;\n",
       "  border-bottom: 2px solid var(--sklearn-color-text-on-default-background);\n",
       "  flex-grow: 1;\n",
       "}\n",
       "\n",
       "#sk-container-id-1 div.sk-parallel {\n",
       "  display: flex;\n",
       "  align-items: stretch;\n",
       "  justify-content: center;\n",
       "  background-color: var(--sklearn-color-background);\n",
       "  position: relative;\n",
       "}\n",
       "\n",
       "#sk-container-id-1 div.sk-parallel-item {\n",
       "  display: flex;\n",
       "  flex-direction: column;\n",
       "}\n",
       "\n",
       "#sk-container-id-1 div.sk-parallel-item:first-child::after {\n",
       "  align-self: flex-end;\n",
       "  width: 50%;\n",
       "}\n",
       "\n",
       "#sk-container-id-1 div.sk-parallel-item:last-child::after {\n",
       "  align-self: flex-start;\n",
       "  width: 50%;\n",
       "}\n",
       "\n",
       "#sk-container-id-1 div.sk-parallel-item:only-child::after {\n",
       "  width: 0;\n",
       "}\n",
       "\n",
       "/* Serial-specific style estimator block */\n",
       "\n",
       "#sk-container-id-1 div.sk-serial {\n",
       "  display: flex;\n",
       "  flex-direction: column;\n",
       "  align-items: center;\n",
       "  background-color: var(--sklearn-color-background);\n",
       "  padding-right: 1em;\n",
       "  padding-left: 1em;\n",
       "}\n",
       "\n",
       "\n",
       "/* Toggleable style: style used for estimator/Pipeline/ColumnTransformer box that is\n",
       "clickable and can be expanded/collapsed.\n",
       "- Pipeline and ColumnTransformer use this feature and define the default style\n",
       "- Estimators will overwrite some part of the style using the `sk-estimator` class\n",
       "*/\n",
       "\n",
       "/* Pipeline and ColumnTransformer style (default) */\n",
       "\n",
       "#sk-container-id-1 div.sk-toggleable {\n",
       "  /* Default theme specific background. It is overwritten whether we have a\n",
       "  specific estimator or a Pipeline/ColumnTransformer */\n",
       "  background-color: var(--sklearn-color-background);\n",
       "}\n",
       "\n",
       "/* Toggleable label */\n",
       "#sk-container-id-1 label.sk-toggleable__label {\n",
       "  cursor: pointer;\n",
       "  display: block;\n",
       "  width: 100%;\n",
       "  margin-bottom: 0;\n",
       "  padding: 0.5em;\n",
       "  box-sizing: border-box;\n",
       "  text-align: center;\n",
       "}\n",
       "\n",
       "#sk-container-id-1 label.sk-toggleable__label-arrow:before {\n",
       "  /* Arrow on the left of the label */\n",
       "  content: \"▸\";\n",
       "  float: left;\n",
       "  margin-right: 0.25em;\n",
       "  color: var(--sklearn-color-icon);\n",
       "}\n",
       "\n",
       "#sk-container-id-1 label.sk-toggleable__label-arrow:hover:before {\n",
       "  color: var(--sklearn-color-text);\n",
       "}\n",
       "\n",
       "/* Toggleable content - dropdown */\n",
       "\n",
       "#sk-container-id-1 div.sk-toggleable__content {\n",
       "  max-height: 0;\n",
       "  max-width: 0;\n",
       "  overflow: hidden;\n",
       "  text-align: left;\n",
       "  /* unfitted */\n",
       "  background-color: var(--sklearn-color-unfitted-level-0);\n",
       "}\n",
       "\n",
       "#sk-container-id-1 div.sk-toggleable__content.fitted {\n",
       "  /* fitted */\n",
       "  background-color: var(--sklearn-color-fitted-level-0);\n",
       "}\n",
       "\n",
       "#sk-container-id-1 div.sk-toggleable__content pre {\n",
       "  margin: 0.2em;\n",
       "  border-radius: 0.25em;\n",
       "  color: var(--sklearn-color-text);\n",
       "  /* unfitted */\n",
       "  background-color: var(--sklearn-color-unfitted-level-0);\n",
       "}\n",
       "\n",
       "#sk-container-id-1 div.sk-toggleable__content.fitted pre {\n",
       "  /* unfitted */\n",
       "  background-color: var(--sklearn-color-fitted-level-0);\n",
       "}\n",
       "\n",
       "#sk-container-id-1 input.sk-toggleable__control:checked~div.sk-toggleable__content {\n",
       "  /* Expand drop-down */\n",
       "  max-height: 200px;\n",
       "  max-width: 100%;\n",
       "  overflow: auto;\n",
       "}\n",
       "\n",
       "#sk-container-id-1 input.sk-toggleable__control:checked~label.sk-toggleable__label-arrow:before {\n",
       "  content: \"▾\";\n",
       "}\n",
       "\n",
       "/* Pipeline/ColumnTransformer-specific style */\n",
       "\n",
       "#sk-container-id-1 div.sk-label input.sk-toggleable__control:checked~label.sk-toggleable__label {\n",
       "  color: var(--sklearn-color-text);\n",
       "  background-color: var(--sklearn-color-unfitted-level-2);\n",
       "}\n",
       "\n",
       "#sk-container-id-1 div.sk-label.fitted input.sk-toggleable__control:checked~label.sk-toggleable__label {\n",
       "  background-color: var(--sklearn-color-fitted-level-2);\n",
       "}\n",
       "\n",
       "/* Estimator-specific style */\n",
       "\n",
       "/* Colorize estimator box */\n",
       "#sk-container-id-1 div.sk-estimator input.sk-toggleable__control:checked~label.sk-toggleable__label {\n",
       "  /* unfitted */\n",
       "  background-color: var(--sklearn-color-unfitted-level-2);\n",
       "}\n",
       "\n",
       "#sk-container-id-1 div.sk-estimator.fitted input.sk-toggleable__control:checked~label.sk-toggleable__label {\n",
       "  /* fitted */\n",
       "  background-color: var(--sklearn-color-fitted-level-2);\n",
       "}\n",
       "\n",
       "#sk-container-id-1 div.sk-label label.sk-toggleable__label,\n",
       "#sk-container-id-1 div.sk-label label {\n",
       "  /* The background is the default theme color */\n",
       "  color: var(--sklearn-color-text-on-default-background);\n",
       "}\n",
       "\n",
       "/* On hover, darken the color of the background */\n",
       "#sk-container-id-1 div.sk-label:hover label.sk-toggleable__label {\n",
       "  color: var(--sklearn-color-text);\n",
       "  background-color: var(--sklearn-color-unfitted-level-2);\n",
       "}\n",
       "\n",
       "/* Label box, darken color on hover, fitted */\n",
       "#sk-container-id-1 div.sk-label.fitted:hover label.sk-toggleable__label.fitted {\n",
       "  color: var(--sklearn-color-text);\n",
       "  background-color: var(--sklearn-color-fitted-level-2);\n",
       "}\n",
       "\n",
       "/* Estimator label */\n",
       "\n",
       "#sk-container-id-1 div.sk-label label {\n",
       "  font-family: monospace;\n",
       "  font-weight: bold;\n",
       "  display: inline-block;\n",
       "  line-height: 1.2em;\n",
       "}\n",
       "\n",
       "#sk-container-id-1 div.sk-label-container {\n",
       "  text-align: center;\n",
       "}\n",
       "\n",
       "/* Estimator-specific */\n",
       "#sk-container-id-1 div.sk-estimator {\n",
       "  font-family: monospace;\n",
       "  border: 1px dotted var(--sklearn-color-border-box);\n",
       "  border-radius: 0.25em;\n",
       "  box-sizing: border-box;\n",
       "  margin-bottom: 0.5em;\n",
       "  /* unfitted */\n",
       "  background-color: var(--sklearn-color-unfitted-level-0);\n",
       "}\n",
       "\n",
       "#sk-container-id-1 div.sk-estimator.fitted {\n",
       "  /* fitted */\n",
       "  background-color: var(--sklearn-color-fitted-level-0);\n",
       "}\n",
       "\n",
       "/* on hover */\n",
       "#sk-container-id-1 div.sk-estimator:hover {\n",
       "  /* unfitted */\n",
       "  background-color: var(--sklearn-color-unfitted-level-2);\n",
       "}\n",
       "\n",
       "#sk-container-id-1 div.sk-estimator.fitted:hover {\n",
       "  /* fitted */\n",
       "  background-color: var(--sklearn-color-fitted-level-2);\n",
       "}\n",
       "\n",
       "/* Specification for estimator info (e.g. \"i\" and \"?\") */\n",
       "\n",
       "/* Common style for \"i\" and \"?\" */\n",
       "\n",
       ".sk-estimator-doc-link,\n",
       "a:link.sk-estimator-doc-link,\n",
       "a:visited.sk-estimator-doc-link {\n",
       "  float: right;\n",
       "  font-size: smaller;\n",
       "  line-height: 1em;\n",
       "  font-family: monospace;\n",
       "  background-color: var(--sklearn-color-background);\n",
       "  border-radius: 1em;\n",
       "  height: 1em;\n",
       "  width: 1em;\n",
       "  text-decoration: none !important;\n",
       "  margin-left: 1ex;\n",
       "  /* unfitted */\n",
       "  border: var(--sklearn-color-unfitted-level-1) 1pt solid;\n",
       "  color: var(--sklearn-color-unfitted-level-1);\n",
       "}\n",
       "\n",
       ".sk-estimator-doc-link.fitted,\n",
       "a:link.sk-estimator-doc-link.fitted,\n",
       "a:visited.sk-estimator-doc-link.fitted {\n",
       "  /* fitted */\n",
       "  border: var(--sklearn-color-fitted-level-1) 1pt solid;\n",
       "  color: var(--sklearn-color-fitted-level-1);\n",
       "}\n",
       "\n",
       "/* On hover */\n",
       "div.sk-estimator:hover .sk-estimator-doc-link:hover,\n",
       ".sk-estimator-doc-link:hover,\n",
       "div.sk-label-container:hover .sk-estimator-doc-link:hover,\n",
       ".sk-estimator-doc-link:hover {\n",
       "  /* unfitted */\n",
       "  background-color: var(--sklearn-color-unfitted-level-3);\n",
       "  color: var(--sklearn-color-background);\n",
       "  text-decoration: none;\n",
       "}\n",
       "\n",
       "div.sk-estimator.fitted:hover .sk-estimator-doc-link.fitted:hover,\n",
       ".sk-estimator-doc-link.fitted:hover,\n",
       "div.sk-label-container:hover .sk-estimator-doc-link.fitted:hover,\n",
       ".sk-estimator-doc-link.fitted:hover {\n",
       "  /* fitted */\n",
       "  background-color: var(--sklearn-color-fitted-level-3);\n",
       "  color: var(--sklearn-color-background);\n",
       "  text-decoration: none;\n",
       "}\n",
       "\n",
       "/* Span, style for the box shown on hovering the info icon */\n",
       ".sk-estimator-doc-link span {\n",
       "  display: none;\n",
       "  z-index: 9999;\n",
       "  position: relative;\n",
       "  font-weight: normal;\n",
       "  right: .2ex;\n",
       "  padding: .5ex;\n",
       "  margin: .5ex;\n",
       "  width: min-content;\n",
       "  min-width: 20ex;\n",
       "  max-width: 50ex;\n",
       "  color: var(--sklearn-color-text);\n",
       "  box-shadow: 2pt 2pt 4pt #999;\n",
       "  /* unfitted */\n",
       "  background: var(--sklearn-color-unfitted-level-0);\n",
       "  border: .5pt solid var(--sklearn-color-unfitted-level-3);\n",
       "}\n",
       "\n",
       ".sk-estimator-doc-link.fitted span {\n",
       "  /* fitted */\n",
       "  background: var(--sklearn-color-fitted-level-0);\n",
       "  border: var(--sklearn-color-fitted-level-3);\n",
       "}\n",
       "\n",
       ".sk-estimator-doc-link:hover span {\n",
       "  display: block;\n",
       "}\n",
       "\n",
       "/* \"?\"-specific style due to the `<a>` HTML tag */\n",
       "\n",
       "#sk-container-id-1 a.estimator_doc_link {\n",
       "  float: right;\n",
       "  font-size: 1rem;\n",
       "  line-height: 1em;\n",
       "  font-family: monospace;\n",
       "  background-color: var(--sklearn-color-background);\n",
       "  border-radius: 1rem;\n",
       "  height: 1rem;\n",
       "  width: 1rem;\n",
       "  text-decoration: none;\n",
       "  /* unfitted */\n",
       "  color: var(--sklearn-color-unfitted-level-1);\n",
       "  border: var(--sklearn-color-unfitted-level-1) 1pt solid;\n",
       "}\n",
       "\n",
       "#sk-container-id-1 a.estimator_doc_link.fitted {\n",
       "  /* fitted */\n",
       "  border: var(--sklearn-color-fitted-level-1) 1pt solid;\n",
       "  color: var(--sklearn-color-fitted-level-1);\n",
       "}\n",
       "\n",
       "/* On hover */\n",
       "#sk-container-id-1 a.estimator_doc_link:hover {\n",
       "  /* unfitted */\n",
       "  background-color: var(--sklearn-color-unfitted-level-3);\n",
       "  color: var(--sklearn-color-background);\n",
       "  text-decoration: none;\n",
       "}\n",
       "\n",
       "#sk-container-id-1 a.estimator_doc_link.fitted:hover {\n",
       "  /* fitted */\n",
       "  background-color: var(--sklearn-color-fitted-level-3);\n",
       "}\n",
       "</style><div id=\"sk-container-id-1\" class=\"sk-top-container\"><div class=\"sk-text-repr-fallback\"><pre>SGDClassifier(loss=&#x27;log_loss&#x27;)</pre><b>In a Jupyter environment, please rerun this cell to show the HTML representation or trust the notebook. <br />On GitHub, the HTML representation is unable to render, please try loading this page with nbviewer.org.</b></div><div class=\"sk-container\" hidden><div class=\"sk-item\"><div class=\"sk-estimator fitted sk-toggleable\"><input class=\"sk-toggleable__control sk-hidden--visually\" id=\"sk-estimator-id-1\" type=\"checkbox\" checked><label for=\"sk-estimator-id-1\" class=\"sk-toggleable__label fitted sk-toggleable__label-arrow fitted\">&nbsp;&nbsp;SGDClassifier<a class=\"sk-estimator-doc-link fitted\" rel=\"noreferrer\" target=\"_blank\" href=\"https://scikit-learn.org/1.4/modules/generated/sklearn.linear_model.SGDClassifier.html\">?<span>Documentation for SGDClassifier</span></a><span class=\"sk-estimator-doc-link fitted\">i<span>Fitted</span></span></label><div class=\"sk-toggleable__content fitted\"><pre>SGDClassifier(loss=&#x27;log_loss&#x27;)</pre></div> </div></div></div></div>"
      ],
      "text/plain": [
       "SGDClassifier(loss='log_loss')"
      ]
     },
     "execution_count": 22,
     "metadata": {},
     "output_type": "execute_result"
    }
   ],
   "source": [
    "# Train the classifier\n",
    "sgd = SGDClassifier(loss = 'log_loss')\n",
    "sgd.fit(set_words_train,y_train)"
   ]
  },
  {
   "cell_type": "code",
   "execution_count": 23,
   "id": "d1553d8d-0536-442f-bff1-40b96def410e",
   "metadata": {
    "ExecuteTime": {
     "end_time": "2024-01-28T00:59:06.241342800Z",
     "start_time": "2024-01-28T00:59:05.711717100Z"
    },
    "deletable": false,
    "nbgrader": {
     "cell_type": "code",
     "checksum": "0ebdbd10faf7d21631dbe3687d426a9c",
     "grade": true,
     "grade_id": "cell-4ed4c4a1b1bec6ee",
     "locked": false,
     "points": 0.5,
     "schema_version": 3,
     "solution": true,
     "task": false
    }
   },
   "outputs": [],
   "source": [
    "# Predict the album\n",
    "# Creating the set of words encoding for corpus_test\n",
    "set_words_test = []\n",
    "for corpus_test_line in corpus_test:\n",
    "    prepro_lyric = preprocessor_func(corpus_test_line).split(\" \")\n",
    "    # to lowercase\n",
    "    prepro_lyric = [xx.lower() for xx in prepro_lyric]\n",
    "    \n",
    "    set_words_test.append([ prepro_lyric.count(word) for word in set_words ])\n",
    "y_pred = sgd.predict(set_words_test)\n",
    "\n",
    "x_pred = sgd.predict(set_words_train)"
   ]
  },
  {
   "cell_type": "code",
   "execution_count": 24,
   "id": "615961f8-8133-413f-b749-f2d5eee1952a",
   "metadata": {
    "ExecuteTime": {
     "end_time": "2024-01-28T00:59:06.251286100Z",
     "start_time": "2024-01-28T00:59:06.241342800Z"
    },
    "deletable": false,
    "nbgrader": {
     "cell_type": "code",
     "checksum": "e70c81b74cb920f54d28ff86dfe56018",
     "grade": true,
     "grade_id": "cell-c21343ac880f25b0",
     "locked": false,
     "points": 0.5,
     "schema_version": 3,
     "solution": true,
     "task": false
    }
   },
   "outputs": [
    {
     "name": "stdout",
     "output_type": "stream",
     "text": [
      "Accuracy Score for train: 0.7502262443438914.\n",
      "Accuracy Score for test: 0.31735985533453887.\n"
     ]
    }
   ],
   "source": [
    "# Compute and show accuracy for training and test set\n",
    "accuracy_train = accuracy_score(y_train,x_pred)\n",
    "accuracy_test = accuracy_score(y_test,y_pred)\n",
    "\n",
    "print(f'Accuracy Score for train: {accuracy_train}.')\n",
    "print(f'Accuracy Score for test: {accuracy_test}.')"
   ]
  },
  {
   "cell_type": "markdown",
   "id": "31e205dc-5562-48e6-ad88-0e5241d16994",
   "metadata": {
    "deletable": false,
    "editable": false,
    "nbgrader": {
     "cell_type": "markdown",
     "checksum": "d858d3d2b298bf124fa9b9e12c24eaae",
     "grade": false,
     "grade_id": "cell-614e0975e1f509af",
     "locked": true,
     "schema_version": 3,
     "solution": false,
     "task": false
    }
   },
   "source": [
    "### m)\n",
    "Given the accuracy values that you calculated in the last subtask, argue about the classifier's accuracy compared to a most frequent guessing classifier (i.e., a classifier that always chooses to predict the most frequent album). Use the distribution of lyrics over the albums calculated in task **d)** to support your argument. "
   ]
  },
  {
   "cell_type": "code",
   "execution_count": 25,
   "id": "501b8069a256e74c",
   "metadata": {
    "ExecuteTime": {
     "end_time": "2024-01-28T00:59:06.255773300Z",
     "start_time": "2024-01-28T00:59:06.247554700Z"
    },
    "collapsed": false,
    "jupyter": {
     "outputs_hidden": false
    }
   },
   "outputs": [
    {
     "name": "stdout",
     "output_type": "stream",
     "text": [
      "Accuracy Score for test with most frequent guessing classifier: 0.1518987341772152.\n",
      "Accuracy Score for train with most frequent guessing classifier: 0.14705882352941177.\n",
      "Frequency of the most frequent album: 0.14047304598391164.\n"
     ]
    }
   ],
   "source": [
    "y_pred_count = 0\n",
    "for album_name in y_test:\n",
    "    if album_name == 'Fearless Taylor’s Version':\n",
    "        y_pred_count += 1\n",
    "x_pred_count = 0\n",
    "for album_name in y_train:\n",
    "    if album_name == 'Fearless Taylor’s Version':\n",
    "        x_pred_count += 1\n",
    "frequency_most_frequent_album = swift_df['album'].loc[swift_df['album'] == 'Fearless Taylor’s Version'].count()\n",
    "print(f'Accuracy Score for test with most frequent guessing classifier: {y_pred_count/len(y_test)}.')\n",
    "print(f'Accuracy Score for train with most frequent guessing classifier: {x_pred_count/len(y_train)}.')\n",
    "print(f'Frequency of the most frequent album: {frequency_most_frequent_album/len(swift_df)}.')"
   ]
  },
  {
   "cell_type": "markdown",
   "id": "e2439c5f-a0ee-4b79-8b18-0f95a79f1667",
   "metadata": {
    "deletable": false,
    "nbgrader": {
     "cell_type": "markdown",
     "checksum": "708a21f877730facd9c0c2ceed98fc50",
     "grade": true,
     "grade_id": "cell-6e5beedfdb7354ed",
     "locked": false,
     "points": 0.5,
     "schema_version": 3,
     "solution": true,
     "task": false
    }
   },
   "source": [
    "__Student Answer:__ As the distribution of lyrics over the albums states that the Fearless Taylor’s Version is most frequent album and when using most frequent guessing classifier  accuracy is lower than using SGD classifier. The reason for that could be that the frequency of the most frequent album has not a big enough gap in compare to others, in this case it is around 0.14 and is similar to the accuracy score. Overall the accuracy score of SGD classifier is not high but still higher than the most frequent guessing classifier."
   ]
  },
  {
   "cell_type": "markdown",
   "id": "9f15c9c2-1566-40fe-b668-376aac576606",
   "metadata": {
    "deletable": false,
    "editable": false,
    "nbgrader": {
     "cell_type": "markdown",
     "checksum": "cb5755673fc30458149ac43a340f72c1",
     "grade": false,
     "grade_id": "cell-d795b66869ba2eb7",
     "locked": true,
     "schema_version": 3,
     "solution": false,
     "task": false
    }
   },
   "source": [
    "### n)\n",
    "Next, we want to make our results more visual. Therefore, implement the `pred_album_by_index` method that takes a lyric's index from the `swift_df` dataframe as input, and based on that, returns the corresponding lyric, its actual album and its predicted album using the SGD classifier from **l)**."
   ]
  },
  {
   "cell_type": "code",
   "execution_count": 26,
   "id": "324b2379-2623-4b64-864e-231ae197b618",
   "metadata": {
    "ExecuteTime": {
     "end_time": "2024-01-28T00:59:06.255773300Z",
     "start_time": "2024-01-28T00:59:06.252280500Z"
    },
    "deletable": false,
    "nbgrader": {
     "cell_type": "code",
     "checksum": "1fe2a3010be4a835c276f78db44fd719",
     "grade": true,
     "grade_id": "cell-eb989103f1512c70",
     "locked": false,
     "points": 2,
     "schema_version": 3,
     "solution": true,
     "task": false
    }
   },
   "outputs": [],
   "source": [
    "import numpy as np\n",
    "\n",
    "\n",
    "def pred_album_by_index(index: int) -> (str, str, str):\n",
    "    \"\"\" \n",
    "    Predicts a lyric's album based on the .\n",
    "    :param index: The index of the chosen lyric entry.\n",
    "    :return: The function returns the chosen lyric, it preprocessed form and the set of words representation. \n",
    "    \"\"\"\n",
    "    line_temp, line_p_temp, line_sow_temp = apply_sow_to_lyric_by_index(index)\n",
    "    \n",
    "    return swift_df.lyric[index], swift_df.album[index], sgd.predict(np.reshape(line_sow_temp, (1,-1)))"
   ]
  },
  {
   "cell_type": "code",
   "execution_count": 27,
   "id": "c03a0fc0-6237-4604-bcb0-10ab80b6ffbb",
   "metadata": {
    "ExecuteTime": {
     "end_time": "2024-01-28T00:59:06.259729300Z",
     "start_time": "2024-01-28T00:59:06.255773300Z"
    }
   },
   "outputs": [],
   "source": [
    "index = 1000 # Please change the index and do not use -1"
   ]
  },
  {
   "cell_type": "code",
   "execution_count": 28,
   "id": "2f0c87af-fa31-467a-95e4-979330b9699b",
   "metadata": {
    "ExecuteTime": {
     "end_time": "2024-01-28T00:59:06.263222900Z",
     "start_time": "2024-01-28T00:59:06.258732300Z"
    },
    "deletable": false,
    "editable": false,
    "nbgrader": {
     "cell_type": "code",
     "checksum": "713dbff30fcc532b833bfed977459c55",
     "grade": false,
     "grade_id": "cell-38d17ee6b8ba0046",
     "locked": true,
     "schema_version": 3,
     "solution": false,
     "task": false
    }
   },
   "outputs": [
    {
     "name": "stdout",
     "output_type": "stream",
     "text": [
      "Lyric:           You had me crawling for you, honey\n",
      "Actual album:    Fearless Taylor’s Version\n",
      "Predicted album: ['folklore deluxe version']\n"
     ]
    }
   ],
   "source": [
    "lyric, album_actual, album_pred = pred_album_by_index(index)\n",
    "\n",
    "print(\"Lyric:          \", lyric)\n",
    "print(\"Actual album:   \", album_actual)\n",
    "print(\"Predicted album:\", album_pred)"
   ]
  },
  {
   "cell_type": "markdown",
   "id": "654587d7-1a19-4a80-83ff-7302160388b2",
   "metadata": {
    "deletable": false,
    "editable": false,
    "nbgrader": {
     "cell_type": "markdown",
     "checksum": "9eb43a2b0289109c4189ac616293c18f",
     "grade": false,
     "grade_id": "cell-8ad4bf9ac59d61c1",
     "locked": true,
     "schema_version": 3,
     "solution": false,
     "task": false
    }
   },
   "source": [
    "## Doc2Vec (4.5 pts)"
   ]
  },
  {
   "cell_type": "markdown",
   "id": "f6e717b6-d60e-43db-a22d-a6597b6807c7",
   "metadata": {
    "deletable": false,
    "editable": false,
    "nbgrader": {
     "cell_type": "markdown",
     "checksum": "7f57ef484aebf33413416e8d74f8bb11",
     "grade": false,
     "grade_id": "cell-19b515bee8fe850f",
     "locked": true,
     "schema_version": 3,
     "solution": false,
     "task": false
    }
   },
   "source": [
    "In this subtask, we encode lyrics using Doc2Vec. Given the embedding, we reduce its dimensionality using **P**rincipal **C**omponent **A**nalysis while preserving the maximum amount of information so that we can visualize and cluster the embeddings in a scatter plot. Lastly, we have a manual look at the clusters to evaluate the information gain of the Doc2Vec approach."
   ]
  },
  {
   "cell_type": "markdown",
   "id": "8459d351-f946-4ccf-81fa-c51649b088c8",
   "metadata": {
    "deletable": false,
    "editable": false,
    "nbgrader": {
     "cell_type": "markdown",
     "checksum": "1d81f50dd169bbbd6b21e6de0f5954dd",
     "grade": false,
     "grade_id": "cell-3a84f47bd25d5223",
     "locked": true,
     "schema_version": 3,
     "solution": false,
     "task": false
    }
   },
   "source": [
    "### o) \n",
    "Initialize and train a Doc2Vec model based on the documents in the preprocessed corpus `corpus_p`. Set `epochs=100` for the training of the model. Set the vector dimension to 20 and min_count to 3."
   ]
  },
  {
   "cell_type": "code",
   "execution_count": 29,
   "id": "5ad43825-8049-4d98-a639-c0cb1ea1d1ff",
   "metadata": {
    "ExecuteTime": {
     "end_time": "2024-01-28T03:09:56.056916900Z",
     "start_time": "2024-01-28T03:09:48.788430Z"
    },
    "deletable": false,
    "nbgrader": {
     "cell_type": "code",
     "checksum": "e1d550ec9bc3d02e0013bfbeb8067033",
     "grade": true,
     "grade_id": "cell-1e76f60ed2ec69fd",
     "locked": false,
     "points": 1,
     "schema_version": 3,
     "solution": true,
     "task": false
    }
   },
   "outputs": [],
   "source": [
    "\n",
    "# Calculating the number of cores available\n",
    "cores = multiprocessing.cpu_count()\n",
    "document = []\n",
    "corpus_p = list(map(preprocessor_func,corpus))\n",
    "for i, line in enumerate(corpus_p):\n",
    "    \n",
    "    document.append(TaggedDocument(line.split(\" \"),[i]))\n",
    "doc_model = Doc2Vec(vector_size=20, min_count=3, epochs=100, workers= cores)\n",
    "doc_model.build_vocab(document)\n",
    "doc_model.train(document, total_examples=doc_model.corpus_count, epochs=doc_model.epochs)\n"
   ]
  },
  {
   "cell_type": "markdown",
   "id": "b358d3b6-d765-488d-a3f4-83e2cddd4cfd",
   "metadata": {
    "deletable": false,
    "editable": false,
    "nbgrader": {
     "cell_type": "markdown",
     "checksum": "9bc3f1064970387afbe71bc65c3a9cc8",
     "grade": false,
     "grade_id": "cell-743af586a286d2ee",
     "locked": true,
     "schema_version": 3,
     "solution": false,
     "task": false
    }
   },
   "source": [
    "### p)\n",
    "Create an embedding for each lyric in `swift_df_proc` and add all embeddings inferred to the `lyric_embeddings` list. This is a pretask for the next step that we take. "
   ]
  },
  {
   "cell_type": "code",
   "execution_count": 30,
   "id": "1c40cbc3-dbfe-4205-9bce-6ab3a408147c",
   "metadata": {
    "ExecuteTime": {
     "end_time": "2024-01-28T01:02:24.582453300Z",
     "start_time": "2024-01-28T01:02:24.575457700Z"
    },
    "deletable": false,
    "nbgrader": {
     "cell_type": "code",
     "checksum": "11ffebd78c6cdea1b0ea02ebc78bee49",
     "grade": true,
     "grade_id": "cell-f0d28ba5b898a192",
     "locked": false,
     "points": 1,
     "schema_version": 3,
     "solution": true,
     "task": false
    }
   },
   "outputs": [],
   "source": [
    "lyric_embeddings = []\n",
    "for idx in range(len(doc_model.dv)):\n",
    "    lyric_embeddings.append(doc_model.dv[idx])\n"
   ]
  },
  {
   "cell_type": "markdown",
   "id": "b0a79a1f-d6f9-4f55-b9d8-42970997476f",
   "metadata": {
    "deletable": false,
    "editable": false,
    "nbgrader": {
     "cell_type": "markdown",
     "checksum": "bff0c6ae6a90dbe3843e74cf827bc22a",
     "grade": false,
     "grade_id": "cell-b67a805ac7a79824",
     "locked": true,
     "schema_version": 3,
     "solution": false,
     "task": false
    }
   },
   "source": [
    "### q)\n",
    "Store the data contained in `lyric_embeddings` in a dataframe `embeddings_df`.\n",
    "Apply DBSCAN with euclidean distance to the `embeddings_df`dataframe with `eps = 0.3` and `min_samples = 2` and create a scatterplot with seaborn that shows the clusters of the inferred vectors. To be able to visualize the data in a two-dimensional vector space, apply a **p**rinciple **c**omponent **a**nalysis that is able to reduce the dimensionality of input data. (You can learn more about the PCA in its [Documentation](https://scikit-learn.org/stable/modules/generated/sklearn.decomposition.PCA.html)). The code for the PCA is provided."
   ]
  },
  {
   "cell_type": "code",
   "execution_count": 31,
   "id": "c427e70d-5720-41f6-956c-6ad2d896a3e3",
   "metadata": {
    "ExecuteTime": {
     "end_time": "2024-01-28T01:02:25.062561500Z",
     "start_time": "2024-01-28T01:02:24.581456500Z"
    },
    "deletable": false,
    "nbgrader": {
     "cell_type": "code",
     "checksum": "7f60f277c5500cb389ed1fe51127f696",
     "grade": true,
     "grade_id": "cell-32f6db6de61531a7",
     "locked": false,
     "points": 1.5,
     "schema_version": 3,
     "solution": true,
     "task": false
    }
   },
   "outputs": [
    {
     "data": {
      "text/plain": [
       "<Axes: xlabel='0', ylabel='1'>"
      ]
     },
     "execution_count": 31,
     "metadata": {},
     "output_type": "execute_result"
    },
    {
     "data": {
      "image/png": "[encoded data removed]",
      "text/plain": [
       "<Figure size 432x288 with 1 Axes>"
      ]
     },
     "metadata": {
      "needs_background": "light"
     },
     "output_type": "display_data"
    }
   ],
   "source": [
    "# YOUR CODE HERE\n",
    "embeddings_df = pd.DataFrame(lyric_embeddings)\n",
    "# Applying PCA to the embedding reducing the dimensionality to two\n",
    "pca = PCA(n_components=2)\n",
    "pca_embeddings = pd.DataFrame(pca.fit_transform(embeddings_df))\n",
    "clt = DBSCAN(eps=0.3, min_samples=2)\n",
    "model = clt.fit(pca_embeddings)\n",
    "clustering = model.fit_predict(pca_embeddings)\n",
    "sns.scatterplot(x=pca_embeddings[0],y=pca_embeddings[1], hue=clustering)"
   ]
  },
  {
   "cell_type": "markdown",
   "id": "1e0bfbe7-fcda-4bea-8334-599cfd6fa1da",
   "metadata": {
    "deletable": false,
    "editable": false,
    "nbgrader": {
     "cell_type": "markdown",
     "checksum": "558594524a947d6bb683705c91ae3150",
     "grade": false,
     "grade_id": "cell-7400b05548128502",
     "locked": true,
     "schema_version": 3,
     "solution": false,
     "task": false
    }
   },
   "source": [
    "### r)\n",
    "Show lyrics from the original `swift_df` dataframe contained in two distinct clusters using the two cells below. Answer separately, whether you consider the lyrics in each cluster to be similar or dissimilar.\n",
    "\n",
    "_Note: You do not have to find exactly two clusters. Having at least two clusters, you should show the lyrics from two distinct clusters._ "
   ]
  },
  {
   "cell_type": "code",
   "execution_count": 32,
   "id": "2b64547d-8a45-4af2-b9a6-0b07cca92d8e",
   "metadata": {
    "ExecuteTime": {
     "end_time": "2024-01-28T01:02:38.067767900Z",
     "start_time": "2024-01-28T01:02:38.050713600Z"
    },
    "deletable": false,
    "nbgrader": {
     "cell_type": "code",
     "checksum": "e9f439ae99a1f370ee34440c8fce5ef1",
     "grade": true,
     "grade_id": "cell-eeee7c827574738a",
     "locked": false,
     "points": 0.25,
     "schema_version": 3,
     "solution": true,
     "task": false
    }
   },
   "outputs": [
    {
     "data": {
      "text/plain": [
       "\"Come feel this magic I've been feeling since I met you\""
      ]
     },
     "metadata": {},
     "output_type": "display_data"
    },
    {
     "data": {
      "text/plain": [
       "\"I left a note on the door with a joke we'd made\""
      ]
     },
     "metadata": {},
     "output_type": "display_data"
    },
    {
     "data": {
      "text/plain": [
       "\"Three times 'cause I waited my whole life 1, 2, 1, 2, 3, 4\""
      ]
     },
     "metadata": {},
     "output_type": "display_data"
    },
    {
     "data": {
      "text/plain": [
       "\"Three times 'cause you waited your whole life 1, 2, 1, 2, 3, 4\""
      ]
     },
     "metadata": {},
     "output_type": "display_data"
    }
   ],
   "source": [
    "# Lyrics contained in one cluster\n",
    "for i,cl in enumerate(clustering):\n",
    "    if(cl == 1):\n",
    "        display(swift_df.lyric[swift_df_proc.index[i]])"
   ]
  },
  {
   "cell_type": "code",
   "execution_count": 33,
   "id": "762c4968-2551-40d4-918d-f725d8b8fa6a",
   "metadata": {
    "ExecuteTime": {
     "end_time": "2024-01-28T01:02:38.401073200Z",
     "start_time": "2024-01-28T01:02:38.394951700Z"
    },
    "deletable": false,
    "nbgrader": {
     "cell_type": "code",
     "checksum": "73ab1311beb53e80b6f64c4f16e0368d",
     "grade": true,
     "grade_id": "cell-d721129580166953",
     "locked": false,
     "points": 0.25,
     "schema_version": 3,
     "solution": true,
     "task": false
    }
   },
   "outputs": [
    {
     "data": {
      "text/plain": [
       "'Now every breath of air I breathe reminds me of then'"
      ]
     },
     "metadata": {},
     "output_type": "display_data"
    },
    {
     "data": {
      "text/plain": [
       "\"I've been waiting for you every day since you've been gone\""
      ]
     },
     "metadata": {},
     "output_type": "display_data"
    },
    {
     "data": {
      "text/plain": [
       "'Missing him was dark gray, all alone Whoa'"
      ]
     },
     "metadata": {},
     "output_type": "display_data"
    }
   ],
   "source": [
    "# Lyrics contained in one cluster\n",
    "for i,cl in enumerate(clustering):\n",
    "    if(cl == -1):\n",
    "        display(swift_df.lyric[swift_df_proc.index[i]])"
   ]
  },
  {
   "cell_type": "markdown",
   "id": "8253f6c7-80b7-48b6-8866-e3bd36b4b872",
   "metadata": {
    "deletable": false,
    "nbgrader": {
     "cell_type": "markdown",
     "checksum": "5209a1ff3eee4ac82dd4682f2c80d9d3",
     "grade": true,
     "grade_id": "cell-623be93e0b95082d",
     "locked": false,
     "points": 0.5,
     "schema_version": 3,
     "solution": true,
     "task": false
    }
   },
   "source": [
    "__Student Answer:__ The lyrics in each cluster are dissimilar. The first one is more about feeling of being delighted due to the past. And the second one is more melancholy."
   ]
  },
  {
   "cell_type": "markdown",
   "id": "4ee33fcd-a77b-47c3-8089-70f421f03308",
   "metadata": {
    "deletable": false,
    "editable": false,
    "nbgrader": {
     "cell_type": "markdown",
     "checksum": "1866385065537471eabc81a0bfba5ef3",
     "grade": false,
     "grade_id": "cell-dfab126c449f469d",
     "locked": true,
     "schema_version": 3,
     "solution": false,
     "task": false
    }
   },
   "source": [
    "## An N-Gram Based Language Model (4 Pts)"
   ]
  },
  {
   "cell_type": "markdown",
   "id": "cb0e9fe4-73d5-479a-9d6b-87f08df4ccc4",
   "metadata": {
    "deletable": false,
    "editable": false,
    "nbgrader": {
     "cell_type": "markdown",
     "checksum": "65d68f349de3b754666e34d2e99588e3",
     "grade": false,
     "grade_id": "cell-8c981d67a41ee089",
     "locked": true,
     "schema_version": 3,
     "solution": false,
     "task": false
    }
   },
   "source": [
    "In this subtask, we use the `swift_df` data to create an n-gram based language model to generate new lyrics. Therefore, we play around with different values for n."
   ]
  },
  {
   "cell_type": "markdown",
   "id": "7bdeed80-b6c5-4e2c-a418-675b3b2a2599",
   "metadata": {
    "deletable": false,
    "editable": false,
    "nbgrader": {
     "cell_type": "markdown",
     "checksum": "5512e92be18e7a451186177edde26805",
     "grade": false,
     "grade_id": "cell-0d30d6096b1d71c9",
     "locked": true,
     "schema_version": 3,
     "solution": false,
     "task": false
    }
   },
   "source": [
    "### s)\n",
    "Write the `lyric_preprocessor` method that takes a lyric as input and that tokenizes it and makes each word lowercase."
   ]
  },
  {
   "cell_type": "code",
   "execution_count": 34,
   "id": "27cb0e42-1c32-49c4-907d-c4fba3c4f14c",
   "metadata": {
    "ExecuteTime": {
     "end_time": "2024-01-28T01:12:37.878875400Z",
     "start_time": "2024-01-28T01:12:37.871897800Z"
    },
    "deletable": false,
    "nbgrader": {
     "cell_type": "code",
     "checksum": "ee48ca9b59ffd8d841e94ef90bb38a1f",
     "grade": true,
     "grade_id": "cell-92f26b558e186263",
     "locked": false,
     "points": 1,
     "schema_version": 3,
     "solution": true,
     "task": false
    }
   },
   "outputs": [],
   "source": [
    "from nltk.tokenize import  word_tokenize\n",
    "def lyric_preprocessor(lyric: str) -> [str]:\n",
    "    \"\"\"\n",
    "    Tokenizes a lyric and makes the tokens lowercase.\n",
    "    :param lyric: A string containing an input lyric.\n",
    "    :return: A list containing lowercase tokens of the input lyric.\n",
    "    \"\"\"\n",
    "    str_list = word_tokenize(lyric)\n",
    "    str_list = [ x.lower() for x in str_list]\n",
    "    \n",
    "    return str_list"
   ]
  },
  {
   "cell_type": "markdown",
   "id": "ed77c05f-44ad-45a4-879f-e297c9363dbd",
   "metadata": {
    "deletable": false,
    "editable": false,
    "nbgrader": {
     "cell_type": "markdown",
     "checksum": "86fa9acd91446563bcfeb66448b351df",
     "grade": false,
     "grade_id": "cell-53fc779838099b3a",
     "locked": true,
     "schema_version": 3,
     "solution": false,
     "task": false
    }
   },
   "source": [
    "### t)\n",
    "Apply the lyric_preprocessor to all lyrics in the `swift_df` and store the data in a `lyric_corpus` variable."
   ]
  },
  {
   "cell_type": "code",
   "execution_count": 35,
   "id": "250532eb-2ab2-4d50-a221-1d67fbe176d5",
   "metadata": {
    "ExecuteTime": {
     "end_time": "2024-01-28T02:13:01.125415900Z",
     "start_time": "2024-01-28T02:13:01.091021100Z"
    },
    "deletable": false,
    "nbgrader": {
     "cell_type": "code",
     "checksum": "3fad81dcf44ba09e0a5a90e23cc85f76",
     "grade": true,
     "grade_id": "cell-bdd197cdd0c9ce03",
     "locked": false,
     "points": 0.5,
     "schema_version": 3,
     "solution": true,
     "task": false
    }
   },
   "outputs": [],
   "source": [
    "lyric_corpus =[]\n",
    "for line in swift_df.lyric:\n",
    "    lyric_corpus.append(lyric_preprocessor(line))"
   ]
  },
  {
   "cell_type": "markdown",
   "id": "74fa2548-060b-4062-9771-045ed6f4419d",
   "metadata": {
    "deletable": false,
    "editable": false,
    "nbgrader": {
     "cell_type": "markdown",
     "checksum": "ad785d9231f3d4001188cab003e4f483",
     "grade": false,
     "grade_id": "cell-711b7562e81d4c8c",
     "locked": true,
     "schema_version": 3,
     "solution": false,
     "task": false
    }
   },
   "source": [
    "Next, train two n-grams with $n \\in \\{2,5\\}$ on the lyric_corpus."
   ]
  },
  {
   "cell_type": "code",
   "execution_count": 36,
   "id": "8d7ac896-0247-425d-9655-8c3975deced3",
   "metadata": {
    "ExecuteTime": {
     "end_time": "2024-01-28T02:29:52.050382900Z",
     "start_time": "2024-01-28T02:29:50.332519600Z"
    },
    "deletable": false,
    "nbgrader": {
     "cell_type": "code",
     "checksum": "344f804fcbc69fef3f793282addc0b2e",
     "grade": true,
     "grade_id": "cell-de35c5ee4c491b53",
     "locked": false,
     "points": 0.5,
     "schema_version": 3,
     "solution": true,
     "task": false
    }
   },
   "outputs": [],
   "source": [
    "train_2, vocab_2 = padded_everygram_pipeline(2, lyric_corpus)\n",
    "train_5, vocab_5 = padded_everygram_pipeline(5, lyric_corpus)\n",
    "grams_5 = MLE(5)\n",
    "grams_2 = MLE(2)\n",
    "grams_2.fit(train_2, vocab_2)\n",
    "grams_5.fit(train_5, vocab_5)"
   ]
  },
  {
   "cell_type": "markdown",
   "id": "c602957a-0c02-4984-a082-26be35798295",
   "metadata": {
    "deletable": false,
    "editable": false,
    "nbgrader": {
     "cell_type": "markdown",
     "checksum": "c6e787a885ba21cdc0553b120999cd4f",
     "grade": false,
     "grade_id": "cell-312235d548c36588",
     "locked": true,
     "schema_version": 3,
     "solution": false,
     "task": false
    }
   },
   "source": [
    "### u)\n",
    "i. Write the `generate_lyrics` method that takes an n-gram model and an integer for the number of lyrics to be generated as input and that returns a list of new lyrics that were generated using the given n-gram model.\n",
    "\n",
    "_Reminder / Hints: A lyric generated by an n-gram starts with n-1 times the start token \"\\<s>\" and ends with n-1 times the end token \"\\</s>\". Further, the n value of an n-gram can be accessed using the `n-gram.order` variable of an `n-gram`. Additionally keep in mind that you can condition the generation of your n-gram on some preceding text._"
   ]
  },
  {
   "cell_type": "code",
   "execution_count": 37,
   "id": "43339aaa-9c05-4d31-9a61-0e46a6fc074b",
   "metadata": {
    "ExecuteTime": {
     "end_time": "2024-01-28T03:13:13.068179700Z",
     "start_time": "2024-01-28T03:13:13.035946400Z"
    },
    "deletable": false,
    "nbgrader": {
     "cell_type": "code",
     "checksum": "4664804246c45d8fe567b7157918ab93",
     "grade": true,
     "grade_id": "cell-5f4a433494c2f516",
     "locked": false,
     "points": 1,
     "schema_version": 3,
     "solution": true,
     "task": false
    }
   },
   "outputs": [],
   "source": [
    "\n",
    "\n",
    "def generate_lyrics(n_gram_model, numb_of_new_lyrics: int) -> [str]:\n",
    "    \"\"\"\n",
    "    Uses an n-gram model to generate several new lyrics.\n",
    "    :param n_gram_model: An n-gram model. \n",
    "    :param numb_of_new_lyrics: The number of lyrics to be created.\n",
    "    :return: As many generated lyrics as defined by the numb_of_new_lyrics.\n",
    "    \"\"\"\n",
    "    return_lyrics = []\n",
    "    lyric_line = []\n",
    "    order = n_gram_model.order\n",
    "    start_flag = False\n",
    "    end_flag = False\n",
    "    start_token = ''\n",
    "    end_token = ''\n",
    "    start_token_count =0\n",
    "    end_token_count =0\n",
    "    \n",
    "    for temp in range(order-1):\n",
    "        start_token +='<s>'\n",
    "        end_token +='</s>'\n",
    "    while len(return_lyrics)< numb_of_new_lyrics:\n",
    "        generate_words = n_gram_model.generate(text_seed='<s>')\n",
    "        if not start_flag:\n",
    "            if generate_words == '<s>':\n",
    "                start_token_count+=1\n",
    "                if start_token_count == order-1:\n",
    "                    start_flag=True\n",
    "                    start_token_count = 0\n",
    "                    lyric_line.append(start_token)\n",
    "            else:\n",
    "                start_token_count = 0\n",
    "        else:\n",
    "            \n",
    "            if generate_words == '</s>':\n",
    "                end_token_count+=1\n",
    "                if end_token_count == order-1:\n",
    "                    lyric_line.append(end_token)\n",
    "                    temp_str = ''\n",
    "                    for temp in lyric_line:\n",
    "                        temp_str += temp+\" \"\n",
    "                    # remove last empty space\n",
    "                    temp_str = temp_str[:-1]\n",
    "                    return_lyrics.append(temp_str)\n",
    "                    lyric_line =[]\n",
    "                    start_flag = False\n",
    "                    end_token_count = 0\n",
    "                    \n",
    "            else:\n",
    "                lyric_line.append(generate_words)\n",
    "                end_token_count = 0\n",
    "    return return_lyrics"
   ]
  },
  {
   "cell_type": "markdown",
   "id": "3266fce6-2d6d-4927-94e6-015669ce5a61",
   "metadata": {
    "deletable": false,
    "editable": false,
    "nbgrader": {
     "cell_type": "markdown",
     "checksum": "1306da555d42d6e0d7fbe62526e6956d",
     "grade": false,
     "grade_id": "cell-0d816b3d4e2f12fc",
     "locked": true,
     "schema_version": 3,
     "solution": false,
     "task": false
    }
   },
   "source": [
    "ii. Generate with the first and the second model ten lyrics each. Name one difference that you can find between the lyrics generated with 2-gram model and with the 5-gram model."
   ]
  },
  {
   "cell_type": "code",
   "execution_count": 38,
   "id": "2d32961f-a40f-4568-aff5-b302afdc323d",
   "metadata": {
    "ExecuteTime": {
     "end_time": "2024-01-28T03:13:14.810687600Z",
     "start_time": "2024-01-28T03:13:14.236152Z"
    },
    "deletable": false,
    "nbgrader": {
     "cell_type": "code",
     "checksum": "65fe231a42bc41730a9d0b77eb1e4d66",
     "grade": true,
     "grade_id": "cell-bee841b2cbdd6856",
     "locked": false,
     "points": 0.25,
     "schema_version": 3,
     "solution": true,
     "task": false
    }
   },
   "outputs": [
    {
     "data": {
      "text/plain": [
       "['<s> <s> <s> on wax say </s>',\n",
       " '<s> me what there to kiss you down good making </s>',\n",
       " \"<s> n't i <s> young you </s>\",\n",
       " '<s> </s>',\n",
       " '<s> now <s> </s>',\n",
       " '<s> </s>',\n",
       " \"<s> so <s> little 're 've when <s> with back my it , side you <s> would play me will n't up i take girl <s> that <s> was <s> you na crying <s> i in </s>\",\n",
       " '<s> hot come by ? reason </s>',\n",
       " \"<s> but god take and better looking read <s> 'm </s>\",\n",
       " \"<s> n't `` 've </s>\"]"
      ]
     },
     "metadata": {},
     "output_type": "display_data"
    },
    {
     "data": {
      "text/plain": [
       "' on wax say'"
      ]
     },
     "metadata": {},
     "output_type": "display_data"
    },
    {
     "data": {
      "text/plain": [
       "' me what there to kiss you down good making'"
      ]
     },
     "metadata": {},
     "output_type": "display_data"
    },
    {
     "data": {
      "text/plain": [
       "\" n't i young you\""
      ]
     },
     "metadata": {},
     "output_type": "display_data"
    },
    {
     "data": {
      "text/plain": [
       "''"
      ]
     },
     "metadata": {},
     "output_type": "display_data"
    },
    {
     "data": {
      "text/plain": [
       "' now'"
      ]
     },
     "metadata": {},
     "output_type": "display_data"
    },
    {
     "data": {
      "text/plain": [
       "''"
      ]
     },
     "metadata": {},
     "output_type": "display_data"
    },
    {
     "data": {
      "text/plain": [
       "\" so little 're 've when with back my it , side you would play me will n't up i take girl that was you na crying i in\""
      ]
     },
     "metadata": {},
     "output_type": "display_data"
    },
    {
     "data": {
      "text/plain": [
       "' hot come by ? reason'"
      ]
     },
     "metadata": {},
     "output_type": "display_data"
    },
    {
     "data": {
      "text/plain": [
       "\" but god take and better looking read 'm\""
      ]
     },
     "metadata": {},
     "output_type": "display_data"
    },
    {
     "data": {
      "text/plain": [
       "\" n't `` 've\""
      ]
     },
     "metadata": {},
     "output_type": "display_data"
    }
   ],
   "source": [
    "# Generate and show ten lyrics with the first model\n",
    "lyrics_list_2=generate_lyrics(grams_2,10)\n",
    "display(lyrics_list_2)\n",
    "for temp_l in lyrics_list_2:\n",
    "    display(temp_l.replace(' <s>','').replace(' </s>','').replace('<s>','').replace('</s>',''))"
   ]
  },
  {
   "cell_type": "code",
   "execution_count": 39,
   "id": "62ef8ed9-fd00-4fea-8ac3-2cbbf822672e",
   "metadata": {
    "ExecuteTime": {
     "end_time": "2024-01-28T03:13:30.130978800Z",
     "start_time": "2024-01-28T03:13:14.810687600Z"
    },
    "deletable": false,
    "nbgrader": {
     "cell_type": "code",
     "checksum": "8b65301fe2f55941eddf96547c19e2e5",
     "grade": true,
     "grade_id": "cell-23fc0dadd9790843",
     "locked": false,
     "points": 0.25,
     "schema_version": 3,
     "solution": true,
     "task": false
    }
   },
   "outputs": [
    {
     "data": {
      "text/plain": [
       "[\"<s><s><s><s> invisible windermere still <s> keep <s> out booked <s> <s> dancin think swims how <s> you , rain n't <s> <s> <s> right to with understands 're be red , and if 've i you my ? this speech <s> that and all <s> it friends say my 's i knows <s> <s> <s> been you know da-da <s> <s> look wine n't you goes yeah up <s> so <s> 're <s> oh-oh pouring <s> <s> <s> <s> find the <s> <s> way , <s> bluff something 're be he <s> <s> <s> <s> knew be , <s> n't do little just <s> <s> n't beautiful woods cold <s> in <s> needing <s> <s> but <s> <s> 's you you was why girl <s> in i i here my <s> <s> <s> as <s> i and <s> better begging you he <s> know for friend my <s> other my right <s> in <s> you <s> <s> '' <s> n't 're <s> <s> <s> <s> dappled <s> pretended room behind when <s> <s> say <s> messed shining it <s> you you <s> you get a mistake he <s> alone tip me <s> <s> thing believed together <s> away you to got <s> <s> me <s> the the <s> picture say figment 's to <s> would n't there my 's i me should sweep is , the friend with i <s> <s> i i <s> <s> </s></s></s></s>\",\n",
       " \"<s><s><s><s> when in the can <s> i along <s> know of <s> <s> up every <s> me time page 'm hate haunt 'fore <s> before <s> a forget blue <s> <s> all <s> <s> silence in the one <s> a <s> <s> <s> <s> <s> was reasons lose time grown knew <s> me <s> <s> an <s> it all <s> if <s> <s> when do the wore <s> lead <s> <s> started stay ' wanted did phone you knew you <s> stayed <s> <s> never on face <s> i long your but <s> n't 's gon do <s> <s> dressed <s> face n't <s> i this on 'm that away only you lot <s> walk <s> on <s> covered <s> <s> home of a n't tell <s> tell but <s> love then no <s> the them the look if i you <s> so , 'll do , <s> the a can love chains in <s> </s></s></s></s>\",\n",
       " \"<s><s><s><s> <s> look i she da-da he asking whole <s> that <s> stood big <s> girls <s> <s> your gave the had screamin <s> <s> 'd <s> you <s> 'm short you the only <s> ] <s> man <s> <s> <s> lights <s> with was list <s> <s> <s> remember eyes i <s> time a never <s> it <s> do , <s> , but , <s> my in , and the they <s> <s> happiness feet version recognize you when <s> ridin <s> , over <s> <s> moment <s> <s> i <s> for your <s> ? <s> you <s> falling the <s> <s> hole really you like <s> mama like all list there hey and sleeping does <s> to <s> where <s> <s> to you love oh <s> airplanes , you <s> solve yeah must <s> <s> <s> name 'd <s> i you of the n't ca do people n't , i <s> is oh <s> that stealing wan <s> i so , <s> walking <s> it on pain <s> and is the that ground you to <s> , oh <s> <s> changed ? i step 's n't the , going never i left the to has clean <s> boy <s> <s> used <s> anticipatin this <s> and hallway oh school <s> it <s> come n't you seems <s> know <s> you just they world so your <s> who know wear <s> was once be i years <s> my gon me <s> and me welcome <s> evermore <s> <s> this <s> touchin 'cause that <s> i so you <s> invisible me not <s> you found scared pretty <s> <s> as <s> my whoa if beautiful it pages <s> <s> n't <s> pageant i , had did 'em just <s> flew jaguars soul <s> you this anywhere <s> are do did , ! all come are <s> <s> <s> 'm <s> you forward <s> it <s> thousand burning <s> <s> on back <s> <s> saying <s> lonely <s> in <s> to lets boy n't <s> <s> <s> hey you meet if <s> my 'cause mm-mm-mm-mm story keep no you <s> was n't i around n't <s> you <s> <s> , <s> <s> hackney you i it you <s> like and took <s> scathing step </s></s></s></s>\",\n",
       " \"<s><s><s><s> <s> on what <s> <s> you <s> <s> stood i <s> <s> oh-oh coat was n't other you drive even <s> their <s> <s> tryna friends <s> <s> it <s> for ? time '' <s> <s> <s> you <s> close if wonder it <s> <s> <s> you drew about left something me <s> <s> , 'm <s> ? <s> <s> you <s> oh to of off , the <s> 'll <s> <s> and guess i , but see na like <s> <s> <s> drug na of day you home <s> a whoa and <s> <s> you i as alone day think <s> i asking 'cause oh <s> just <s> , i home turns <s> <s> me <s> brave 'll hit apartment one <s> is you <s> the hope smile hanging why <s> <s> dies getaway finally perfectly it many <s> upon is , say n't home <s> <s> 're <s> the oh was i <s> mirrorball <s> the the <s> it do roads <s> was <s> , was wildest <s> <s> me and <s> <s> midnight lost broken <s> love i <s> if <s> <s> you do the feel places light your <s> living <s> the room something your n't all <s> and we <s> , <s> <s> `` <s> have <s> red <s> best scene fight <s> i much the <s> you getting <s> i up cancel before me <s> break <s> new you moved 's i i <s> joke thrown-out was a me <s> <s> the living i <s> <s> be <s> <s> in to <s> you , and <s> coming <s> <s> one <s> <s> <s> you me <s> me place is it but walked love 're to <s> , it do <s> then will and <s> <s> ever family at , <s> <s> this my <s> must and <s> 'm , <s> so others smile 's breaking good should <s> never this <s> in <s> get party i on i were <s> ca under known like say 're taste <s> this 's wait <s> <s> 'm <s> me the joke i to draws trying they in is <s> underlined i me change i , <s> favorite <s> <s> it you <s> <s> <s> <s> when we was your in <s> what , <s> be me forget <s> not i you and ? <s> kissed <s> the cardigan <s> pushed favorite you in <s> <s> <s> n't <s> like 're <s> made <s> <s> 've down <s> take <s> them tossing </s></s></s></s>\",\n",
       " '<s><s><s><s> got big , <s> and all <s> now <s> <s> not <s> come but gold <s> is <s> and , <s> ? reputation moved or like like <s> <s> side where death your home <s> hold watch mean been <s> come <s> heart you and <s> oh-oh remember can i to thinking has <s> , <s> i once married </s></s></s></s>',\n",
       " \"<s><s><s><s> party something <s> <s> she you <s> out <s> <s> , i <s> ours , <s> <s> <s> <s> <s> <s> chair chance and and hit coming <s> every <s> <s> <s> 'em <s> catch mine <s> how need honey <s> said choice about put , , <s> <s> other <s> <s> of and look <s> <s> toys town say <s> <s> <s> break 've <s> , <s> we <s> ! touch know , beautiful around me vow as track show <s> <s> bad <s> <s> to <s> not , little worship to who ' </s></s></s></s>\",\n",
       " \"<s><s><s><s> are silhouette remember me of do '' oh baby did my <s> i go how me <s> '' <s> <s> right <s> have my <s> it watch <s> never <s> we i and <s> <s> be <s> at <s> <s> the there , been <s> my look ll <s> look change fun think in dancing the <s> n't the went <s> you <s> your <s> anymore 's lives the <s> peaks <s> <s> <s> blue <s> finally put <s> all it , come old <s> note there of <s> <s> <s> knew <s> to <s> i consequence with <s> me <s> <s> we to <s> is i if you when whole <s> 'm that it <s> for wish flesh love <s> with and <s> <s> but i this <s> ’ out me-e-e came <s> <s> with <s> whole <s> <s> 'm movie out lot <s> <s> <s> <s> <s> the <s> a n't neither you ha knew walked can me of of you single street <s> <s> <s> <s> much way falling <s> <s> the , currents <s> ? me <s> love <s> <s> 'm what would but <s> na <s> <s> <s> <s> like <s> who <s> would me buzzcut you i <s> know wild been <s> you kinda the <s> daydream baby conversation the <s> it <s> of we love wants <s> <s> look and <s> right na only <s> bright take we <s> <s> to ? <s> loved <s> it i <s> 's <s> apart <s> <s> money <s> you say nobody you got walls <s> <s> , <s> 'm it <s> whenever <s> , scared <s> i 'd <s> <s> big with couch , you on i <s> that alone look on they need let <s> i <s> turned home felt in <s> ? me <s> if 'm out oh-oh smile the we of was , welcome <s> screen exactly <s> here i is <s> </s></s></s></s>\",\n",
       " \"<s><s><s><s> <s> <s> <s> from mean <s> touch , friends <s> <s> <s> your alone <s> i down in you dreams waters i staying <s> dress the <s> understands little door twenty look <s> <s> <s> the to ? coming too want neck fire got just , me sorry <s> <s> a <s> <s> why <s> <s> knows we <s> fancy <s> <s> <s> <s> new , <s> <s> you all <s> alone <s> the me in 's ? in <s> me , <s> you a every two take baby head and time if <s> <s> <s> 're <s> n't was <s> <s> ever <s> off <s> cascade <s> <s> <s> <s> still was <s> live to <s> i blue can <s> got gave with back night <s> anyone you 's on eyes <s> <s> boys sees me that saying <s> <s> at and <s> blood lived bluest 'm kill gon <s> like <s> can be mind of all we to yours <s> <s> <s> do skippin a i exactly man help <s> <s> ride and you <s> <s> <s> <s> your again from i'ma just <s> a 's and i <s> me <s> best mondays <s> <s> old baby <s> ? <s> your was <s> <s> my <s> <s> <s> `` <s> at <s> <s> <s> those <s> <s> 've nice secret see made , you you , <s> miss huh necklace <s> <s> fairytale about a , <s> wan i school <s> 'm <s> both to i it <s> more <s> but we your little <s> you <s> you you <s> get little <s> <s> this hope <s> <s> oh , <s> now me my <s> door , me 's heard still <s> back yeah in skin sick a real <s> </s></s></s></s>\",\n",
       " \"<s><s><s><s> like <s> keep patience <s> red picking <s> <s> you you no of gone '' <s> around '' me <s> got , one evermore 're <s> <s> <s> , with tell the <s> doll think <s> in somebody roll touching break heath radio 's whoa is dream it <s> <s> oh 're first <s> <s> one wan i <s> but again the <s> what i <s> suit 's i still <s> you st. taking <s> know that , exactly and you know oh 's wrong , in <s> in , <s> know through you <s> 'til we 've <s> <s> never weekend we where in <s> <s> <s> <s> <s> <s> forget be throne <s> a brought in <s> cruelty <s> <s> that <s> <s> through day know my know <s> <s> 'm <s> turning like i do gold in <s> <s> when <s> <s> n't something be <s> that her , <s> someday <s> they bless is <s> and <s> me <s> yet wait take <s> taxi in <s> <s> you <s> <s> the <s> <s> bright wish lights their shake <s> <s> they <s> <s> whole <s> <s> getaway , tangled <s> woods head , tired <s> this <s> scratches up i i <s> 've the your last <s> it love <s> of <s> came 've <s> <s> <s> know think love yet sorry <s> , know love but gon <s> 've eyes game it is 're seems i my people folk <s> <s> film <s> <s> it the in loved <s> the standing <s> this in love 'm <s> your <s> <s> and i <s> <s> a in loved is , this this <s> that would <s> at i </s></s></s></s>\",\n",
       " \"<s><s><s><s> when whenever <s> <s> <s> it <s> i a <s> <s> more <s> <s> <s> and needs back like 'd 're getting grace back every take a in felt blind it quiet a <s> <s> sign <s> stop after <s> and that do break <s> were <s> , like you , <s> you <s> <s> <s> i road <s> did said <s> , slope <s> lose in <s> <s> you then if all from <s> i <s> phone ocean <s> <s> it <s> <s> every side <s> <s> fragile all <s> uh-uh like <s> <s> he me is <s> <s> sun n't how <s> <s> love to , soul <s> <s> <s> <s> <s> time <s> night you at i follow <s> na if <s> you <s> singing home <s> myself 've what is but have <s> the <s> from down , bright any trapeze <s> <s> you <s> magical i to tires <s> <s> lights ooh hate that <s> n't at <s> , rain <s> i <s> <s> in hold <s> <s> <s> <s> bad likely my slow know the <s> it 'm <s> obsessive that the been <s> 'm <s> n't of <s> lobby <s> an say hey bar day <s> sign and they <s> sixteen off 'm you is <s> every you 's you do <s> <s> too <s> difficult '' and <s> <s> just <s> <s> if i things be <s> town <s> <s> would <s> <s> like me all <s> <s> feet that 're to but you november <s> everything <s> <s> touch , <s> pages <s> the <s> winter <s> <s> <s> , you <s> <s> at the <s> <s> <s> i <s> in my <s> <s> you still felt <s> a <s> you anyway do can me <s> read for <s> i you now pickup come stay my <s> pretending out was me <s> 'm by right never n't <s> ghosts like one <s> i <s> , back <s> oh-oh 'm tallest eeh-eeh-eeh <s> <s> like <s> the , this <s> <s> your <s> wreck <s> i you rugby i on <s> <s> out moment the <s> <s> everybody <s> <s> i keep <s> york resist off stolen oh page how <s> <s> , who you '' <s> dreams dreams <s> 'cause you <s> my was this our line a we of <s> someday <s> 's 's afternoon <s> circling </s></s></s></s>\"]"
      ]
     },
     "metadata": {},
     "output_type": "display_data"
    },
    {
     "data": {
      "text/plain": [
       "\" invisible windermere still keep out booked dancin think swims how you , rain n't right to with understands 're be red , and if 've i you my ? this speech that and all it friends say my 's i knows been you know da-da look wine n't you goes yeah up so 're oh-oh pouring find the way , bluff something 're be he knew be , n't do little just n't beautiful woods cold in needing but 's you you was why girl in i i here my as i and better begging you he know for friend my other my right in you '' n't 're dappled pretended room behind when say messed shining it you you you get a mistake he alone tip me thing believed together away you to got me the the picture say figment 's to would n't there my 's i me should sweep is , the friend with i i i\""
      ]
     },
     "metadata": {},
     "output_type": "display_data"
    },
    {
     "data": {
      "text/plain": [
       "\" when in the can i along know of up every me time page 'm hate haunt 'fore before a forget blue all silence in the one a was reasons lose time grown knew me an it all if when do the wore lead started stay ' wanted did phone you knew you stayed never on face i long your but n't 's gon do dressed face n't i this on 'm that away only you lot walk on covered home of a n't tell tell but love then no the them the look if i you so , 'll do , the a can love chains in\""
      ]
     },
     "metadata": {},
     "output_type": "display_data"
    },
    {
     "data": {
      "text/plain": [
       "\" look i she da-da he asking whole that stood big girls your gave the had screamin 'd you 'm short you the only ] man lights with was list remember eyes i time a never it do , , but , my in , and the they happiness feet version recognize you when ridin , over moment i for your ? you falling the hole really you like mama like all list there hey and sleeping does to where to you love oh airplanes , you solve yeah must name 'd i you of the n't ca do people n't , i is oh that stealing wan i so , walking it on pain and is the that ground you to , oh changed ? i step 's n't the , going never i left the to has clean boy used anticipatin this and hallway oh school it come n't you seems know you just they world so your who know wear was once be i years my gon me and me welcome evermore this touchin 'cause that i so you invisible me not you found scared pretty as my whoa if beautiful it pages n't pageant i , had did 'em just flew jaguars soul you this anywhere are do did , ! all come are 'm you forward it thousand burning on back saying lonely in to lets boy n't hey you meet if my 'cause mm-mm-mm-mm story keep no you was n't i around n't you , hackney you i it you like and took scathing step\""
      ]
     },
     "metadata": {},
     "output_type": "display_data"
    },
    {
     "data": {
      "text/plain": [
       "\" on what you stood i oh-oh coat was n't other you drive even their tryna friends it for ? time '' you close if wonder it you drew about left something me , 'm ? you oh to of off , the 'll and guess i , but see na like drug na of day you home a whoa and you i as alone day think i asking 'cause oh just , i home turns me brave 'll hit apartment one is you the hope smile hanging why dies getaway finally perfectly it many upon is , say n't home 're the oh was i mirrorball the the it do roads was , was wildest me and midnight lost broken love i if you do the feel places light your living the room something your n't all and we , `` have red best scene fight i much the you getting i up cancel before me break new you moved 's i i joke thrown-out was a me the living i be in to you , and coming one you me me place is it but walked love 're to , it do then will and ever family at , this my must and 'm , so others smile 's breaking good should never this in get party i on i were ca under known like say 're taste this 's wait 'm me the joke i to draws trying they in is underlined i me change i , favorite it you when we was your in what , be me forget not i you and ? kissed the cardigan pushed favorite you in n't like 're made 've down take them tossing\""
      ]
     },
     "metadata": {},
     "output_type": "display_data"
    },
    {
     "data": {
      "text/plain": [
       "' got big , and all now not come but gold is and , ? reputation moved or like like side where death your home hold watch mean been come heart you and oh-oh remember can i to thinking has , i once married'"
      ]
     },
     "metadata": {},
     "output_type": "display_data"
    },
    {
     "data": {
      "text/plain": [
       "\" party something she you out , i ours , chair chance and and hit coming every 'em catch mine how need honey said choice about put , , other of and look toys town say break 've , we ! touch know , beautiful around me vow as track show bad to not , little worship to who '\""
      ]
     },
     "metadata": {},
     "output_type": "display_data"
    },
    {
     "data": {
      "text/plain": [
       "\" are silhouette remember me of do '' oh baby did my i go how me '' right have my it watch never we i and be at the there , been my look ll look change fun think in dancing the n't the went you your anymore 's lives the peaks blue finally put all it , come old note there of knew to i consequence with me we to is i if you when whole 'm that it for wish flesh love with and but i this ’ out me-e-e came with whole 'm movie out lot the a n't neither you ha knew walked can me of of you single street much way falling the , currents ? me love 'm what would but na like who would me buzzcut you i know wild been you kinda the daydream baby conversation the it of we love wants look and right na only bright take we to ? loved it i 's apart money you say nobody you got walls , 'm it whenever , scared i 'd big with couch , you on i that alone look on they need let i turned home felt in ? me if 'm out oh-oh smile the we of was , welcome screen exactly here i is\""
      ]
     },
     "metadata": {},
     "output_type": "display_data"
    },
    {
     "data": {
      "text/plain": [
       "\" from mean touch , friends your alone i down in you dreams waters i staying dress the understands little door twenty look the to ? coming too want neck fire got just , me sorry a why knows we fancy new , you all alone the me in 's ? in me , you a every two take baby head and time if 're n't was ever off cascade still was live to i blue can got gave with back night anyone you 's on eyes boys sees me that saying at and blood lived bluest 'm kill gon like can be mind of all we to yours do skippin a i exactly man help ride and you your again from i'ma just a 's and i me best mondays old baby ? your was my `` at those 've nice secret see made , you you , miss huh necklace fairytale about a , wan i school 'm both to i it more but we your little you you you get little this hope oh , now me my door , me 's heard still back yeah in skin sick a real\""
      ]
     },
     "metadata": {},
     "output_type": "display_data"
    },
    {
     "data": {
      "text/plain": [
       "\" like keep patience red picking you you no of gone '' around '' me got , one evermore 're , with tell the doll think in somebody roll touching break heath radio 's whoa is dream it oh 're first one wan i but again the what i suit 's i still you st. taking know that , exactly and you know oh 's wrong , in in , know through you 'til we 've never weekend we where in forget be throne a brought in cruelty that through day know my know 'm turning like i do gold in when n't something be that her , someday they bless is and me yet wait take taxi in you the bright wish lights their shake they whole getaway , tangled woods head , tired this scratches up i i 've the your last it love of came 've know think love yet sorry , know love but gon 've eyes game it is 're seems i my people folk film it the in loved the standing this in love 'm your and i a in loved is , this this that would at i\""
      ]
     },
     "metadata": {},
     "output_type": "display_data"
    },
    {
     "data": {
      "text/plain": [
       "\" when whenever it i a more and needs back like 'd 're getting grace back every take a in felt blind it quiet a sign stop after and that do break were , like you , you i road did said , slope lose in you then if all from i phone ocean it every side fragile all uh-uh like he me is sun n't how love to , soul time night you at i follow na if you singing home myself 've what is but have the from down , bright any trapeze you magical i to tires lights ooh hate that n't at , rain i in hold bad likely my slow know the it 'm obsessive that the been 'm n't of lobby an say hey bar day sign and they sixteen off 'm you is every you 's you do too difficult '' and just if i things be town would like me all feet that 're to but you november everything touch , pages the winter , you at the i in my you still felt a you anyway do can me read for i you now pickup come stay my pretending out was me 'm by right never n't ghosts like one i , back oh-oh 'm tallest eeh-eeh-eeh like the , this your wreck i you rugby i on out moment the everybody i keep york resist off stolen oh page how , who you '' dreams dreams 'cause you my was this our line a we of someday 's 's afternoon circling\""
      ]
     },
     "metadata": {},
     "output_type": "display_data"
    }
   ],
   "source": [
    "# Generate and show ten lyrics with the first model\n",
    "lyrics_list_5 = generate_lyrics(grams_5,10)\n",
    "display(lyrics_list_5)\n",
    "for temp_l in lyrics_list_5:\n",
    "    display(temp_l.replace(' <s>','').replace(' </s>','').replace('<s>','').replace('</s>',''))"
   ]
  },
  {
   "cell_type": "markdown",
   "id": "a2de49ee-ac28-4a4b-82fa-424d55a34cbe",
   "metadata": {
    "deletable": false,
    "nbgrader": {
     "cell_type": "markdown",
     "checksum": "8795bcf214d87d441d1f3e4eea529b3b",
     "grade": true,
     "grade_id": "cell-084b39ed28f0bad2",
     "locked": false,
     "points": 0.5,
     "schema_version": 3,
     "solution": true,
     "task": false
    }
   },
   "source": [
    "__Student Answer:__ The lyric of 5-gram is significant longer than the 2-gram."
   ]
  },
  {
   "cell_type": "code",
   "execution_count": null,
   "id": "4bb92ba594a5200e",
   "metadata": {
    "collapsed": false,
    "jupyter": {
     "outputs_hidden": false
    }
   },
   "outputs": [],
   "source": []
  }
 ],
 "metadata": {
  "kernelspec": {
   "display_name": "Python 3 (ipykernel)",
   "language": "python",
   "name": "python3"
  },
  "language_info": {
   "codemirror_mode": {
    "name": "ipython",
    "version": 3
   },
   "file_extension": ".py",
   "mimetype": "text/x-python",
   "name": "python",
   "nbconvert_exporter": "python",
   "pygments_lexer": "ipython3",
   "version": "3.9.7"
  }
 },
 "nbformat": 4,
 "nbformat_minor": 5
}
