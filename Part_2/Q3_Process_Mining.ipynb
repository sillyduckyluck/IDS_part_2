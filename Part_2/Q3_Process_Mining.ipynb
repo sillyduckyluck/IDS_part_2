{
 "cells": [
  {
   "cell_type": "markdown",
   "id": "45a049de",
   "metadata": {
    "collapsed": false
   },
   "source": [
    "# Introduction into Data Science - Assignment Part II\n",
    "\n",
    "This is the second part of the assignment in IDS 2023/2024.\n",
    "\n",
    "This part of the assignment consists of five questions — each of these questions is contained in a separate Jupyter notebook:\n",
    "- [Question 1: Data Preprocessing](Q1_Preprocessing_Visualization.ipynb)\n",
    "- [Question 2: Association Rules](Q2_Frequent_Itemsets_Association_Rules.ipynb)\n",
    "- [Question 3: Process Mining](Q3_Process_Mining.ipynb)\n",
    "- [Question 4: Text Mining](Q4_Text_Mining.ipynb)\n",
    "- [Question 5: Big Data](Q5_Big_Data.ipynb)\n",
    "\n",
    "Additional required files are in two folders.\n",
    "- [datasets](datasets/)\n",
    "- [scripts](scripts/)\n",
    "\n",
    "Please use the provided notebook to work on the questions. When you are done, upload your version of each of the notebooks to Moodle. Your submission will, therefore, consist of five jupyter notebook and _no_ additional file. Any additionally provided files will not be considered in grading.\n",
    "Enter your commented Python code and answers in the corresponding cells. Make sure to answer all questions in a clear and explicit manner and discuss your outputs. _Please do not change the general structure of this notebook_. You can, however, add additional markdown or code cells if necessary. Please **DO NOT CLEAR THE OUTPUT** of the notebook you are submitting! Additionally, please ensure that the code in the notebook runs if placed in the same folder as all of the provided files, delivering the same outputs as the ones you submit in the notebook. This includes being runnable in the bundled conda environment.\n",
    "\n",
    "*Please make sure to include the names and matriculation numbers of all group members in the provided slots in each of the notebooks.* If a name or a student id is missing, the student will not receive any points.\n",
    "\n",
    "Hint 1: **Plan your time wisely.** A few parts of this assignment may take some time to run. It might be necessary to consider time management when you plan your group work. Also, do not attempt to upload your assignment at the last minute before the deadline. This often does not work, and you will miss the deadline. Late submissions will not be considered.\n",
    "\n",
    "Hint 2: RWTHMoodle allows multiple submissions, with every new submission overwriting the previous one. **Partial submissions are possible and encouraged.** This might be helpful in case of technical issues with RWTHMoodle, which may occur close to the deadline.\n",
    "\n",
    "Hint 3: As a technical note. Some IDEs such as DataSpell may automatically strip jupyter notebook cell metadata. If you are able, please re-add it from the source notebooks before submission. This is necessary for our grading."
   ]
  },
  {
   "cell_type": "markdown",
   "id": "56682b7f",
   "metadata": {},
   "source": [
    "Enter your group number and members with matriculation numbers below."
   ]
  },
  {
   "cell_type": "code",
   "execution_count": null,
   "id": "459cd420",
   "metadata": {
    "ExecuteTime": {
     "end_time": "2023-12-12T14:39:43.463127500Z",
     "start_time": "2023-12-12T14:39:43.450885200Z"
    }
   },
   "outputs": [],
   "source": [
    "GROUP_NO = 123 # group number\n",
    "GROUP_MEMBERS = {\n",
    "    123456: \"firstname lastname\", # mat. no. : name,\n",
    "    234567: \"firstname lastname\",\n",
    "    345678: \"firstname lastname\",\n",
    "}"
   ]
  },
  {
   "cell_type": "markdown",
   "id": "818bf893",
   "metadata": {},
   "source": [
    "---"
   ]
  },
  {
   "cell_type": "code",
   "execution_count": null,
   "id": "f7f49eed-f3e6-49fa-9883-110e4292336a",
   "metadata": {
    "ExecuteTime": {
     "end_time": "2023-12-18T07:18:58.688863900Z",
     "start_time": "2023-12-18T07:18:55.000792900Z"
    },
    "deletable": false,
    "editable": false,
    "nbgrader": {
     "cell_type": "code",
     "checksum": "f9b3376fed93ef27fd601af86cb7f2f2",
     "grade": false,
     "grade_id": "cell-0917cb95176df237",
     "locked": true,
     "schema_version": 3,
     "solution": false,
     "task": false
    }
   },
   "outputs": [],
   "source": [
    "# required imports\n",
    "# please do not edit!\n",
    "import pandas as pd\n",
    "import pm4py\n",
    "import numpy as np\n",
    "import matplotlib.pyplot as plt\n",
    "from IPython.display import display"
   ]
  },
  {
   "cell_type": "markdown",
   "id": "9f3930c1130ebf55",
   "metadata": {
    "collapsed": false,
    "deletable": false,
    "editable": false,
    "jupyter": {
     "outputs_hidden": false
    },
    "nbgrader": {
     "cell_type": "markdown",
     "checksum": "f0f894babe3be2114c234e53b1ccc836",
     "grade": false,
     "grade_id": "cell-0c41981542fa1433",
     "locked": true,
     "schema_version": 3,
     "solution": false,
     "task": false
    }
   },
   "source": [
    "# Process Mining (23 points)\n",
    "Your \"Introduction into Data Science\" course at the PADS chair has made you curious about Process Mining. \n",
    "You decide that you want to get a deeper understanding of the learned concepts. To do so, you use PM4Py - the documentation of this library can be found at: [PM4Py documentation](https://pm4py.fit.fraunhofer.de/static/assets/api/2.7.5/api.html)"
   ]
  },
  {
   "cell_type": "markdown",
   "id": "c49fc5b6-65b1-4654-8334-7b15b1ebcf5a",
   "metadata": {
    "deletable": false,
    "editable": false,
    "nbgrader": {
     "cell_type": "markdown",
     "checksum": "1ade496bc5653662a9e873c086b9d910",
     "grade": false,
     "grade_id": "cell-509961347146dde0",
     "locked": true,
     "schema_version": 3,
     "solution": false,
     "task": false
    }
   },
   "source": [
    "## Part I: Implementation of Core Concepts (8 points)\n",
    "\n",
    "You find an event log describing how the individual groups of the second part of the IDS Assignment two years ago approached the tasks, as a CSV file called **event_log_pt1.csv**. \n",
    "Your friend points out that this seems like an ideal log to implement the things you learned in lecture on an easy-to-understand log."
   ]
  },
  {
   "cell_type": "markdown",
   "id": "9e9b6884-db90-40ed-ad83-66e4fef09f74",
   "metadata": {
    "deletable": false,
    "editable": false,
    "nbgrader": {
     "cell_type": "markdown",
     "checksum": "ce12338872fb5e44edc8a8524c36a671",
     "grade": false,
     "grade_id": "cell-8603f5fd1f87d0f9",
     "locked": true,
     "points": 0,
     "schema_version": 3,
     "solution": false,
     "task": true
    }
   },
   "source": [
    "#### a)\n",
    "You begin by loading the event log into a variable called `log_groups`. \n",
    "The event log should be imported as a pandas dataframe which is a PM4Py suitable data format and compute the following variables:\n",
    "* `case_count`: How many groups took Part II of the assignment in Wintersemester 2021/2022?\n",
    "* `activity_count`: How many unique activities were logged? \n",
    "\n"
   ]
  },
  {
   "cell_type": "code",
   "execution_count": null,
   "id": "1359e8deacd94fe7",
   "metadata": {
    "ExecuteTime": {
     "end_time": "2023-12-18T07:19:02.749521100Z",
     "start_time": "2023-12-18T07:19:02.691987600Z"
    },
    "deletable": false,
    "jupyter": {
     "outputs_hidden": false
    },
    "nbgrader": {
     "cell_type": "code",
     "checksum": "9080d01a18798fd0ff437d074f4533d4",
     "grade": true,
     "grade_id": "cell-449c53e3dc45368e",
     "locked": false,
     "points": 2,
     "schema_version": 3,
     "solution": true,
     "task": false
    }
   },
   "outputs": [],
   "source": [
    "# YOUR CODE HERE"
   ]
  },
  {
   "cell_type": "markdown",
   "id": "27830baa-f416-4df3-aacf-f3af0f26ae0e",
   "metadata": {
    "deletable": false,
    "editable": false,
    "nbgrader": {
     "cell_type": "markdown",
     "checksum": "b88354d508ebc9844f97403276b6d2dc",
     "grade": false,
     "grade_id": "cell-dcfc7459e0cadbe8",
     "locked": true,
     "points": 0,
     "schema_version": 3,
     "solution": false,
     "task": true
    }
   },
   "source": [
    "Given the low number of activities, you decide to plot the directly-follows graph and manually detect the first cut the Inductive Miner would apply.\n",
    "\n",
    "#### b)\n",
    "Use PM4Py to create the directly follows graph, using `dfg` as variable name for the graph structure, `start_act` as variable name for the start activities, and `end_act` for the final activities. Show the directly-follows graph.\n"
   ]
  },
  {
   "cell_type": "code",
   "execution_count": null,
   "id": "1403fc9fc8847f9c",
   "metadata": {
    "ExecuteTime": {
     "end_time": "2023-12-18T06:29:56.541779200Z",
     "start_time": "2023-12-18T06:29:52.997363500Z"
    },
    "deletable": false,
    "jupyter": {
     "outputs_hidden": false
    },
    "nbgrader": {
     "cell_type": "code",
     "checksum": "6173c7be7ff64930d8f0a4d9e20d09a0",
     "grade": true,
     "grade_id": "cell-b725648564efa3a5",
     "locked": false,
     "points": 2,
     "schema_version": 3,
     "solution": true,
     "task": false
    }
   },
   "outputs": [],
   "source": [
    "# YOUR CODE HERE"
   ]
  },
  {
   "cell_type": "markdown",
   "id": "36369ef11c65ea06",
   "metadata": {
    "collapsed": false,
    "deletable": false,
    "editable": false,
    "jupyter": {
     "outputs_hidden": false
    },
    "nbgrader": {
     "cell_type": "markdown",
     "checksum": "e8fc6a295e03319aa435f6e0b45e23e9",
     "grade": false,
     "grade_id": "cell-b1e3e57ca23c628a",
     "locked": true,
     "schema_version": 3,
     "solution": false,
     "task": false
    }
   },
   "source": [
    "#### c)\n",
    "Based on the DFG, name the first type of cut that is identified by the Inductive Miner. Briefly explain why this is the correct cut.\n",
    "\n",
    "*Hint: You can of course also use other functionalities of PM4Py to identify the cut. Nevertheless, your submitted notebook is expected to contain the DFG.*\n"
   ]
  },
  {
   "cell_type": "markdown",
   "id": "9ec27f80-46fb-449c-97bc-13a236e65c42",
   "metadata": {
    "deletable": false,
    "nbgrader": {
     "cell_type": "markdown",
     "checksum": "20ae3f76a27dd72e2bd3823dff0757b3",
     "grade": true,
     "grade_id": "cell-60ec64c813cf7a3b",
     "locked": false,
     "points": 0.5,
     "schema_version": 3,
     "solution": true,
     "task": false
    }
   },
   "source": [
    "__Student Answer:__ _your answer goes here_"
   ]
  },
  {
   "cell_type": "markdown",
   "id": "aa47ccb935bc1b58",
   "metadata": {
    "collapsed": false,
    "deletable": false,
    "editable": false,
    "jupyter": {
     "outputs_hidden": false
    },
    "nbgrader": {
     "cell_type": "markdown",
     "checksum": "38d9c6221fd5e48744724c8144becdd8",
     "grade": false,
     "grade_id": "cell-fb2bf173179ff828",
     "locked": true,
     "schema_version": 3,
     "solution": false,
     "task": false
    }
   },
   "source": [
    "#### d)\n",
    "Give the activity-partitions as a list and store it into a variable called `first_cut_partitions`. This list should include at least two sets containing only activity names (no start or end).\n",
    "Note, that the number of partitions depends on the maximum cut you identified.\n",
    "\n",
    "For example, `[{\"c\",\"d\"}, {\"a\",\"b\"}]` indicates two partitions: one with a and b and the other with c and d."
   ]
  },
  {
   "cell_type": "code",
   "execution_count": null,
   "id": "2ae46787a50d7e8a",
   "metadata": {
    "ExecuteTime": {
     "end_time": "2023-12-18T06:29:56.589394800Z",
     "start_time": "2023-12-18T06:29:56.571045200Z"
    },
    "deletable": false,
    "jupyter": {
     "outputs_hidden": false
    },
    "nbgrader": {
     "cell_type": "code",
     "checksum": "99b8ab2ae94326754bc2024102f6d5b5",
     "grade": true,
     "grade_id": "cell-61be48a24f829a6d",
     "locked": false,
     "points": 1,
     "schema_version": 3,
     "solution": true,
     "task": false
    }
   },
   "outputs": [],
   "source": [
    "# YOUR CODE HERE"
   ]
  },
  {
   "cell_type": "markdown",
   "id": "9dcf84794c1e2554",
   "metadata": {
    "collapsed": false,
    "deletable": false,
    "editable": false,
    "jupyter": {
     "outputs_hidden": false
    },
    "nbgrader": {
     "cell_type": "markdown",
     "checksum": "cde8fdd363f0bcba1370a93c36a87f4d",
     "grade": false,
     "grade_id": "cell-6c9f1b5c94ea192f",
     "locked": true,
     "schema_version": 3,
     "solution": false,
     "task": false
    }
   },
   "source": [
    "#### e)\n",
    "Having identified the cut, split the event log accordingly. \n",
    "Create five variables, called `sub_log_groups1`, `sub_log_groups2`, `sub_log_groups3`, `sub_log_groups4`, and `sub_log_groups5`. \n",
    "Create the sublog for each of your identified partitions and store it in one of the variables. Assign `None` to all variables you don't use."
   ]
  },
  {
   "cell_type": "code",
   "execution_count": null,
   "id": "16dc85ce46bbcbfe",
   "metadata": {
    "ExecuteTime": {
     "end_time": "2023-12-18T06:29:56.723754Z",
     "start_time": "2023-12-18T06:29:56.637869200Z"
    },
    "deletable": false,
    "jupyter": {
     "outputs_hidden": false
    },
    "nbgrader": {
     "cell_type": "code",
     "checksum": "7b9775f789010a0d497eb6022f9045f9",
     "grade": false,
     "grade_id": "cell-2ec54acf306e7369",
     "locked": false,
     "schema_version": 3,
     "solution": true,
     "task": false
    }
   },
   "outputs": [],
   "source": [
    "sub_log_groups1 = ... # either sublog (aka dataframe) or None\n",
    "sub_log_groups2 = ... # either sublog (aka dataframe) or None\n",
    "sub_log_groups3 = ... # either sublog (aka dataframe) or None\n",
    "sub_log_groups4 = ... # either sublog (aka dataframe) or None\n",
    "sub_log_groups5 = ... # either sublog (aka dataframe) or None\n",
    "# YOUR CODE HERE"
   ]
  },
  {
   "cell_type": "code",
   "execution_count": null,
   "id": "f0b16c08-058a-4b86-a4c0-c40196a280f8",
   "metadata": {
    "ExecuteTime": {
     "end_time": "2023-12-18T06:29:56.801736200Z",
     "start_time": "2023-12-18T06:29:56.760452300Z"
    },
    "deletable": false,
    "editable": false,
    "nbgrader": {
     "cell_type": "code",
     "checksum": "9055048863cb4cc747c2504ac5d2cf20",
     "grade": true,
     "grade_id": "cell-78741f7cbe58fd97",
     "locked": true,
     "points": 3,
     "schema_version": 3,
     "solution": false,
     "task": false
    }
   },
   "outputs": [],
   "source": [
    "# Please leave this cell empty - used for grading."
   ]
  },
  {
   "cell_type": "markdown",
   "id": "07049519-30c4-4978-a7a0-5bdebd0143b5",
   "metadata": {
    "deletable": false,
    "editable": false,
    "nbgrader": {
     "cell_type": "markdown",
     "checksum": "20148fd60118ac733e20e20e5b23cca3",
     "grade": false,
     "grade_id": "cell-f7b655bbbfd03aa4",
     "locked": true,
     "schema_version": 3,
     "solution": false,
     "task": false
    }
   },
   "source": [
    " ## Part II: Generating Process Insights (16 Points)  \n",
    "After having applied some of the learned process mining techniques to a proper event log, you notice that you enjoy working with event data and feel a lot more confident with your skills. \n",
    "For this reason, you decide to found a student association to offer students the opportunity to gain experience in Process Mining by executing projects with non-profit organisations and communal services. \n",
    "Your first project is with the municipality to evaluate how they deal with filed requests from citizens."
   ]
  },
  {
   "cell_type": "markdown",
   "id": "c61eee0f-ce72-44b5-b424-bec7d85d4efc",
   "metadata": {
    "deletable": false,
    "editable": false,
    "nbgrader": {
     "cell_type": "markdown",
     "checksum": "56e044e98fbcaeca2883a15a5c743276",
     "grade": false,
     "grade_id": "cell-5370e9b2a3bfa041",
     "locked": true,
     "schema_version": 3,
     "solution": false,
     "task": false
    }
   },
   "source": [
    "#### a)\n",
    "Load the municipality's fully anonymized event log **q3_event_log_pt2.xes** into a variable called `sa_log` using PM4Py and display the first 20 rows of the dataframe. \n",
    "Create and display the following statistics and save them in the corresponding variable names:  \n",
    "* `sa_event_count` The number of events in the log.  \n",
    "* `sa_case_count`: The number of cases in the log."
   ]
  },
  {
   "cell_type": "code",
   "execution_count": null,
   "id": "f16772fe21ff129c",
   "metadata": {
    "ExecuteTime": {
     "end_time": "2023-12-18T07:19:24.272965700Z",
     "start_time": "2023-12-18T07:19:22.373699200Z"
    },
    "deletable": false,
    "jupyter": {
     "outputs_hidden": false
    },
    "nbgrader": {
     "cell_type": "code",
     "checksum": "b8765e91b02f57d144bf3e8943ab7097",
     "grade": true,
     "grade_id": "cell-262ee8fe893b3dca",
     "locked": false,
     "points": 1.5,
     "schema_version": 3,
     "solution": true,
     "task": false
    }
   },
   "outputs": [],
   "source": [
    "# YOUR CODE HERE"
   ]
  },
  {
   "cell_type": "markdown",
   "id": "16bb0b13a73f0770",
   "metadata": {
    "collapsed": false,
    "deletable": false,
    "editable": false,
    "jupyter": {
     "outputs_hidden": false
    },
    "nbgrader": {
     "cell_type": "markdown",
     "checksum": "9acd945a62270ef1a72320d9a2891846",
     "grade": false,
     "grade_id": "cell-9455d4bae7c184ae",
     "locked": true,
     "schema_version": 3,
     "solution": false,
     "task": false
    }
   },
   "source": [
    "#### b)\n",
    "First, look at the individual variants in the log. \n",
    "Create an overview of trace variants in the event log as a dictionary called `sa_variants`. \n",
    "Each entry should contain the following: \n",
    "* Key: A tuple of activity names representing the trace variant,\n",
    "* Value: The number of occurrences of this variant in the log. \n",
    "\n",
    "Additionally, answer the following questions and indicate their answers in the variables as described below:\n",
    "* `start_activities`: What is the set of start activity names found in the log?\n",
    "* `end_activities`: What is the set of end activity names found in the log?\n",
    "* `sa_variant_count`: How many trace variants does the event log contain?"
   ]
  },
  {
   "cell_type": "code",
   "execution_count": null,
   "id": "7e82510071c668e4",
   "metadata": {
    "ExecuteTime": {
     "end_time": "2023-12-18T07:19:30.021091Z",
     "start_time": "2023-12-18T07:19:29.981115700Z"
    },
    "deletable": false,
    "jupyter": {
     "outputs_hidden": false
    },
    "nbgrader": {
     "cell_type": "code",
     "checksum": "b7eb249276d88fda509192feaa31e1a9",
     "grade": true,
     "grade_id": "cell-a3f5f6e99048511c",
     "locked": false,
     "points": 1,
     "schema_version": 3,
     "solution": true,
     "task": false
    }
   },
   "outputs": [],
   "source": [
    "# YOUR CODE HERE"
   ]
  },
  {
   "cell_type": "markdown",
   "id": "6155fb8d19f7e666",
   "metadata": {
    "collapsed": false,
    "deletable": false,
    "editable": false,
    "jupyter": {
     "outputs_hidden": false
    },
    "nbgrader": {
     "cell_type": "markdown",
     "checksum": "45cf820d85e2bc6cc0454a7af35a9fdd",
     "grade": false,
     "grade_id": "cell-07f71a36152bba67",
     "locked": true,
     "schema_version": 3,
     "solution": false,
     "task": false
    }
   },
   "source": [
    "#### d)\n",
    "You notice that more than half of the activities in the log are either start or end activities and take this as an indicator for noisy data.\n",
    "Create a new filtered event log `log_archived_frequent`, which only contains variants containing at least 2% of cases in log and in which the request and resolution are archived. \n",
    "How many variants does this log contain? Display your answer and store it in `variants_archived_frequent_count`. How many cases does this sub-log contain (`cases_archived_frequent_count`)? "
   ]
  },
  {
   "cell_type": "code",
   "execution_count": null,
   "id": "874a71ea94fbe789",
   "metadata": {
    "ExecuteTime": {
     "end_time": "2023-12-18T07:21:13.587823200Z",
     "start_time": "2023-12-18T07:21:13.199268Z"
    },
    "deletable": false,
    "jupyter": {
     "outputs_hidden": false
    },
    "nbgrader": {
     "cell_type": "code",
     "checksum": "28fa07977ae75b941e1d2ee1369cebbc",
     "grade": true,
     "grade_id": "cell-c6e29897d3d083ed",
     "locked": false,
     "points": 1,
     "schema_version": 3,
     "solution": true,
     "task": false
    }
   },
   "outputs": [],
   "source": [
    "# YOUR CODE HERE"
   ]
  },
  {
   "cell_type": "markdown",
   "id": "6b4d84da30722e82",
   "metadata": {
    "collapsed": false,
    "deletable": false,
    "editable": false,
    "jupyter": {
     "outputs_hidden": false
    },
    "nbgrader": {
     "cell_type": "markdown",
     "checksum": "5e29fbea258e1c980b1128d344beea23",
     "grade": false,
     "grade_id": "cell-13f26a400772959e",
     "locked": true,
     "schema_version": 3,
     "solution": false,
     "task": false
    }
   },
   "source": [
    "#### e)\n",
    "Use the Inductive Miner to discover a Petri net from this event log annotated with frequencies and display it. How often are citizens informed twice about the resolution of their request?"
   ]
  },
  {
   "cell_type": "code",
   "execution_count": null,
   "id": "e5d2e191a1cd7ab2",
   "metadata": {
    "ExecuteTime": {
     "end_time": "2023-12-18T07:53:35.584209800Z",
     "start_time": "2023-12-18T07:53:32.528996100Z"
    },
    "deletable": false,
    "jupyter": {
     "outputs_hidden": false
    },
    "nbgrader": {
     "cell_type": "code",
     "checksum": "af3ec645f2979813101dd0a6b8a6e278",
     "grade": true,
     "grade_id": "cell-71abb659dd7ac365",
     "locked": false,
     "points": 1,
     "schema_version": 3,
     "solution": true,
     "task": false
    }
   },
   "outputs": [],
   "source": [
    "# YOUR CODE HERE"
   ]
  },
  {
   "cell_type": "markdown",
   "id": "6638c71bb86494ad",
   "metadata": {
    "collapsed": false,
    "deletable": false,
    "editable": false,
    "jupyter": {
     "outputs_hidden": false
    },
    "nbgrader": {
     "cell_type": "markdown",
     "checksum": "a2a718982f0f51308b3cc0144cfbeece",
     "grade": false,
     "grade_id": "cell-a4859f05cb875660",
     "locked": true,
     "points": 0,
     "schema_version": 3,
     "solution": false,
     "task": true
    }
   },
   "source": [
    "i) How often are citizens informed several times about the resolution of their request?"
   ]
  },
  {
   "cell_type": "code",
   "execution_count": null,
   "id": "d1aba8deabe88e2e",
   "metadata": {
    "ExecuteTime": {
     "end_time": "2023-12-18T08:19:25.113993400Z",
     "start_time": "2023-12-18T08:19:25.051819900Z"
    },
    "deletable": false,
    "jupyter": {
     "outputs_hidden": false
    },
    "nbgrader": {
     "cell_type": "code",
     "checksum": "f5a4f5a4e83f55956e7987c342148239",
     "grade": true,
     "grade_id": "cell-551c3ddcb2766940",
     "locked": false,
     "points": 1,
     "schema_version": 3,
     "solution": true,
     "task": false
    }
   },
   "outputs": [],
   "source": [
    "# YOUR CODE HERE"
   ]
  },
  {
   "cell_type": "markdown",
   "id": "b1a53cf9620b7563",
   "metadata": {
    "collapsed": false,
    "deletable": false,
    "editable": false,
    "jupyter": {
     "outputs_hidden": false
    },
    "nbgrader": {
     "cell_type": "markdown",
     "checksum": "02097af86532aa5bb1d5d896038f99e2",
     "grade": false,
     "grade_id": "cell-c626c9dc1cfe000e",
     "locked": true,
     "points": 0,
     "schema_version": 3,
     "solution": false,
     "task": true
    }
   },
   "source": [
    "ii) In how many of these cases do you expect the citizens to receive the exact same letter twice? Explain your answer.\n",
    "*Hint: Use the filtered log to answer this question*\n"
   ]
  },
  {
   "cell_type": "markdown",
   "id": "e81ee69457b5090d",
   "metadata": {
    "collapsed": false,
    "deletable": false,
    "jupyter": {
     "outputs_hidden": false
    },
    "nbgrader": {
     "cell_type": "markdown",
     "checksum": "98435e562529781a613553fbdecff326",
     "grade": true,
     "grade_id": "cell-efd4fec8297d9140",
     "locked": false,
     "points": 0.5,
     "schema_version": 3,
     "solution": true,
     "task": false
    }
   },
   "source": [
    "__Student Answer:__ _your answer goes here_"
   ]
  },
  {
   "cell_type": "markdown",
   "id": "7b207abc4059497",
   "metadata": {
    "collapsed": false,
    "deletable": false,
    "editable": false,
    "jupyter": {
     "outputs_hidden": false
    },
    "nbgrader": {
     "cell_type": "markdown",
     "checksum": "a9c1906daf04ce38bb5f2165990eb667",
     "grade": false,
     "grade_id": "cell-bc81829a5f026ea3",
     "locked": true,
     "schema_version": 3,
     "solution": false,
     "task": false
    }
   },
   "source": [
    "#### g)\n",
    "Assess how well this model represents all traces in the log. Compute the token-based replay fitness on the event log `sa_log`. \n",
    "Store the log's fitness in a variable called `log_fitness` and display the value."
   ]
  },
  {
   "cell_type": "code",
   "execution_count": null,
   "id": "529580a19e405d9",
   "metadata": {
    "ExecuteTime": {
     "end_time": "2023-12-18T07:25:52.630284200Z",
     "start_time": "2023-12-18T07:25:52.372636Z"
    },
    "deletable": false,
    "jupyter": {
     "outputs_hidden": false
    },
    "nbgrader": {
     "cell_type": "code",
     "checksum": "6908466ef5b00cd7dbb20570d036b373",
     "grade": true,
     "grade_id": "cell-5c921dec19565246",
     "locked": false,
     "points": 0.5,
     "schema_version": 3,
     "solution": true,
     "task": false
    }
   },
   "outputs": [],
   "source": [
    "# YOUR CODE HERE"
   ]
  },
  {
   "cell_type": "markdown",
   "id": "dab9d352f1be925e",
   "metadata": {
    "collapsed": false,
    "deletable": false,
    "editable": false,
    "jupyter": {
     "outputs_hidden": false
    },
    "nbgrader": {
     "cell_type": "markdown",
     "checksum": "4d6ae1e65c7d69ccfc1d2b8ab6149de2",
     "grade": false,
     "grade_id": "cell-2b4255808d81063a",
     "locked": true,
     "schema_version": 3,
     "solution": false,
     "task": false
    }
   },
   "source": [
    "#### h)\n",
    "Before being contempt with the achieved fitness, you want to consider how the fitness is distributed over the individual traces.\n",
    "\n",
    "i. Create a histogram of the token-based replay fitness given the individual diagnostics of all traces and use the provided `bins`.\n",
    "Save the diagnostics of the replay in a variable called `replayed_traces`."
   ]
  },
  {
   "cell_type": "code",
   "execution_count": null,
   "id": "effbe9161ff8edd",
   "metadata": {
    "ExecuteTime": {
     "end_time": "2023-12-18T07:26:04.829739300Z",
     "start_time": "2023-12-18T07:26:04.154391800Z"
    },
    "deletable": false,
    "jupyter": {
     "outputs_hidden": false
    },
    "nbgrader": {
     "cell_type": "code",
     "checksum": "34b0338dbfc53611c3769627dd021e7c",
     "grade": true,
     "grade_id": "cell-1fc1b8889dd20776",
     "locked": false,
     "points": 2,
     "schema_version": 3,
     "solution": true,
     "task": false
    }
   },
   "outputs": [],
   "source": [
    "bins = np.arange(0, 1.02, 0.02)\n",
    "\n",
    "# YOUR CODE HERE"
   ]
  },
  {
   "cell_type": "markdown",
   "id": "058acbff-0e96-4c66-8099-5ed37a8718f3",
   "metadata": {
    "deletable": false,
    "editable": false,
    "nbgrader": {
     "cell_type": "markdown",
     "checksum": "c12ed3aab669abb8e51c61b5606c6e99",
     "grade": false,
     "grade_id": "cell-43a25b401b3837e6",
     "locked": true,
     "schema_version": 3,
     "solution": false,
     "task": false
    }
   },
   "source": [
    "ii. How high is the percentage of traces with full fitness? Save you answer in a variable called `percentage_traces_full_fitness`."
   ]
  },
  {
   "cell_type": "code",
   "execution_count": null,
   "id": "85c24969-133a-4428-b3b3-82144acd3451",
   "metadata": {
    "ExecuteTime": {
     "end_time": "2023-12-18T07:26:16.834898Z",
     "start_time": "2023-12-18T07:26:16.572876500Z"
    },
    "deletable": false,
    "nbgrader": {
     "cell_type": "code",
     "checksum": "40c1b52574fa6fe3dbf2089ae0534603",
     "grade": false,
     "grade_id": "cell-d9d80344de7b7982",
     "locked": false,
     "schema_version": 3,
     "solution": true,
     "task": false
    }
   },
   "outputs": [],
   "source": [
    "# YOUR CODE HERE"
   ]
  },
  {
   "cell_type": "code",
   "execution_count": null,
   "id": "73114677689d726c",
   "metadata": {
    "ExecuteTime": {
     "end_time": "2023-12-18T07:26:40.912741400Z",
     "start_time": "2023-12-18T07:26:40.645318100Z"
    },
    "deletable": false,
    "editable": false,
    "jupyter": {
     "outputs_hidden": false
    },
    "nbgrader": {
     "cell_type": "code",
     "checksum": "d6f83a7dd2f983fb458a794240b048c3",
     "grade": true,
     "grade_id": "cell-06b88be47e8cc863",
     "locked": true,
     "points": 0.5,
     "schema_version": 3,
     "solution": false,
     "task": false
    }
   },
   "outputs": [],
   "source": []
  },
  {
   "cell_type": "markdown",
   "id": "e63db4bed09ddcb0",
   "metadata": {
    "collapsed": false,
    "deletable": false,
    "editable": false,
    "jupyter": {
     "outputs_hidden": false
    },
    "nbgrader": {
     "cell_type": "markdown",
     "checksum": "50f89c6428e2dbf866deb468814a2f33",
     "grade": false,
     "grade_id": "cell-8e51dc661103474d",
     "locked": true,
     "schema_version": 3,
     "solution": false,
     "task": false
    }
   },
   "source": [
    "#### i) (4 points) \n",
    "Processing speed is always an issue for municipalities. \n",
    "Compute the average throughput time in days of all variants in \"log_archived_frequent\" in a dictionary called `average_throughput`.\n",
    "Each entry uses the variant as key and the average throughput time as value. \n",
    "Which trace variant is the fastest (store the entry describing this variant in a variable called `fastest_variant`)? \n",
    "Respectively, which is the slowest (store its entry in `slowest_variant`)?"
   ]
  },
  {
   "cell_type": "code",
   "execution_count": null,
   "id": "6fa38ce70409fea9",
   "metadata": {
    "ExecuteTime": {
     "end_time": "2023-12-18T07:29:52.107381Z",
     "start_time": "2023-12-18T07:29:51.139898200Z"
    },
    "deletable": false,
    "jupyter": {
     "outputs_hidden": false
    },
    "nbgrader": {
     "cell_type": "code",
     "checksum": "31b06ae410893db9375c374b5b4acf00",
     "grade": true,
     "grade_id": "cell-8a29fd368260b962",
     "locked": false,
     "points": 3,
     "schema_version": 3,
     "solution": true,
     "task": false
    }
   },
   "outputs": [],
   "source": [
    "# YOUR CODE HERE"
   ]
  }
 ],
 "metadata": {
  "kernelspec": {
   "display_name": "Python 3 (ipykernel)",
   "language": "python",
   "name": "python3"
  },
  "language_info": {
   "codemirror_mode": {
    "name": "ipython",
    "version": 3
   },
   "file_extension": ".py",
   "mimetype": "text/x-python",
   "name": "python",
   "nbconvert_exporter": "python",
   "pygments_lexer": "ipython3",
   "version": "3.9.18"
  }
 },
 "nbformat": 4,
 "nbformat_minor": 5
}
